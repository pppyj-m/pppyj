{
  "nbformat": 4,
  "nbformat_minor": 0,
  "metadata": {
    "colab": {
      "name": "torch练习.ipynb",
      "provenance": [],
      "collapsed_sections": [],
      "toc_visible": true,
      "authorship_tag": "ABX9TyMlTl4ws7bjPsRC7uG/O8LU",
      "include_colab_link": true
    },
    "kernelspec": {
      "name": "python3",
      "display_name": "Python 3"
    },
    "language_info": {
      "name": "python"
    },
    "widgets": {
      "application/vnd.jupyter.widget-state+json": {
        "4fb60bcffbc74fa7b5003474d1e0fbf2": {
          "model_module": "@jupyter-widgets/controls",
          "model_name": "HBoxModel",
          "model_module_version": "1.5.0",
          "state": {
            "_dom_classes": [],
            "_model_module": "@jupyter-widgets/controls",
            "_model_module_version": "1.5.0",
            "_model_name": "HBoxModel",
            "_view_count": null,
            "_view_module": "@jupyter-widgets/controls",
            "_view_module_version": "1.5.0",
            "_view_name": "HBoxView",
            "box_style": "",
            "children": [
              "IPY_MODEL_48e7f6f521564abda8e4ea314a3a8858",
              "IPY_MODEL_f16450a05320448593de06a24666c74b",
              "IPY_MODEL_d5f5e7aec3e3440d97b6d9a860b0ac94"
            ],
            "layout": "IPY_MODEL_b8e596ed6ee04f73954de02197fb883f"
          }
        },
        "48e7f6f521564abda8e4ea314a3a8858": {
          "model_module": "@jupyter-widgets/controls",
          "model_name": "HTMLModel",
          "model_module_version": "1.5.0",
          "state": {
            "_dom_classes": [],
            "_model_module": "@jupyter-widgets/controls",
            "_model_module_version": "1.5.0",
            "_model_name": "HTMLModel",
            "_view_count": null,
            "_view_module": "@jupyter-widgets/controls",
            "_view_module_version": "1.5.0",
            "_view_name": "HTMLView",
            "description": "",
            "description_tooltip": null,
            "layout": "IPY_MODEL_e1d5dfe32e2f49d3a9a6f261646a8061",
            "placeholder": "​",
            "style": "IPY_MODEL_e4c4479f1a374b0b8696ce19a1eca410",
            "value": ""
          }
        },
        "f16450a05320448593de06a24666c74b": {
          "model_module": "@jupyter-widgets/controls",
          "model_name": "FloatProgressModel",
          "model_module_version": "1.5.0",
          "state": {
            "_dom_classes": [],
            "_model_module": "@jupyter-widgets/controls",
            "_model_module_version": "1.5.0",
            "_model_name": "FloatProgressModel",
            "_view_count": null,
            "_view_module": "@jupyter-widgets/controls",
            "_view_module_version": "1.5.0",
            "_view_name": "ProgressView",
            "bar_style": "success",
            "description": "",
            "description_tooltip": null,
            "layout": "IPY_MODEL_671251d08a6e48b996cfc7187ac58e40",
            "max": 26421880,
            "min": 0,
            "orientation": "horizontal",
            "style": "IPY_MODEL_c6ce436827334d29a2c3d3cf049ff40f",
            "value": 26421880
          }
        },
        "d5f5e7aec3e3440d97b6d9a860b0ac94": {
          "model_module": "@jupyter-widgets/controls",
          "model_name": "HTMLModel",
          "model_module_version": "1.5.0",
          "state": {
            "_dom_classes": [],
            "_model_module": "@jupyter-widgets/controls",
            "_model_module_version": "1.5.0",
            "_model_name": "HTMLModel",
            "_view_count": null,
            "_view_module": "@jupyter-widgets/controls",
            "_view_module_version": "1.5.0",
            "_view_name": "HTMLView",
            "description": "",
            "description_tooltip": null,
            "layout": "IPY_MODEL_e5ec248181ff4f9cbe5167fb31861fc3",
            "placeholder": "​",
            "style": "IPY_MODEL_e02e6d40210a4ce3baec33c1934cd789",
            "value": " 26422272/? [00:04&lt;00:00, 10265340.44it/s]"
          }
        },
        "b8e596ed6ee04f73954de02197fb883f": {
          "model_module": "@jupyter-widgets/base",
          "model_name": "LayoutModel",
          "model_module_version": "1.2.0",
          "state": {
            "_model_module": "@jupyter-widgets/base",
            "_model_module_version": "1.2.0",
            "_model_name": "LayoutModel",
            "_view_count": null,
            "_view_module": "@jupyter-widgets/base",
            "_view_module_version": "1.2.0",
            "_view_name": "LayoutView",
            "align_content": null,
            "align_items": null,
            "align_self": null,
            "border": null,
            "bottom": null,
            "display": null,
            "flex": null,
            "flex_flow": null,
            "grid_area": null,
            "grid_auto_columns": null,
            "grid_auto_flow": null,
            "grid_auto_rows": null,
            "grid_column": null,
            "grid_gap": null,
            "grid_row": null,
            "grid_template_areas": null,
            "grid_template_columns": null,
            "grid_template_rows": null,
            "height": null,
            "justify_content": null,
            "justify_items": null,
            "left": null,
            "margin": null,
            "max_height": null,
            "max_width": null,
            "min_height": null,
            "min_width": null,
            "object_fit": null,
            "object_position": null,
            "order": null,
            "overflow": null,
            "overflow_x": null,
            "overflow_y": null,
            "padding": null,
            "right": null,
            "top": null,
            "visibility": null,
            "width": null
          }
        },
        "e1d5dfe32e2f49d3a9a6f261646a8061": {
          "model_module": "@jupyter-widgets/base",
          "model_name": "LayoutModel",
          "model_module_version": "1.2.0",
          "state": {
            "_model_module": "@jupyter-widgets/base",
            "_model_module_version": "1.2.0",
            "_model_name": "LayoutModel",
            "_view_count": null,
            "_view_module": "@jupyter-widgets/base",
            "_view_module_version": "1.2.0",
            "_view_name": "LayoutView",
            "align_content": null,
            "align_items": null,
            "align_self": null,
            "border": null,
            "bottom": null,
            "display": null,
            "flex": null,
            "flex_flow": null,
            "grid_area": null,
            "grid_auto_columns": null,
            "grid_auto_flow": null,
            "grid_auto_rows": null,
            "grid_column": null,
            "grid_gap": null,
            "grid_row": null,
            "grid_template_areas": null,
            "grid_template_columns": null,
            "grid_template_rows": null,
            "height": null,
            "justify_content": null,
            "justify_items": null,
            "left": null,
            "margin": null,
            "max_height": null,
            "max_width": null,
            "min_height": null,
            "min_width": null,
            "object_fit": null,
            "object_position": null,
            "order": null,
            "overflow": null,
            "overflow_x": null,
            "overflow_y": null,
            "padding": null,
            "right": null,
            "top": null,
            "visibility": null,
            "width": null
          }
        },
        "e4c4479f1a374b0b8696ce19a1eca410": {
          "model_module": "@jupyter-widgets/controls",
          "model_name": "DescriptionStyleModel",
          "model_module_version": "1.5.0",
          "state": {
            "_model_module": "@jupyter-widgets/controls",
            "_model_module_version": "1.5.0",
            "_model_name": "DescriptionStyleModel",
            "_view_count": null,
            "_view_module": "@jupyter-widgets/base",
            "_view_module_version": "1.2.0",
            "_view_name": "StyleView",
            "description_width": ""
          }
        },
        "671251d08a6e48b996cfc7187ac58e40": {
          "model_module": "@jupyter-widgets/base",
          "model_name": "LayoutModel",
          "model_module_version": "1.2.0",
          "state": {
            "_model_module": "@jupyter-widgets/base",
            "_model_module_version": "1.2.0",
            "_model_name": "LayoutModel",
            "_view_count": null,
            "_view_module": "@jupyter-widgets/base",
            "_view_module_version": "1.2.0",
            "_view_name": "LayoutView",
            "align_content": null,
            "align_items": null,
            "align_self": null,
            "border": null,
            "bottom": null,
            "display": null,
            "flex": null,
            "flex_flow": null,
            "grid_area": null,
            "grid_auto_columns": null,
            "grid_auto_flow": null,
            "grid_auto_rows": null,
            "grid_column": null,
            "grid_gap": null,
            "grid_row": null,
            "grid_template_areas": null,
            "grid_template_columns": null,
            "grid_template_rows": null,
            "height": null,
            "justify_content": null,
            "justify_items": null,
            "left": null,
            "margin": null,
            "max_height": null,
            "max_width": null,
            "min_height": null,
            "min_width": null,
            "object_fit": null,
            "object_position": null,
            "order": null,
            "overflow": null,
            "overflow_x": null,
            "overflow_y": null,
            "padding": null,
            "right": null,
            "top": null,
            "visibility": null,
            "width": null
          }
        },
        "c6ce436827334d29a2c3d3cf049ff40f": {
          "model_module": "@jupyter-widgets/controls",
          "model_name": "ProgressStyleModel",
          "model_module_version": "1.5.0",
          "state": {
            "_model_module": "@jupyter-widgets/controls",
            "_model_module_version": "1.5.0",
            "_model_name": "ProgressStyleModel",
            "_view_count": null,
            "_view_module": "@jupyter-widgets/base",
            "_view_module_version": "1.2.0",
            "_view_name": "StyleView",
            "bar_color": null,
            "description_width": ""
          }
        },
        "e5ec248181ff4f9cbe5167fb31861fc3": {
          "model_module": "@jupyter-widgets/base",
          "model_name": "LayoutModel",
          "model_module_version": "1.2.0",
          "state": {
            "_model_module": "@jupyter-widgets/base",
            "_model_module_version": "1.2.0",
            "_model_name": "LayoutModel",
            "_view_count": null,
            "_view_module": "@jupyter-widgets/base",
            "_view_module_version": "1.2.0",
            "_view_name": "LayoutView",
            "align_content": null,
            "align_items": null,
            "align_self": null,
            "border": null,
            "bottom": null,
            "display": null,
            "flex": null,
            "flex_flow": null,
            "grid_area": null,
            "grid_auto_columns": null,
            "grid_auto_flow": null,
            "grid_auto_rows": null,
            "grid_column": null,
            "grid_gap": null,
            "grid_row": null,
            "grid_template_areas": null,
            "grid_template_columns": null,
            "grid_template_rows": null,
            "height": null,
            "justify_content": null,
            "justify_items": null,
            "left": null,
            "margin": null,
            "max_height": null,
            "max_width": null,
            "min_height": null,
            "min_width": null,
            "object_fit": null,
            "object_position": null,
            "order": null,
            "overflow": null,
            "overflow_x": null,
            "overflow_y": null,
            "padding": null,
            "right": null,
            "top": null,
            "visibility": null,
            "width": null
          }
        },
        "e02e6d40210a4ce3baec33c1934cd789": {
          "model_module": "@jupyter-widgets/controls",
          "model_name": "DescriptionStyleModel",
          "model_module_version": "1.5.0",
          "state": {
            "_model_module": "@jupyter-widgets/controls",
            "_model_module_version": "1.5.0",
            "_model_name": "DescriptionStyleModel",
            "_view_count": null,
            "_view_module": "@jupyter-widgets/base",
            "_view_module_version": "1.2.0",
            "_view_name": "StyleView",
            "description_width": ""
          }
        },
        "24e9526d6c1d40c1aaae6f3041814f70": {
          "model_module": "@jupyter-widgets/controls",
          "model_name": "HBoxModel",
          "model_module_version": "1.5.0",
          "state": {
            "_dom_classes": [],
            "_model_module": "@jupyter-widgets/controls",
            "_model_module_version": "1.5.0",
            "_model_name": "HBoxModel",
            "_view_count": null,
            "_view_module": "@jupyter-widgets/controls",
            "_view_module_version": "1.5.0",
            "_view_name": "HBoxView",
            "box_style": "",
            "children": [
              "IPY_MODEL_288361ef58ad437ca3d39983f60ad1b6",
              "IPY_MODEL_5581f376b399476893a4c79353d6e09e",
              "IPY_MODEL_320cebfa84bf46cc962e43aba5aa039b"
            ],
            "layout": "IPY_MODEL_9cd0669a37c6412c86c409250c7e1346"
          }
        },
        "288361ef58ad437ca3d39983f60ad1b6": {
          "model_module": "@jupyter-widgets/controls",
          "model_name": "HTMLModel",
          "model_module_version": "1.5.0",
          "state": {
            "_dom_classes": [],
            "_model_module": "@jupyter-widgets/controls",
            "_model_module_version": "1.5.0",
            "_model_name": "HTMLModel",
            "_view_count": null,
            "_view_module": "@jupyter-widgets/controls",
            "_view_module_version": "1.5.0",
            "_view_name": "HTMLView",
            "description": "",
            "description_tooltip": null,
            "layout": "IPY_MODEL_f0f05a4218c944fb9622812d6f28e16c",
            "placeholder": "​",
            "style": "IPY_MODEL_03a19552f4b34cd78d80a7112b915c5d",
            "value": ""
          }
        },
        "5581f376b399476893a4c79353d6e09e": {
          "model_module": "@jupyter-widgets/controls",
          "model_name": "FloatProgressModel",
          "model_module_version": "1.5.0",
          "state": {
            "_dom_classes": [],
            "_model_module": "@jupyter-widgets/controls",
            "_model_module_version": "1.5.0",
            "_model_name": "FloatProgressModel",
            "_view_count": null,
            "_view_module": "@jupyter-widgets/controls",
            "_view_module_version": "1.5.0",
            "_view_name": "ProgressView",
            "bar_style": "success",
            "description": "",
            "description_tooltip": null,
            "layout": "IPY_MODEL_e40c4ee93b40413692a39ee4fb68590a",
            "max": 29515,
            "min": 0,
            "orientation": "horizontal",
            "style": "IPY_MODEL_bdb572ec70964b64899d0d4aa41d5863",
            "value": 29515
          }
        },
        "320cebfa84bf46cc962e43aba5aa039b": {
          "model_module": "@jupyter-widgets/controls",
          "model_name": "HTMLModel",
          "model_module_version": "1.5.0",
          "state": {
            "_dom_classes": [],
            "_model_module": "@jupyter-widgets/controls",
            "_model_module_version": "1.5.0",
            "_model_name": "HTMLModel",
            "_view_count": null,
            "_view_module": "@jupyter-widgets/controls",
            "_view_module_version": "1.5.0",
            "_view_name": "HTMLView",
            "description": "",
            "description_tooltip": null,
            "layout": "IPY_MODEL_7a7774693ea442739a7b62c2bbe1328f",
            "placeholder": "​",
            "style": "IPY_MODEL_ecc9a00505e2411c9a0b7aa4ccc99352",
            "value": " 29696/? [00:00&lt;00:00, 6570.43it/s]"
          }
        },
        "9cd0669a37c6412c86c409250c7e1346": {
          "model_module": "@jupyter-widgets/base",
          "model_name": "LayoutModel",
          "model_module_version": "1.2.0",
          "state": {
            "_model_module": "@jupyter-widgets/base",
            "_model_module_version": "1.2.0",
            "_model_name": "LayoutModel",
            "_view_count": null,
            "_view_module": "@jupyter-widgets/base",
            "_view_module_version": "1.2.0",
            "_view_name": "LayoutView",
            "align_content": null,
            "align_items": null,
            "align_self": null,
            "border": null,
            "bottom": null,
            "display": null,
            "flex": null,
            "flex_flow": null,
            "grid_area": null,
            "grid_auto_columns": null,
            "grid_auto_flow": null,
            "grid_auto_rows": null,
            "grid_column": null,
            "grid_gap": null,
            "grid_row": null,
            "grid_template_areas": null,
            "grid_template_columns": null,
            "grid_template_rows": null,
            "height": null,
            "justify_content": null,
            "justify_items": null,
            "left": null,
            "margin": null,
            "max_height": null,
            "max_width": null,
            "min_height": null,
            "min_width": null,
            "object_fit": null,
            "object_position": null,
            "order": null,
            "overflow": null,
            "overflow_x": null,
            "overflow_y": null,
            "padding": null,
            "right": null,
            "top": null,
            "visibility": null,
            "width": null
          }
        },
        "f0f05a4218c944fb9622812d6f28e16c": {
          "model_module": "@jupyter-widgets/base",
          "model_name": "LayoutModel",
          "model_module_version": "1.2.0",
          "state": {
            "_model_module": "@jupyter-widgets/base",
            "_model_module_version": "1.2.0",
            "_model_name": "LayoutModel",
            "_view_count": null,
            "_view_module": "@jupyter-widgets/base",
            "_view_module_version": "1.2.0",
            "_view_name": "LayoutView",
            "align_content": null,
            "align_items": null,
            "align_self": null,
            "border": null,
            "bottom": null,
            "display": null,
            "flex": null,
            "flex_flow": null,
            "grid_area": null,
            "grid_auto_columns": null,
            "grid_auto_flow": null,
            "grid_auto_rows": null,
            "grid_column": null,
            "grid_gap": null,
            "grid_row": null,
            "grid_template_areas": null,
            "grid_template_columns": null,
            "grid_template_rows": null,
            "height": null,
            "justify_content": null,
            "justify_items": null,
            "left": null,
            "margin": null,
            "max_height": null,
            "max_width": null,
            "min_height": null,
            "min_width": null,
            "object_fit": null,
            "object_position": null,
            "order": null,
            "overflow": null,
            "overflow_x": null,
            "overflow_y": null,
            "padding": null,
            "right": null,
            "top": null,
            "visibility": null,
            "width": null
          }
        },
        "03a19552f4b34cd78d80a7112b915c5d": {
          "model_module": "@jupyter-widgets/controls",
          "model_name": "DescriptionStyleModel",
          "model_module_version": "1.5.0",
          "state": {
            "_model_module": "@jupyter-widgets/controls",
            "_model_module_version": "1.5.0",
            "_model_name": "DescriptionStyleModel",
            "_view_count": null,
            "_view_module": "@jupyter-widgets/base",
            "_view_module_version": "1.2.0",
            "_view_name": "StyleView",
            "description_width": ""
          }
        },
        "e40c4ee93b40413692a39ee4fb68590a": {
          "model_module": "@jupyter-widgets/base",
          "model_name": "LayoutModel",
          "model_module_version": "1.2.0",
          "state": {
            "_model_module": "@jupyter-widgets/base",
            "_model_module_version": "1.2.0",
            "_model_name": "LayoutModel",
            "_view_count": null,
            "_view_module": "@jupyter-widgets/base",
            "_view_module_version": "1.2.0",
            "_view_name": "LayoutView",
            "align_content": null,
            "align_items": null,
            "align_self": null,
            "border": null,
            "bottom": null,
            "display": null,
            "flex": null,
            "flex_flow": null,
            "grid_area": null,
            "grid_auto_columns": null,
            "grid_auto_flow": null,
            "grid_auto_rows": null,
            "grid_column": null,
            "grid_gap": null,
            "grid_row": null,
            "grid_template_areas": null,
            "grid_template_columns": null,
            "grid_template_rows": null,
            "height": null,
            "justify_content": null,
            "justify_items": null,
            "left": null,
            "margin": null,
            "max_height": null,
            "max_width": null,
            "min_height": null,
            "min_width": null,
            "object_fit": null,
            "object_position": null,
            "order": null,
            "overflow": null,
            "overflow_x": null,
            "overflow_y": null,
            "padding": null,
            "right": null,
            "top": null,
            "visibility": null,
            "width": null
          }
        },
        "bdb572ec70964b64899d0d4aa41d5863": {
          "model_module": "@jupyter-widgets/controls",
          "model_name": "ProgressStyleModel",
          "model_module_version": "1.5.0",
          "state": {
            "_model_module": "@jupyter-widgets/controls",
            "_model_module_version": "1.5.0",
            "_model_name": "ProgressStyleModel",
            "_view_count": null,
            "_view_module": "@jupyter-widgets/base",
            "_view_module_version": "1.2.0",
            "_view_name": "StyleView",
            "bar_color": null,
            "description_width": ""
          }
        },
        "7a7774693ea442739a7b62c2bbe1328f": {
          "model_module": "@jupyter-widgets/base",
          "model_name": "LayoutModel",
          "model_module_version": "1.2.0",
          "state": {
            "_model_module": "@jupyter-widgets/base",
            "_model_module_version": "1.2.0",
            "_model_name": "LayoutModel",
            "_view_count": null,
            "_view_module": "@jupyter-widgets/base",
            "_view_module_version": "1.2.0",
            "_view_name": "LayoutView",
            "align_content": null,
            "align_items": null,
            "align_self": null,
            "border": null,
            "bottom": null,
            "display": null,
            "flex": null,
            "flex_flow": null,
            "grid_area": null,
            "grid_auto_columns": null,
            "grid_auto_flow": null,
            "grid_auto_rows": null,
            "grid_column": null,
            "grid_gap": null,
            "grid_row": null,
            "grid_template_areas": null,
            "grid_template_columns": null,
            "grid_template_rows": null,
            "height": null,
            "justify_content": null,
            "justify_items": null,
            "left": null,
            "margin": null,
            "max_height": null,
            "max_width": null,
            "min_height": null,
            "min_width": null,
            "object_fit": null,
            "object_position": null,
            "order": null,
            "overflow": null,
            "overflow_x": null,
            "overflow_y": null,
            "padding": null,
            "right": null,
            "top": null,
            "visibility": null,
            "width": null
          }
        },
        "ecc9a00505e2411c9a0b7aa4ccc99352": {
          "model_module": "@jupyter-widgets/controls",
          "model_name": "DescriptionStyleModel",
          "model_module_version": "1.5.0",
          "state": {
            "_model_module": "@jupyter-widgets/controls",
            "_model_module_version": "1.5.0",
            "_model_name": "DescriptionStyleModel",
            "_view_count": null,
            "_view_module": "@jupyter-widgets/base",
            "_view_module_version": "1.2.0",
            "_view_name": "StyleView",
            "description_width": ""
          }
        },
        "d451266af4fb4cb59203a30617307b77": {
          "model_module": "@jupyter-widgets/controls",
          "model_name": "HBoxModel",
          "model_module_version": "1.5.0",
          "state": {
            "_dom_classes": [],
            "_model_module": "@jupyter-widgets/controls",
            "_model_module_version": "1.5.0",
            "_model_name": "HBoxModel",
            "_view_count": null,
            "_view_module": "@jupyter-widgets/controls",
            "_view_module_version": "1.5.0",
            "_view_name": "HBoxView",
            "box_style": "",
            "children": [
              "IPY_MODEL_7cbc7ccad9d34e7489818c1d7cb59fe6",
              "IPY_MODEL_941299ad2e7f49809640bd77ee6dd0b5",
              "IPY_MODEL_d4dfeb1eecae4a7b91445fd5275ba63c"
            ],
            "layout": "IPY_MODEL_b711bfed76cc44f88567afbbe4c47780"
          }
        },
        "7cbc7ccad9d34e7489818c1d7cb59fe6": {
          "model_module": "@jupyter-widgets/controls",
          "model_name": "HTMLModel",
          "model_module_version": "1.5.0",
          "state": {
            "_dom_classes": [],
            "_model_module": "@jupyter-widgets/controls",
            "_model_module_version": "1.5.0",
            "_model_name": "HTMLModel",
            "_view_count": null,
            "_view_module": "@jupyter-widgets/controls",
            "_view_module_version": "1.5.0",
            "_view_name": "HTMLView",
            "description": "",
            "description_tooltip": null,
            "layout": "IPY_MODEL_896d4241afb348069bc6481c2a4ee3ff",
            "placeholder": "​",
            "style": "IPY_MODEL_fc6c54f1f89349aea2bebcb3d0922202",
            "value": ""
          }
        },
        "941299ad2e7f49809640bd77ee6dd0b5": {
          "model_module": "@jupyter-widgets/controls",
          "model_name": "FloatProgressModel",
          "model_module_version": "1.5.0",
          "state": {
            "_dom_classes": [],
            "_model_module": "@jupyter-widgets/controls",
            "_model_module_version": "1.5.0",
            "_model_name": "FloatProgressModel",
            "_view_count": null,
            "_view_module": "@jupyter-widgets/controls",
            "_view_module_version": "1.5.0",
            "_view_name": "ProgressView",
            "bar_style": "success",
            "description": "",
            "description_tooltip": null,
            "layout": "IPY_MODEL_7b7dc395eb634124ad00e640ffd1d577",
            "max": 4422102,
            "min": 0,
            "orientation": "horizontal",
            "style": "IPY_MODEL_475d7500463b4f7da19cc761b0947594",
            "value": 4422102
          }
        },
        "d4dfeb1eecae4a7b91445fd5275ba63c": {
          "model_module": "@jupyter-widgets/controls",
          "model_name": "HTMLModel",
          "model_module_version": "1.5.0",
          "state": {
            "_dom_classes": [],
            "_model_module": "@jupyter-widgets/controls",
            "_model_module_version": "1.5.0",
            "_model_name": "HTMLModel",
            "_view_count": null,
            "_view_module": "@jupyter-widgets/controls",
            "_view_module_version": "1.5.0",
            "_view_name": "HTMLView",
            "description": "",
            "description_tooltip": null,
            "layout": "IPY_MODEL_f974b7f6771a45f2b49a3bda49d10dbf",
            "placeholder": "​",
            "style": "IPY_MODEL_033a2a3dfc2a4076a96ba7ff55acf5fe",
            "value": " 4422656/? [00:02&lt;00:00, 5768808.33it/s]"
          }
        },
        "b711bfed76cc44f88567afbbe4c47780": {
          "model_module": "@jupyter-widgets/base",
          "model_name": "LayoutModel",
          "model_module_version": "1.2.0",
          "state": {
            "_model_module": "@jupyter-widgets/base",
            "_model_module_version": "1.2.0",
            "_model_name": "LayoutModel",
            "_view_count": null,
            "_view_module": "@jupyter-widgets/base",
            "_view_module_version": "1.2.0",
            "_view_name": "LayoutView",
            "align_content": null,
            "align_items": null,
            "align_self": null,
            "border": null,
            "bottom": null,
            "display": null,
            "flex": null,
            "flex_flow": null,
            "grid_area": null,
            "grid_auto_columns": null,
            "grid_auto_flow": null,
            "grid_auto_rows": null,
            "grid_column": null,
            "grid_gap": null,
            "grid_row": null,
            "grid_template_areas": null,
            "grid_template_columns": null,
            "grid_template_rows": null,
            "height": null,
            "justify_content": null,
            "justify_items": null,
            "left": null,
            "margin": null,
            "max_height": null,
            "max_width": null,
            "min_height": null,
            "min_width": null,
            "object_fit": null,
            "object_position": null,
            "order": null,
            "overflow": null,
            "overflow_x": null,
            "overflow_y": null,
            "padding": null,
            "right": null,
            "top": null,
            "visibility": null,
            "width": null
          }
        },
        "896d4241afb348069bc6481c2a4ee3ff": {
          "model_module": "@jupyter-widgets/base",
          "model_name": "LayoutModel",
          "model_module_version": "1.2.0",
          "state": {
            "_model_module": "@jupyter-widgets/base",
            "_model_module_version": "1.2.0",
            "_model_name": "LayoutModel",
            "_view_count": null,
            "_view_module": "@jupyter-widgets/base",
            "_view_module_version": "1.2.0",
            "_view_name": "LayoutView",
            "align_content": null,
            "align_items": null,
            "align_self": null,
            "border": null,
            "bottom": null,
            "display": null,
            "flex": null,
            "flex_flow": null,
            "grid_area": null,
            "grid_auto_columns": null,
            "grid_auto_flow": null,
            "grid_auto_rows": null,
            "grid_column": null,
            "grid_gap": null,
            "grid_row": null,
            "grid_template_areas": null,
            "grid_template_columns": null,
            "grid_template_rows": null,
            "height": null,
            "justify_content": null,
            "justify_items": null,
            "left": null,
            "margin": null,
            "max_height": null,
            "max_width": null,
            "min_height": null,
            "min_width": null,
            "object_fit": null,
            "object_position": null,
            "order": null,
            "overflow": null,
            "overflow_x": null,
            "overflow_y": null,
            "padding": null,
            "right": null,
            "top": null,
            "visibility": null,
            "width": null
          }
        },
        "fc6c54f1f89349aea2bebcb3d0922202": {
          "model_module": "@jupyter-widgets/controls",
          "model_name": "DescriptionStyleModel",
          "model_module_version": "1.5.0",
          "state": {
            "_model_module": "@jupyter-widgets/controls",
            "_model_module_version": "1.5.0",
            "_model_name": "DescriptionStyleModel",
            "_view_count": null,
            "_view_module": "@jupyter-widgets/base",
            "_view_module_version": "1.2.0",
            "_view_name": "StyleView",
            "description_width": ""
          }
        },
        "7b7dc395eb634124ad00e640ffd1d577": {
          "model_module": "@jupyter-widgets/base",
          "model_name": "LayoutModel",
          "model_module_version": "1.2.0",
          "state": {
            "_model_module": "@jupyter-widgets/base",
            "_model_module_version": "1.2.0",
            "_model_name": "LayoutModel",
            "_view_count": null,
            "_view_module": "@jupyter-widgets/base",
            "_view_module_version": "1.2.0",
            "_view_name": "LayoutView",
            "align_content": null,
            "align_items": null,
            "align_self": null,
            "border": null,
            "bottom": null,
            "display": null,
            "flex": null,
            "flex_flow": null,
            "grid_area": null,
            "grid_auto_columns": null,
            "grid_auto_flow": null,
            "grid_auto_rows": null,
            "grid_column": null,
            "grid_gap": null,
            "grid_row": null,
            "grid_template_areas": null,
            "grid_template_columns": null,
            "grid_template_rows": null,
            "height": null,
            "justify_content": null,
            "justify_items": null,
            "left": null,
            "margin": null,
            "max_height": null,
            "max_width": null,
            "min_height": null,
            "min_width": null,
            "object_fit": null,
            "object_position": null,
            "order": null,
            "overflow": null,
            "overflow_x": null,
            "overflow_y": null,
            "padding": null,
            "right": null,
            "top": null,
            "visibility": null,
            "width": null
          }
        },
        "475d7500463b4f7da19cc761b0947594": {
          "model_module": "@jupyter-widgets/controls",
          "model_name": "ProgressStyleModel",
          "model_module_version": "1.5.0",
          "state": {
            "_model_module": "@jupyter-widgets/controls",
            "_model_module_version": "1.5.0",
            "_model_name": "ProgressStyleModel",
            "_view_count": null,
            "_view_module": "@jupyter-widgets/base",
            "_view_module_version": "1.2.0",
            "_view_name": "StyleView",
            "bar_color": null,
            "description_width": ""
          }
        },
        "f974b7f6771a45f2b49a3bda49d10dbf": {
          "model_module": "@jupyter-widgets/base",
          "model_name": "LayoutModel",
          "model_module_version": "1.2.0",
          "state": {
            "_model_module": "@jupyter-widgets/base",
            "_model_module_version": "1.2.0",
            "_model_name": "LayoutModel",
            "_view_count": null,
            "_view_module": "@jupyter-widgets/base",
            "_view_module_version": "1.2.0",
            "_view_name": "LayoutView",
            "align_content": null,
            "align_items": null,
            "align_self": null,
            "border": null,
            "bottom": null,
            "display": null,
            "flex": null,
            "flex_flow": null,
            "grid_area": null,
            "grid_auto_columns": null,
            "grid_auto_flow": null,
            "grid_auto_rows": null,
            "grid_column": null,
            "grid_gap": null,
            "grid_row": null,
            "grid_template_areas": null,
            "grid_template_columns": null,
            "grid_template_rows": null,
            "height": null,
            "justify_content": null,
            "justify_items": null,
            "left": null,
            "margin": null,
            "max_height": null,
            "max_width": null,
            "min_height": null,
            "min_width": null,
            "object_fit": null,
            "object_position": null,
            "order": null,
            "overflow": null,
            "overflow_x": null,
            "overflow_y": null,
            "padding": null,
            "right": null,
            "top": null,
            "visibility": null,
            "width": null
          }
        },
        "033a2a3dfc2a4076a96ba7ff55acf5fe": {
          "model_module": "@jupyter-widgets/controls",
          "model_name": "DescriptionStyleModel",
          "model_module_version": "1.5.0",
          "state": {
            "_model_module": "@jupyter-widgets/controls",
            "_model_module_version": "1.5.0",
            "_model_name": "DescriptionStyleModel",
            "_view_count": null,
            "_view_module": "@jupyter-widgets/base",
            "_view_module_version": "1.2.0",
            "_view_name": "StyleView",
            "description_width": ""
          }
        },
        "39f2902d80c0428fa3d703dd588bf1c1": {
          "model_module": "@jupyter-widgets/controls",
          "model_name": "HBoxModel",
          "model_module_version": "1.5.0",
          "state": {
            "_dom_classes": [],
            "_model_module": "@jupyter-widgets/controls",
            "_model_module_version": "1.5.0",
            "_model_name": "HBoxModel",
            "_view_count": null,
            "_view_module": "@jupyter-widgets/controls",
            "_view_module_version": "1.5.0",
            "_view_name": "HBoxView",
            "box_style": "",
            "children": [
              "IPY_MODEL_db990d217cf64f0ab98a355243ca9333",
              "IPY_MODEL_b5ab7e754df44d3bb82a43ae973eb9bf",
              "IPY_MODEL_9f0cf6fdc3324568925f6c85491753c2"
            ],
            "layout": "IPY_MODEL_5852de452b174de596e5dc8938bc46f2"
          }
        },
        "db990d217cf64f0ab98a355243ca9333": {
          "model_module": "@jupyter-widgets/controls",
          "model_name": "HTMLModel",
          "model_module_version": "1.5.0",
          "state": {
            "_dom_classes": [],
            "_model_module": "@jupyter-widgets/controls",
            "_model_module_version": "1.5.0",
            "_model_name": "HTMLModel",
            "_view_count": null,
            "_view_module": "@jupyter-widgets/controls",
            "_view_module_version": "1.5.0",
            "_view_name": "HTMLView",
            "description": "",
            "description_tooltip": null,
            "layout": "IPY_MODEL_59cfd4f8498d4ce59c90d7f635397bee",
            "placeholder": "​",
            "style": "IPY_MODEL_c3c0aba517a24d059fcd3fd47cab99dd",
            "value": ""
          }
        },
        "b5ab7e754df44d3bb82a43ae973eb9bf": {
          "model_module": "@jupyter-widgets/controls",
          "model_name": "FloatProgressModel",
          "model_module_version": "1.5.0",
          "state": {
            "_dom_classes": [],
            "_model_module": "@jupyter-widgets/controls",
            "_model_module_version": "1.5.0",
            "_model_name": "FloatProgressModel",
            "_view_count": null,
            "_view_module": "@jupyter-widgets/controls",
            "_view_module_version": "1.5.0",
            "_view_name": "ProgressView",
            "bar_style": "success",
            "description": "",
            "description_tooltip": null,
            "layout": "IPY_MODEL_7dd1181c555e48c68ab50c76741b9dd8",
            "max": 5148,
            "min": 0,
            "orientation": "horizontal",
            "style": "IPY_MODEL_b693878f1e004bd2b790e49612b51b57",
            "value": 5148
          }
        },
        "9f0cf6fdc3324568925f6c85491753c2": {
          "model_module": "@jupyter-widgets/controls",
          "model_name": "HTMLModel",
          "model_module_version": "1.5.0",
          "state": {
            "_dom_classes": [],
            "_model_module": "@jupyter-widgets/controls",
            "_model_module_version": "1.5.0",
            "_model_name": "HTMLModel",
            "_view_count": null,
            "_view_module": "@jupyter-widgets/controls",
            "_view_module_version": "1.5.0",
            "_view_name": "HTMLView",
            "description": "",
            "description_tooltip": null,
            "layout": "IPY_MODEL_1a98bbe54fd34eba8764340a70eb7be7",
            "placeholder": "​",
            "style": "IPY_MODEL_ed0de685dfdf4b4fb0b371cd0a196792",
            "value": " 6144/? [00:00&lt;00:00, 111377.75it/s]"
          }
        },
        "5852de452b174de596e5dc8938bc46f2": {
          "model_module": "@jupyter-widgets/base",
          "model_name": "LayoutModel",
          "model_module_version": "1.2.0",
          "state": {
            "_model_module": "@jupyter-widgets/base",
            "_model_module_version": "1.2.0",
            "_model_name": "LayoutModel",
            "_view_count": null,
            "_view_module": "@jupyter-widgets/base",
            "_view_module_version": "1.2.0",
            "_view_name": "LayoutView",
            "align_content": null,
            "align_items": null,
            "align_self": null,
            "border": null,
            "bottom": null,
            "display": null,
            "flex": null,
            "flex_flow": null,
            "grid_area": null,
            "grid_auto_columns": null,
            "grid_auto_flow": null,
            "grid_auto_rows": null,
            "grid_column": null,
            "grid_gap": null,
            "grid_row": null,
            "grid_template_areas": null,
            "grid_template_columns": null,
            "grid_template_rows": null,
            "height": null,
            "justify_content": null,
            "justify_items": null,
            "left": null,
            "margin": null,
            "max_height": null,
            "max_width": null,
            "min_height": null,
            "min_width": null,
            "object_fit": null,
            "object_position": null,
            "order": null,
            "overflow": null,
            "overflow_x": null,
            "overflow_y": null,
            "padding": null,
            "right": null,
            "top": null,
            "visibility": null,
            "width": null
          }
        },
        "59cfd4f8498d4ce59c90d7f635397bee": {
          "model_module": "@jupyter-widgets/base",
          "model_name": "LayoutModel",
          "model_module_version": "1.2.0",
          "state": {
            "_model_module": "@jupyter-widgets/base",
            "_model_module_version": "1.2.0",
            "_model_name": "LayoutModel",
            "_view_count": null,
            "_view_module": "@jupyter-widgets/base",
            "_view_module_version": "1.2.0",
            "_view_name": "LayoutView",
            "align_content": null,
            "align_items": null,
            "align_self": null,
            "border": null,
            "bottom": null,
            "display": null,
            "flex": null,
            "flex_flow": null,
            "grid_area": null,
            "grid_auto_columns": null,
            "grid_auto_flow": null,
            "grid_auto_rows": null,
            "grid_column": null,
            "grid_gap": null,
            "grid_row": null,
            "grid_template_areas": null,
            "grid_template_columns": null,
            "grid_template_rows": null,
            "height": null,
            "justify_content": null,
            "justify_items": null,
            "left": null,
            "margin": null,
            "max_height": null,
            "max_width": null,
            "min_height": null,
            "min_width": null,
            "object_fit": null,
            "object_position": null,
            "order": null,
            "overflow": null,
            "overflow_x": null,
            "overflow_y": null,
            "padding": null,
            "right": null,
            "top": null,
            "visibility": null,
            "width": null
          }
        },
        "c3c0aba517a24d059fcd3fd47cab99dd": {
          "model_module": "@jupyter-widgets/controls",
          "model_name": "DescriptionStyleModel",
          "model_module_version": "1.5.0",
          "state": {
            "_model_module": "@jupyter-widgets/controls",
            "_model_module_version": "1.5.0",
            "_model_name": "DescriptionStyleModel",
            "_view_count": null,
            "_view_module": "@jupyter-widgets/base",
            "_view_module_version": "1.2.0",
            "_view_name": "StyleView",
            "description_width": ""
          }
        },
        "7dd1181c555e48c68ab50c76741b9dd8": {
          "model_module": "@jupyter-widgets/base",
          "model_name": "LayoutModel",
          "model_module_version": "1.2.0",
          "state": {
            "_model_module": "@jupyter-widgets/base",
            "_model_module_version": "1.2.0",
            "_model_name": "LayoutModel",
            "_view_count": null,
            "_view_module": "@jupyter-widgets/base",
            "_view_module_version": "1.2.0",
            "_view_name": "LayoutView",
            "align_content": null,
            "align_items": null,
            "align_self": null,
            "border": null,
            "bottom": null,
            "display": null,
            "flex": null,
            "flex_flow": null,
            "grid_area": null,
            "grid_auto_columns": null,
            "grid_auto_flow": null,
            "grid_auto_rows": null,
            "grid_column": null,
            "grid_gap": null,
            "grid_row": null,
            "grid_template_areas": null,
            "grid_template_columns": null,
            "grid_template_rows": null,
            "height": null,
            "justify_content": null,
            "justify_items": null,
            "left": null,
            "margin": null,
            "max_height": null,
            "max_width": null,
            "min_height": null,
            "min_width": null,
            "object_fit": null,
            "object_position": null,
            "order": null,
            "overflow": null,
            "overflow_x": null,
            "overflow_y": null,
            "padding": null,
            "right": null,
            "top": null,
            "visibility": null,
            "width": null
          }
        },
        "b693878f1e004bd2b790e49612b51b57": {
          "model_module": "@jupyter-widgets/controls",
          "model_name": "ProgressStyleModel",
          "model_module_version": "1.5.0",
          "state": {
            "_model_module": "@jupyter-widgets/controls",
            "_model_module_version": "1.5.0",
            "_model_name": "ProgressStyleModel",
            "_view_count": null,
            "_view_module": "@jupyter-widgets/base",
            "_view_module_version": "1.2.0",
            "_view_name": "StyleView",
            "bar_color": null,
            "description_width": ""
          }
        },
        "1a98bbe54fd34eba8764340a70eb7be7": {
          "model_module": "@jupyter-widgets/base",
          "model_name": "LayoutModel",
          "model_module_version": "1.2.0",
          "state": {
            "_model_module": "@jupyter-widgets/base",
            "_model_module_version": "1.2.0",
            "_model_name": "LayoutModel",
            "_view_count": null,
            "_view_module": "@jupyter-widgets/base",
            "_view_module_version": "1.2.0",
            "_view_name": "LayoutView",
            "align_content": null,
            "align_items": null,
            "align_self": null,
            "border": null,
            "bottom": null,
            "display": null,
            "flex": null,
            "flex_flow": null,
            "grid_area": null,
            "grid_auto_columns": null,
            "grid_auto_flow": null,
            "grid_auto_rows": null,
            "grid_column": null,
            "grid_gap": null,
            "grid_row": null,
            "grid_template_areas": null,
            "grid_template_columns": null,
            "grid_template_rows": null,
            "height": null,
            "justify_content": null,
            "justify_items": null,
            "left": null,
            "margin": null,
            "max_height": null,
            "max_width": null,
            "min_height": null,
            "min_width": null,
            "object_fit": null,
            "object_position": null,
            "order": null,
            "overflow": null,
            "overflow_x": null,
            "overflow_y": null,
            "padding": null,
            "right": null,
            "top": null,
            "visibility": null,
            "width": null
          }
        },
        "ed0de685dfdf4b4fb0b371cd0a196792": {
          "model_module": "@jupyter-widgets/controls",
          "model_name": "DescriptionStyleModel",
          "model_module_version": "1.5.0",
          "state": {
            "_model_module": "@jupyter-widgets/controls",
            "_model_module_version": "1.5.0",
            "_model_name": "DescriptionStyleModel",
            "_view_count": null,
            "_view_module": "@jupyter-widgets/base",
            "_view_module_version": "1.2.0",
            "_view_name": "StyleView",
            "description_width": ""
          }
        }
      }
    }
  },
  "cells": [
    {
      "cell_type": "markdown",
      "metadata": {
        "id": "view-in-github",
        "colab_type": "text"
      },
      "source": [
        "<a href=\"https://colab.research.google.com/github/pppyj-m/pppyj/blob/master/torch%E7%BB%83%E4%B9%A0.ipynb\" target=\"_parent\"><img src=\"https://colab.research.google.com/assets/colab-badge.svg\" alt=\"Open In Colab\"/></a>"
      ]
    },
    {
      "cell_type": "markdown",
      "source": [
        "# torch练习"
      ],
      "metadata": {
        "id": "dht0DluSpEkG"
      }
    },
    {
      "cell_type": "code",
      "source": [
        "import torch"
      ],
      "metadata": {
        "id": "-sUQ2DyvmTQs"
      },
      "execution_count": 2,
      "outputs": []
    },
    {
      "cell_type": "code",
      "source": [
        "x = torch.arange(12)\n",
        "x"
      ],
      "metadata": {
        "colab": {
          "base_uri": "https://localhost:8080/"
        },
        "id": "rftkFmXBmZft",
        "outputId": "c21165fb-c80d-49f4-ed86-bf8120b28e7c"
      },
      "execution_count": 3,
      "outputs": [
        {
          "output_type": "execute_result",
          "data": {
            "text/plain": [
              "tensor([ 0,  1,  2,  3,  4,  5,  6,  7,  8,  9, 10, 11])"
            ]
          },
          "metadata": {},
          "execution_count": 3
        }
      ]
    },
    {
      "cell_type": "code",
      "source": [
        "x.shape"
      ],
      "metadata": {
        "colab": {
          "base_uri": "https://localhost:8080/"
        },
        "id": "PMR3Kiwgmlna",
        "outputId": "ada52bcd-c525-4760-cd41-da0014608a64"
      },
      "execution_count": 4,
      "outputs": [
        {
          "output_type": "execute_result",
          "data": {
            "text/plain": [
              "torch.Size([12])"
            ]
          },
          "metadata": {},
          "execution_count": 4
        }
      ]
    },
    {
      "cell_type": "code",
      "source": [
        "x.numel()"
      ],
      "metadata": {
        "colab": {
          "base_uri": "https://localhost:8080/"
        },
        "id": "pm94Uy7Cmn93",
        "outputId": "e7cb5080-54ce-41d3-c4b8-be77c433f42f"
      },
      "execution_count": 5,
      "outputs": [
        {
          "output_type": "execute_result",
          "data": {
            "text/plain": [
              "12"
            ]
          },
          "metadata": {},
          "execution_count": 5
        }
      ]
    },
    {
      "cell_type": "code",
      "source": [
        "X = x.reshape(3,4)\n",
        "X"
      ],
      "metadata": {
        "colab": {
          "base_uri": "https://localhost:8080/"
        },
        "id": "V9Y32_wqmsYJ",
        "outputId": "d743d1e5-9ca9-4f6e-c73c-51a07ea169e8"
      },
      "execution_count": 7,
      "outputs": [
        {
          "output_type": "execute_result",
          "data": {
            "text/plain": [
              "tensor([[ 0,  1,  2,  3],\n",
              "        [ 4,  5,  6,  7],\n",
              "        [ 8,  9, 10, 11]])"
            ]
          },
          "metadata": {},
          "execution_count": 7
        }
      ]
    },
    {
      "cell_type": "code",
      "source": [
        "torch.zeros(3,4)"
      ],
      "metadata": {
        "colab": {
          "base_uri": "https://localhost:8080/"
        },
        "id": "xvQu3YPDm7oq",
        "outputId": "d76ebb8e-0f0d-4bdb-f89b-22a3d18f0fef"
      },
      "execution_count": 8,
      "outputs": [
        {
          "output_type": "execute_result",
          "data": {
            "text/plain": [
              "tensor([[0., 0., 0., 0.],\n",
              "        [0., 0., 0., 0.],\n",
              "        [0., 0., 0., 0.]])"
            ]
          },
          "metadata": {},
          "execution_count": 8
        }
      ]
    },
    {
      "cell_type": "code",
      "source": [
        "torch.ones(2,3,4)"
      ],
      "metadata": {
        "colab": {
          "base_uri": "https://localhost:8080/"
        },
        "id": "Oxm8BQ8bm-yf",
        "outputId": "ea65046d-6269-43fd-f30e-073b2a539657"
      },
      "execution_count": 9,
      "outputs": [
        {
          "output_type": "execute_result",
          "data": {
            "text/plain": [
              "tensor([[[1., 1., 1., 1.],\n",
              "         [1., 1., 1., 1.],\n",
              "         [1., 1., 1., 1.]],\n",
              "\n",
              "        [[1., 1., 1., 1.],\n",
              "         [1., 1., 1., 1.],\n",
              "         [1., 1., 1., 1.]]])"
            ]
          },
          "metadata": {},
          "execution_count": 9
        }
      ]
    },
    {
      "cell_type": "code",
      "source": [
        "x = torch.tensor([1.0,2,4,6])\n",
        "y = torch.tensor([2,3,4,5])\n",
        "x+y, x-y, x*y, x/y, x**y"
      ],
      "metadata": {
        "colab": {
          "base_uri": "https://localhost:8080/"
        },
        "id": "gpdtEQphnB4J",
        "outputId": "48600a5d-2690-498c-868c-99a24f686ba2"
      },
      "execution_count": 10,
      "outputs": [
        {
          "output_type": "execute_result",
          "data": {
            "text/plain": [
              "(tensor([ 3.,  5.,  8., 11.]),\n",
              " tensor([-1., -1.,  0.,  1.]),\n",
              " tensor([ 2.,  6., 16., 30.]),\n",
              " tensor([0.5000, 0.6667, 1.0000, 1.2000]),\n",
              " tensor([1.0000e+00, 8.0000e+00, 2.5600e+02, 7.7760e+03]))"
            ]
          },
          "metadata": {},
          "execution_count": 10
        }
      ]
    },
    {
      "cell_type": "markdown",
      "source": [
        "# 线性回归"
      ],
      "metadata": {
        "id": "WwuYgdUxo2Sa"
      }
    },
    {
      "cell_type": "markdown",
      "source": [
        ""
      ],
      "metadata": {
        "id": "_dZpMP7YpNzO"
      }
    },
    {
      "cell_type": "code",
      "source": [
        "pip install d2l"
      ],
      "metadata": {
        "id": "w3iyqr84phFC"
      },
      "execution_count": null,
      "outputs": []
    },
    {
      "cell_type": "code",
      "source": [
        "%matplotlib inline\n",
        "import random\n",
        "import torch\n",
        "from d2l import torch as d2l"
      ],
      "metadata": {
        "id": "iiKghhp6pC0a"
      },
      "execution_count": 14,
      "outputs": []
    },
    {
      "cell_type": "code",
      "source": [
        "#构造一个人造数据集，w=[2，-3.4], b= 4.2 和随机噪声\n",
        "def synthetic_data(w,b,num_examples):\n",
        "  x = torch.normal(0,1,(num_examples, len(w)))\n",
        "  y = torch.matmul(x,w) + b\n",
        "  y += torch.normal(0,0.01, y.shape)\n",
        "  return x, y.reshape((-1,1))\n",
        "true_w = torch.tensor([2,-3.4])\n",
        "true_b = 4.2\n",
        "features, labels = synthetic_data(true_w, true_b, 1000)\n"
      ],
      "metadata": {
        "id": "vv4Nz2fHp8Fo"
      },
      "execution_count": 15,
      "outputs": []
    },
    {
      "cell_type": "code",
      "source": [
        "print(\"fatures:\",features[0], '\\nlabel',labels[0])"
      ],
      "metadata": {
        "colab": {
          "base_uri": "https://localhost:8080/"
        },
        "id": "lM1kRXZwq-p_",
        "outputId": "e612f965-b85a-4850-f3a5-eb3064c03388"
      },
      "execution_count": 16,
      "outputs": [
        {
          "output_type": "stream",
          "name": "stdout",
          "text": [
            "fatures: tensor([ 0.3055, -0.6256]) \n",
            "label tensor([6.9296])\n"
          ]
        }
      ]
    },
    {
      "cell_type": "code",
      "source": [
        "! pip install matplotlib==3.0.0"
      ],
      "metadata": {
        "id": "hmD4dv7DtzBt"
      },
      "execution_count": null,
      "outputs": []
    },
    {
      "cell_type": "code",
      "source": [
        "d2l.set_figsize()\n",
        "d2l.plt.scatter(features[:,1].detach().numpy(), \n",
        "                labels.detach().numpy(), 1);"
      ],
      "metadata": {
        "colab": {
          "base_uri": "https://localhost:8080/",
          "height": 243
        },
        "id": "4h_xw1WerTYr",
        "outputId": "3982c566-7871-409e-c698-c5bc4b2582cc"
      },
      "execution_count": 31,
      "outputs": [
        {
          "output_type": "display_data",
          "data": {
            "text/plain": [
              "<Figure size 252x180 with 1 Axes>"
            ],
            "image/svg+xml": "<?xml version=\"1.0\" encoding=\"utf-8\" standalone=\"no\"?>\n<!DOCTYPE svg PUBLIC \"-//W3C//DTD SVG 1.1//EN\"\n  \"http://www.w3.org/Graphics/SVG/1.1/DTD/svg11.dtd\">\n<!-- Created with matplotlib (https://matplotlib.org/) -->\n<svg height=\"166.978125pt\" version=\"1.1\" viewBox=\"0 0 237.804688 166.978125\" width=\"237.804688pt\" xmlns=\"http://www.w3.org/2000/svg\" xmlns:xlink=\"http://www.w3.org/1999/xlink\">\n <defs>\n  <style type=\"text/css\">\n*{stroke-linecap:butt;stroke-linejoin:round;}\n  </style>\n </defs>\n <g id=\"figure_1\">\n  <g id=\"patch_1\">\n   <path d=\"M 0 166.978125 \nL 237.804688 166.978125 \nL 237.804688 0 \nL 0 0 \nz\n\" style=\"fill:none;\"/>\n  </g>\n  <g id=\"axes_1\">\n   <g id=\"patch_2\">\n    <path d=\"M 35.304688 143.1 \nL 230.604688 143.1 \nL 230.604688 7.2 \nL 35.304688 7.2 \nz\n\" style=\"fill:#ffffff;\"/>\n   </g>\n   <g id=\"PathCollection_1\">\n    <defs>\n     <path d=\"M 0 0.5 \nC 0.132602 0.5 0.25979 0.447317 0.353553 0.353553 \nC 0.447317 0.25979 0.5 0.132602 0.5 0 \nC 0.5 -0.132602 0.447317 -0.25979 0.353553 -0.353553 \nC 0.25979 -0.447317 0.132602 -0.5 0 -0.5 \nC -0.132602 -0.5 -0.25979 -0.447317 -0.353553 -0.353553 \nC -0.447317 -0.25979 -0.5 -0.132602 -0.5 0 \nC -0.5 0.132602 -0.447317 0.25979 -0.353553 0.353553 \nC -0.25979 0.447317 -0.132602 0.5 0 0.5 \nz\n\" id=\"m80065f9516\" style=\"stroke:#1f77b4;\"/>\n    </defs>\n    <g clip-path=\"url(#p550fbf54e0)\">\n     <use style=\"fill:#1f77b4;stroke:#1f77b4;\" x=\"110.33103\" xlink:href=\"#m80065f9516\" y=\"55.439691\"/>\n     <use style=\"fill:#1f77b4;stroke:#1f77b4;\" x=\"150.817614\" xlink:href=\"#m80065f9516\" y=\"69.570653\"/>\n     <use style=\"fill:#1f77b4;stroke:#1f77b4;\" x=\"97.522343\" xlink:href=\"#m80065f9516\" y=\"59.026297\"/>\n     <use style=\"fill:#1f77b4;stroke:#1f77b4;\" x=\"178.96123\" xlink:href=\"#m80065f9516\" y=\"106.017844\"/>\n     <use style=\"fill:#1f77b4;stroke:#1f77b4;\" x=\"161.56203\" xlink:href=\"#m80065f9516\" y=\"87.720782\"/>\n     <use style=\"fill:#1f77b4;stroke:#1f77b4;\" x=\"138.227004\" xlink:href=\"#m80065f9516\" y=\"79.506932\"/>\n     <use style=\"fill:#1f77b4;stroke:#1f77b4;\" x=\"132.268174\" xlink:href=\"#m80065f9516\" y=\"73.233622\"/>\n     <use style=\"fill:#1f77b4;stroke:#1f77b4;\" x=\"146.23123\" xlink:href=\"#m80065f9516\" y=\"79.222958\"/>\n     <use style=\"fill:#1f77b4;stroke:#1f77b4;\" x=\"136.917758\" xlink:href=\"#m80065f9516\" y=\"54.765018\"/>\n     <use style=\"fill:#1f77b4;stroke:#1f77b4;\" x=\"97.1896\" xlink:href=\"#m80065f9516\" y=\"56.197393\"/>\n     <use style=\"fill:#1f77b4;stroke:#1f77b4;\" x=\"79.642244\" xlink:href=\"#m80065f9516\" y=\"37.554321\"/>\n     <use style=\"fill:#1f77b4;stroke:#1f77b4;\" x=\"153.28146\" xlink:href=\"#m80065f9516\" y=\"74.848774\"/>\n     <use style=\"fill:#1f77b4;stroke:#1f77b4;\" x=\"153.654184\" xlink:href=\"#m80065f9516\" y=\"74.46772\"/>\n     <use style=\"fill:#1f77b4;stroke:#1f77b4;\" x=\"172.491816\" xlink:href=\"#m80065f9516\" y=\"84.62981\"/>\n     <use style=\"fill:#1f77b4;stroke:#1f77b4;\" x=\"151.295885\" xlink:href=\"#m80065f9516\" y=\"79.556139\"/>\n     <use style=\"fill:#1f77b4;stroke:#1f77b4;\" x=\"134.809948\" xlink:href=\"#m80065f9516\" y=\"67.198992\"/>\n     <use style=\"fill:#1f77b4;stroke:#1f77b4;\" x=\"147.373928\" xlink:href=\"#m80065f9516\" y=\"70.663935\"/>\n     <use style=\"fill:#1f77b4;stroke:#1f77b4;\" x=\"149.19276\" xlink:href=\"#m80065f9516\" y=\"68.649338\"/>\n     <use style=\"fill:#1f77b4;stroke:#1f77b4;\" x=\"164.156729\" xlink:href=\"#m80065f9516\" y=\"88.919097\"/>\n     <use style=\"fill:#1f77b4;stroke:#1f77b4;\" x=\"159.479975\" xlink:href=\"#m80065f9516\" y=\"68.05171\"/>\n     <use style=\"fill:#1f77b4;stroke:#1f77b4;\" x=\"122.149557\" xlink:href=\"#m80065f9516\" y=\"65.2462\"/>\n     <use style=\"fill:#1f77b4;stroke:#1f77b4;\" x=\"121.146967\" xlink:href=\"#m80065f9516\" y=\"84.113798\"/>\n     <use style=\"fill:#1f77b4;stroke:#1f77b4;\" x=\"82.936336\" xlink:href=\"#m80065f9516\" y=\"56.717577\"/>\n     <use style=\"fill:#1f77b4;stroke:#1f77b4;\" x=\"129.986281\" xlink:href=\"#m80065f9516\" y=\"69.048361\"/>\n     <use style=\"fill:#1f77b4;stroke:#1f77b4;\" x=\"70.583384\" xlink:href=\"#m80065f9516\" y=\"29.256764\"/>\n     <use style=\"fill:#1f77b4;stroke:#1f77b4;\" x=\"146.474996\" xlink:href=\"#m80065f9516\" y=\"73.186482\"/>\n     <use style=\"fill:#1f77b4;stroke:#1f77b4;\" x=\"105.728344\" xlink:href=\"#m80065f9516\" y=\"63.037597\"/>\n     <use style=\"fill:#1f77b4;stroke:#1f77b4;\" x=\"146.304752\" xlink:href=\"#m80065f9516\" y=\"76.236228\"/>\n     <use style=\"fill:#1f77b4;stroke:#1f77b4;\" x=\"84.416958\" xlink:href=\"#m80065f9516\" y=\"36.703303\"/>\n     <use style=\"fill:#1f77b4;stroke:#1f77b4;\" x=\"155.894755\" xlink:href=\"#m80065f9516\" y=\"88.423732\"/>\n     <use style=\"fill:#1f77b4;stroke:#1f77b4;\" x=\"137.778012\" xlink:href=\"#m80065f9516\" y=\"85.798741\"/>\n     <use style=\"fill:#1f77b4;stroke:#1f77b4;\" x=\"108.588975\" xlink:href=\"#m80065f9516\" y=\"54.9504\"/>\n     <use style=\"fill:#1f77b4;stroke:#1f77b4;\" x=\"56.091028\" xlink:href=\"#m80065f9516\" y=\"25.258542\"/>\n     <use style=\"fill:#1f77b4;stroke:#1f77b4;\" x=\"107.923293\" xlink:href=\"#m80065f9516\" y=\"52.742998\"/>\n     <use style=\"fill:#1f77b4;stroke:#1f77b4;\" x=\"161.972135\" xlink:href=\"#m80065f9516\" y=\"91.670429\"/>\n     <use style=\"fill:#1f77b4;stroke:#1f77b4;\" x=\"115.584735\" xlink:href=\"#m80065f9516\" y=\"54.143912\"/>\n     <use style=\"fill:#1f77b4;stroke:#1f77b4;\" x=\"126.152961\" xlink:href=\"#m80065f9516\" y=\"74.261194\"/>\n     <use style=\"fill:#1f77b4;stroke:#1f77b4;\" x=\"151.73793\" xlink:href=\"#m80065f9516\" y=\"72.860284\"/>\n     <use style=\"fill:#1f77b4;stroke:#1f77b4;\" x=\"138.890051\" xlink:href=\"#m80065f9516\" y=\"73.666289\"/>\n     <use style=\"fill:#1f77b4;stroke:#1f77b4;\" x=\"116.822635\" xlink:href=\"#m80065f9516\" y=\"39.113188\"/>\n     <use style=\"fill:#1f77b4;stroke:#1f77b4;\" x=\"161.830074\" xlink:href=\"#m80065f9516\" y=\"84.497606\"/>\n     <use style=\"fill:#1f77b4;stroke:#1f77b4;\" x=\"113.964456\" xlink:href=\"#m80065f9516\" y=\"54.100355\"/>\n     <use style=\"fill:#1f77b4;stroke:#1f77b4;\" x=\"110.828809\" xlink:href=\"#m80065f9516\" y=\"66.848362\"/>\n     <use style=\"fill:#1f77b4;stroke:#1f77b4;\" x=\"217.557643\" xlink:href=\"#m80065f9516\" y=\"116.042245\"/>\n     <use style=\"fill:#1f77b4;stroke:#1f77b4;\" x=\"84.810784\" xlink:href=\"#m80065f9516\" y=\"32.667105\"/>\n     <use style=\"fill:#1f77b4;stroke:#1f77b4;\" x=\"115.360866\" xlink:href=\"#m80065f9516\" y=\"67.639783\"/>\n     <use style=\"fill:#1f77b4;stroke:#1f77b4;\" x=\"101.31193\" xlink:href=\"#m80065f9516\" y=\"39.747212\"/>\n     <use style=\"fill:#1f77b4;stroke:#1f77b4;\" x=\"170.900185\" xlink:href=\"#m80065f9516\" y=\"93.606929\"/>\n     <use style=\"fill:#1f77b4;stroke:#1f77b4;\" x=\"95.961146\" xlink:href=\"#m80065f9516\" y=\"54.257613\"/>\n     <use style=\"fill:#1f77b4;stroke:#1f77b4;\" x=\"179.162777\" xlink:href=\"#m80065f9516\" y=\"92.832297\"/>\n     <use style=\"fill:#1f77b4;stroke:#1f77b4;\" x=\"123.707712\" xlink:href=\"#m80065f9516\" y=\"76.559235\"/>\n     <use style=\"fill:#1f77b4;stroke:#1f77b4;\" x=\"184.362331\" xlink:href=\"#m80065f9516\" y=\"105.84601\"/>\n     <use style=\"fill:#1f77b4;stroke:#1f77b4;\" x=\"114.634671\" xlink:href=\"#m80065f9516\" y=\"58.437867\"/>\n     <use style=\"fill:#1f77b4;stroke:#1f77b4;\" x=\"105.787582\" xlink:href=\"#m80065f9516\" y=\"56.92956\"/>\n     <use style=\"fill:#1f77b4;stroke:#1f77b4;\" x=\"123.851519\" xlink:href=\"#m80065f9516\" y=\"72.276569\"/>\n     <use style=\"fill:#1f77b4;stroke:#1f77b4;\" x=\"136.463311\" xlink:href=\"#m80065f9516\" y=\"75.792979\"/>\n     <use style=\"fill:#1f77b4;stroke:#1f77b4;\" x=\"143.443908\" xlink:href=\"#m80065f9516\" y=\"71.968481\"/>\n     <use style=\"fill:#1f77b4;stroke:#1f77b4;\" x=\"90.158056\" xlink:href=\"#m80065f9516\" y=\"54.817384\"/>\n     <use style=\"fill:#1f77b4;stroke:#1f77b4;\" x=\"114.078624\" xlink:href=\"#m80065f9516\" y=\"58.217701\"/>\n     <use style=\"fill:#1f77b4;stroke:#1f77b4;\" x=\"82.740394\" xlink:href=\"#m80065f9516\" y=\"39.959129\"/>\n     <use style=\"fill:#1f77b4;stroke:#1f77b4;\" x=\"157.099822\" xlink:href=\"#m80065f9516\" y=\"70.803642\"/>\n     <use style=\"fill:#1f77b4;stroke:#1f77b4;\" x=\"167.577005\" xlink:href=\"#m80065f9516\" y=\"84.493798\"/>\n     <use style=\"fill:#1f77b4;stroke:#1f77b4;\" x=\"128.935827\" xlink:href=\"#m80065f9516\" y=\"73.877765\"/>\n     <use style=\"fill:#1f77b4;stroke:#1f77b4;\" x=\"116.537276\" xlink:href=\"#m80065f9516\" y=\"53.837998\"/>\n     <use style=\"fill:#1f77b4;stroke:#1f77b4;\" x=\"125.637869\" xlink:href=\"#m80065f9516\" y=\"57.112428\"/>\n     <use style=\"fill:#1f77b4;stroke:#1f77b4;\" x=\"159.309556\" xlink:href=\"#m80065f9516\" y=\"82.517938\"/>\n     <use style=\"fill:#1f77b4;stroke:#1f77b4;\" x=\"128.497161\" xlink:href=\"#m80065f9516\" y=\"73.149722\"/>\n     <use style=\"fill:#1f77b4;stroke:#1f77b4;\" x=\"93.326268\" xlink:href=\"#m80065f9516\" y=\"32.51405\"/>\n     <use style=\"fill:#1f77b4;stroke:#1f77b4;\" x=\"132.094717\" xlink:href=\"#m80065f9516\" y=\"59.326308\"/>\n     <use style=\"fill:#1f77b4;stroke:#1f77b4;\" x=\"127.883822\" xlink:href=\"#m80065f9516\" y=\"64.214106\"/>\n     <use style=\"fill:#1f77b4;stroke:#1f77b4;\" x=\"180.364954\" xlink:href=\"#m80065f9516\" y=\"112.528807\"/>\n     <use style=\"fill:#1f77b4;stroke:#1f77b4;\" x=\"90.527675\" xlink:href=\"#m80065f9516\" y=\"35.709563\"/>\n     <use style=\"fill:#1f77b4;stroke:#1f77b4;\" x=\"122.538755\" xlink:href=\"#m80065f9516\" y=\"63.812789\"/>\n     <use style=\"fill:#1f77b4;stroke:#1f77b4;\" x=\"167.982675\" xlink:href=\"#m80065f9516\" y=\"81.387695\"/>\n     <use style=\"fill:#1f77b4;stroke:#1f77b4;\" x=\"147.989141\" xlink:href=\"#m80065f9516\" y=\"70.958231\"/>\n     <use style=\"fill:#1f77b4;stroke:#1f77b4;\" x=\"163.981496\" xlink:href=\"#m80065f9516\" y=\"77.384801\"/>\n     <use style=\"fill:#1f77b4;stroke:#1f77b4;\" x=\"132.183136\" xlink:href=\"#m80065f9516\" y=\"72.906659\"/>\n     <use style=\"fill:#1f77b4;stroke:#1f77b4;\" x=\"188.551424\" xlink:href=\"#m80065f9516\" y=\"118.235929\"/>\n     <use style=\"fill:#1f77b4;stroke:#1f77b4;\" x=\"75.659677\" xlink:href=\"#m80065f9516\" y=\"39.251964\"/>\n     <use style=\"fill:#1f77b4;stroke:#1f77b4;\" x=\"141.541393\" xlink:href=\"#m80065f9516\" y=\"91.633051\"/>\n     <use style=\"fill:#1f77b4;stroke:#1f77b4;\" x=\"165.683878\" xlink:href=\"#m80065f9516\" y=\"89.675077\"/>\n     <use style=\"fill:#1f77b4;stroke:#1f77b4;\" x=\"163.133748\" xlink:href=\"#m80065f9516\" y=\"86.582138\"/>\n     <use style=\"fill:#1f77b4;stroke:#1f77b4;\" x=\"130.547852\" xlink:href=\"#m80065f9516\" y=\"69.614782\"/>\n     <use style=\"fill:#1f77b4;stroke:#1f77b4;\" x=\"137.193218\" xlink:href=\"#m80065f9516\" y=\"77.398893\"/>\n     <use style=\"fill:#1f77b4;stroke:#1f77b4;\" x=\"65.434643\" xlink:href=\"#m80065f9516\" y=\"23.268489\"/>\n     <use style=\"fill:#1f77b4;stroke:#1f77b4;\" x=\"93.026668\" xlink:href=\"#m80065f9516\" y=\"53.298116\"/>\n     <use style=\"fill:#1f77b4;stroke:#1f77b4;\" x=\"142.956532\" xlink:href=\"#m80065f9516\" y=\"84.709621\"/>\n     <use style=\"fill:#1f77b4;stroke:#1f77b4;\" x=\"149.47351\" xlink:href=\"#m80065f9516\" y=\"89.881255\"/>\n     <use style=\"fill:#1f77b4;stroke:#1f77b4;\" x=\"94.825569\" xlink:href=\"#m80065f9516\" y=\"56.788163\"/>\n     <use style=\"fill:#1f77b4;stroke:#1f77b4;\" x=\"137.688143\" xlink:href=\"#m80065f9516\" y=\"82.35576\"/>\n     <use style=\"fill:#1f77b4;stroke:#1f77b4;\" x=\"118.063875\" xlink:href=\"#m80065f9516\" y=\"47.535652\"/>\n     <use style=\"fill:#1f77b4;stroke:#1f77b4;\" x=\"133.51055\" xlink:href=\"#m80065f9516\" y=\"70.833338\"/>\n     <use style=\"fill:#1f77b4;stroke:#1f77b4;\" x=\"96.20019\" xlink:href=\"#m80065f9516\" y=\"36.859626\"/>\n     <use style=\"fill:#1f77b4;stroke:#1f77b4;\" x=\"158.712915\" xlink:href=\"#m80065f9516\" y=\"77.998643\"/>\n     <use style=\"fill:#1f77b4;stroke:#1f77b4;\" x=\"130.413587\" xlink:href=\"#m80065f9516\" y=\"77.37323\"/>\n     <use style=\"fill:#1f77b4;stroke:#1f77b4;\" x=\"126.258952\" xlink:href=\"#m80065f9516\" y=\"66.87437\"/>\n     <use style=\"fill:#1f77b4;stroke:#1f77b4;\" x=\"170.807446\" xlink:href=\"#m80065f9516\" y=\"102.340928\"/>\n     <use style=\"fill:#1f77b4;stroke:#1f77b4;\" x=\"121.628446\" xlink:href=\"#m80065f9516\" y=\"75.114552\"/>\n     <use style=\"fill:#1f77b4;stroke:#1f77b4;\" x=\"185.423758\" xlink:href=\"#m80065f9516\" y=\"99.396688\"/>\n     <use style=\"fill:#1f77b4;stroke:#1f77b4;\" x=\"129.188717\" xlink:href=\"#m80065f9516\" y=\"64.993325\"/>\n     <use style=\"fill:#1f77b4;stroke:#1f77b4;\" x=\"108.882479\" xlink:href=\"#m80065f9516\" y=\"58.131491\"/>\n     <use style=\"fill:#1f77b4;stroke:#1f77b4;\" x=\"113.10893\" xlink:href=\"#m80065f9516\" y=\"63.989316\"/>\n     <use style=\"fill:#1f77b4;stroke:#1f77b4;\" x=\"137.353557\" xlink:href=\"#m80065f9516\" y=\"62.139195\"/>\n     <use style=\"fill:#1f77b4;stroke:#1f77b4;\" x=\"124.923564\" xlink:href=\"#m80065f9516\" y=\"68.183102\"/>\n     <use style=\"fill:#1f77b4;stroke:#1f77b4;\" x=\"145.955111\" xlink:href=\"#m80065f9516\" y=\"96.37427\"/>\n     <use style=\"fill:#1f77b4;stroke:#1f77b4;\" x=\"68.803076\" xlink:href=\"#m80065f9516\" y=\"34.832789\"/>\n     <use style=\"fill:#1f77b4;stroke:#1f77b4;\" x=\"197.279924\" xlink:href=\"#m80065f9516\" y=\"112.308924\"/>\n     <use style=\"fill:#1f77b4;stroke:#1f77b4;\" x=\"83.0338\" xlink:href=\"#m80065f9516\" y=\"51.87926\"/>\n     <use style=\"fill:#1f77b4;stroke:#1f77b4;\" x=\"126.302932\" xlink:href=\"#m80065f9516\" y=\"57.892254\"/>\n     <use style=\"fill:#1f77b4;stroke:#1f77b4;\" x=\"144.26556\" xlink:href=\"#m80065f9516\" y=\"86.948621\"/>\n     <use style=\"fill:#1f77b4;stroke:#1f77b4;\" x=\"80.368949\" xlink:href=\"#m80065f9516\" y=\"42.746612\"/>\n     <use style=\"fill:#1f77b4;stroke:#1f77b4;\" x=\"163.466359\" xlink:href=\"#m80065f9516\" y=\"70.49935\"/>\n     <use style=\"fill:#1f77b4;stroke:#1f77b4;\" x=\"130.489818\" xlink:href=\"#m80065f9516\" y=\"53.444606\"/>\n     <use style=\"fill:#1f77b4;stroke:#1f77b4;\" x=\"114.117888\" xlink:href=\"#m80065f9516\" y=\"53.573853\"/>\n     <use style=\"fill:#1f77b4;stroke:#1f77b4;\" x=\"114.812737\" xlink:href=\"#m80065f9516\" y=\"60.647951\"/>\n     <use style=\"fill:#1f77b4;stroke:#1f77b4;\" x=\"125.085212\" xlink:href=\"#m80065f9516\" y=\"83.845693\"/>\n     <use style=\"fill:#1f77b4;stroke:#1f77b4;\" x=\"119.73625\" xlink:href=\"#m80065f9516\" y=\"45.031255\"/>\n     <use style=\"fill:#1f77b4;stroke:#1f77b4;\" x=\"97.940127\" xlink:href=\"#m80065f9516\" y=\"45.813676\"/>\n     <use style=\"fill:#1f77b4;stroke:#1f77b4;\" x=\"173.722171\" xlink:href=\"#m80065f9516\" y=\"94.960896\"/>\n     <use style=\"fill:#1f77b4;stroke:#1f77b4;\" x=\"198.178838\" xlink:href=\"#m80065f9516\" y=\"102.908951\"/>\n     <use style=\"fill:#1f77b4;stroke:#1f77b4;\" x=\"83.342358\" xlink:href=\"#m80065f9516\" y=\"30.525824\"/>\n     <use style=\"fill:#1f77b4;stroke:#1f77b4;\" x=\"160.552489\" xlink:href=\"#m80065f9516\" y=\"107.178321\"/>\n     <use style=\"fill:#1f77b4;stroke:#1f77b4;\" x=\"120.318107\" xlink:href=\"#m80065f9516\" y=\"68.039258\"/>\n     <use style=\"fill:#1f77b4;stroke:#1f77b4;\" x=\"147.239325\" xlink:href=\"#m80065f9516\" y=\"76.362509\"/>\n     <use style=\"fill:#1f77b4;stroke:#1f77b4;\" x=\"110.586407\" xlink:href=\"#m80065f9516\" y=\"66.661028\"/>\n     <use style=\"fill:#1f77b4;stroke:#1f77b4;\" x=\"138.698841\" xlink:href=\"#m80065f9516\" y=\"70.29369\"/>\n     <use style=\"fill:#1f77b4;stroke:#1f77b4;\" x=\"145.122387\" xlink:href=\"#m80065f9516\" y=\"66.063789\"/>\n     <use style=\"fill:#1f77b4;stroke:#1f77b4;\" x=\"177.944903\" xlink:href=\"#m80065f9516\" y=\"82.330418\"/>\n     <use style=\"fill:#1f77b4;stroke:#1f77b4;\" x=\"153.614878\" xlink:href=\"#m80065f9516\" y=\"88.651391\"/>\n     <use style=\"fill:#1f77b4;stroke:#1f77b4;\" x=\"103.284966\" xlink:href=\"#m80065f9516\" y=\"55.836454\"/>\n     <use style=\"fill:#1f77b4;stroke:#1f77b4;\" x=\"104.246423\" xlink:href=\"#m80065f9516\" y=\"54.008067\"/>\n     <use style=\"fill:#1f77b4;stroke:#1f77b4;\" x=\"115.262389\" xlink:href=\"#m80065f9516\" y=\"74.366559\"/>\n     <use style=\"fill:#1f77b4;stroke:#1f77b4;\" x=\"117.001327\" xlink:href=\"#m80065f9516\" y=\"53.562393\"/>\n     <use style=\"fill:#1f77b4;stroke:#1f77b4;\" x=\"179.590399\" xlink:href=\"#m80065f9516\" y=\"96.561196\"/>\n     <use style=\"fill:#1f77b4;stroke:#1f77b4;\" x=\"181.433926\" xlink:href=\"#m80065f9516\" y=\"84.97326\"/>\n     <use style=\"fill:#1f77b4;stroke:#1f77b4;\" x=\"90.224249\" xlink:href=\"#m80065f9516\" y=\"39.725351\"/>\n     <use style=\"fill:#1f77b4;stroke:#1f77b4;\" x=\"126.190465\" xlink:href=\"#m80065f9516\" y=\"64.662642\"/>\n     <use style=\"fill:#1f77b4;stroke:#1f77b4;\" x=\"153.239537\" xlink:href=\"#m80065f9516\" y=\"80.729293\"/>\n     <use style=\"fill:#1f77b4;stroke:#1f77b4;\" x=\"145.641696\" xlink:href=\"#m80065f9516\" y=\"58.907455\"/>\n     <use style=\"fill:#1f77b4;stroke:#1f77b4;\" x=\"117.42838\" xlink:href=\"#m80065f9516\" y=\"85.688971\"/>\n     <use style=\"fill:#1f77b4;stroke:#1f77b4;\" x=\"117.262144\" xlink:href=\"#m80065f9516\" y=\"46.270048\"/>\n     <use style=\"fill:#1f77b4;stroke:#1f77b4;\" x=\"95.452082\" xlink:href=\"#m80065f9516\" y=\"48.912223\"/>\n     <use style=\"fill:#1f77b4;stroke:#1f77b4;\" x=\"135.310694\" xlink:href=\"#m80065f9516\" y=\"61.939574\"/>\n     <use style=\"fill:#1f77b4;stroke:#1f77b4;\" x=\"142.870258\" xlink:href=\"#m80065f9516\" y=\"76.897424\"/>\n     <use style=\"fill:#1f77b4;stroke:#1f77b4;\" x=\"80.096252\" xlink:href=\"#m80065f9516\" y=\"34.922893\"/>\n     <use style=\"fill:#1f77b4;stroke:#1f77b4;\" x=\"121.80677\" xlink:href=\"#m80065f9516\" y=\"72.165857\"/>\n     <use style=\"fill:#1f77b4;stroke:#1f77b4;\" x=\"112.634459\" xlink:href=\"#m80065f9516\" y=\"67.143897\"/>\n     <use style=\"fill:#1f77b4;stroke:#1f77b4;\" x=\"113.02462\" xlink:href=\"#m80065f9516\" y=\"59.047185\"/>\n     <use style=\"fill:#1f77b4;stroke:#1f77b4;\" x=\"91.093483\" xlink:href=\"#m80065f9516\" y=\"53.202973\"/>\n     <use style=\"fill:#1f77b4;stroke:#1f77b4;\" x=\"113.252886\" xlink:href=\"#m80065f9516\" y=\"59.034538\"/>\n     <use style=\"fill:#1f77b4;stroke:#1f77b4;\" x=\"186.29966\" xlink:href=\"#m80065f9516\" y=\"105.321947\"/>\n     <use style=\"fill:#1f77b4;stroke:#1f77b4;\" x=\"117.610962\" xlink:href=\"#m80065f9516\" y=\"60.462086\"/>\n     <use style=\"fill:#1f77b4;stroke:#1f77b4;\" x=\"105.171564\" xlink:href=\"#m80065f9516\" y=\"64.901186\"/>\n     <use style=\"fill:#1f77b4;stroke:#1f77b4;\" x=\"82.660154\" xlink:href=\"#m80065f9516\" y=\"44.927955\"/>\n     <use style=\"fill:#1f77b4;stroke:#1f77b4;\" x=\"126.024473\" xlink:href=\"#m80065f9516\" y=\"74.754631\"/>\n     <use style=\"fill:#1f77b4;stroke:#1f77b4;\" x=\"166.820563\" xlink:href=\"#m80065f9516\" y=\"76.116004\"/>\n     <use style=\"fill:#1f77b4;stroke:#1f77b4;\" x=\"118.720304\" xlink:href=\"#m80065f9516\" y=\"67.676591\"/>\n     <use style=\"fill:#1f77b4;stroke:#1f77b4;\" x=\"148.23165\" xlink:href=\"#m80065f9516\" y=\"85.583212\"/>\n     <use style=\"fill:#1f77b4;stroke:#1f77b4;\" x=\"105.845068\" xlink:href=\"#m80065f9516\" y=\"64.929923\"/>\n     <use style=\"fill:#1f77b4;stroke:#1f77b4;\" x=\"154.122469\" xlink:href=\"#m80065f9516\" y=\"92.124747\"/>\n     <use style=\"fill:#1f77b4;stroke:#1f77b4;\" x=\"121.945778\" xlink:href=\"#m80065f9516\" y=\"63.405802\"/>\n     <use style=\"fill:#1f77b4;stroke:#1f77b4;\" x=\"133.299875\" xlink:href=\"#m80065f9516\" y=\"76.15057\"/>\n     <use style=\"fill:#1f77b4;stroke:#1f77b4;\" x=\"75.458714\" xlink:href=\"#m80065f9516\" y=\"40.900873\"/>\n     <use style=\"fill:#1f77b4;stroke:#1f77b4;\" x=\"135.454033\" xlink:href=\"#m80065f9516\" y=\"73.857302\"/>\n     <use style=\"fill:#1f77b4;stroke:#1f77b4;\" x=\"166.632171\" xlink:href=\"#m80065f9516\" y=\"84.808825\"/>\n     <use style=\"fill:#1f77b4;stroke:#1f77b4;\" x=\"149.459613\" xlink:href=\"#m80065f9516\" y=\"79.612587\"/>\n     <use style=\"fill:#1f77b4;stroke:#1f77b4;\" x=\"133.109137\" xlink:href=\"#m80065f9516\" y=\"74.399564\"/>\n     <use style=\"fill:#1f77b4;stroke:#1f77b4;\" x=\"125.114785\" xlink:href=\"#m80065f9516\" y=\"64.132224\"/>\n     <use style=\"fill:#1f77b4;stroke:#1f77b4;\" x=\"138.079869\" xlink:href=\"#m80065f9516\" y=\"88.546987\"/>\n     <use style=\"fill:#1f77b4;stroke:#1f77b4;\" x=\"111.970289\" xlink:href=\"#m80065f9516\" y=\"44.764991\"/>\n     <use style=\"fill:#1f77b4;stroke:#1f77b4;\" x=\"110.496078\" xlink:href=\"#m80065f9516\" y=\"44.642976\"/>\n     <use style=\"fill:#1f77b4;stroke:#1f77b4;\" x=\"98.15244\" xlink:href=\"#m80065f9516\" y=\"51.678092\"/>\n     <use style=\"fill:#1f77b4;stroke:#1f77b4;\" x=\"126.400661\" xlink:href=\"#m80065f9516\" y=\"72.518769\"/>\n     <use style=\"fill:#1f77b4;stroke:#1f77b4;\" x=\"158.550463\" xlink:href=\"#m80065f9516\" y=\"72.284189\"/>\n     <use style=\"fill:#1f77b4;stroke:#1f77b4;\" x=\"100.729726\" xlink:href=\"#m80065f9516\" y=\"42.754387\"/>\n     <use style=\"fill:#1f77b4;stroke:#1f77b4;\" x=\"173.467985\" xlink:href=\"#m80065f9516\" y=\"94.900972\"/>\n     <use style=\"fill:#1f77b4;stroke:#1f77b4;\" x=\"103.745194\" xlink:href=\"#m80065f9516\" y=\"56.657085\"/>\n     <use style=\"fill:#1f77b4;stroke:#1f77b4;\" x=\"104.504434\" xlink:href=\"#m80065f9516\" y=\"51.68339\"/>\n     <use style=\"fill:#1f77b4;stroke:#1f77b4;\" x=\"124.613075\" xlink:href=\"#m80065f9516\" y=\"61.226235\"/>\n     <use style=\"fill:#1f77b4;stroke:#1f77b4;\" x=\"110.202525\" xlink:href=\"#m80065f9516\" y=\"66.523872\"/>\n     <use style=\"fill:#1f77b4;stroke:#1f77b4;\" x=\"116.378835\" xlink:href=\"#m80065f9516\" y=\"67.107119\"/>\n     <use style=\"fill:#1f77b4;stroke:#1f77b4;\" x=\"102.297242\" xlink:href=\"#m80065f9516\" y=\"77.970291\"/>\n     <use style=\"fill:#1f77b4;stroke:#1f77b4;\" x=\"85.455869\" xlink:href=\"#m80065f9516\" y=\"38.309103\"/>\n     <use style=\"fill:#1f77b4;stroke:#1f77b4;\" x=\"113.015314\" xlink:href=\"#m80065f9516\" y=\"85.042951\"/>\n     <use style=\"fill:#1f77b4;stroke:#1f77b4;\" x=\"151.452084\" xlink:href=\"#m80065f9516\" y=\"83.249981\"/>\n     <use style=\"fill:#1f77b4;stroke:#1f77b4;\" x=\"162.65961\" xlink:href=\"#m80065f9516\" y=\"89.263728\"/>\n     <use style=\"fill:#1f77b4;stroke:#1f77b4;\" x=\"100.291808\" xlink:href=\"#m80065f9516\" y=\"60.745256\"/>\n     <use style=\"fill:#1f77b4;stroke:#1f77b4;\" x=\"112.409922\" xlink:href=\"#m80065f9516\" y=\"66.652336\"/>\n     <use style=\"fill:#1f77b4;stroke:#1f77b4;\" x=\"97.204353\" xlink:href=\"#m80065f9516\" y=\"61.984765\"/>\n     <use style=\"fill:#1f77b4;stroke:#1f77b4;\" x=\"98.963589\" xlink:href=\"#m80065f9516\" y=\"54.700528\"/>\n     <use style=\"fill:#1f77b4;stroke:#1f77b4;\" x=\"102.866286\" xlink:href=\"#m80065f9516\" y=\"56.010444\"/>\n     <use style=\"fill:#1f77b4;stroke:#1f77b4;\" x=\"105.317425\" xlink:href=\"#m80065f9516\" y=\"55.909108\"/>\n     <use style=\"fill:#1f77b4;stroke:#1f77b4;\" x=\"116.559215\" xlink:href=\"#m80065f9516\" y=\"77.082731\"/>\n     <use style=\"fill:#1f77b4;stroke:#1f77b4;\" x=\"175.272335\" xlink:href=\"#m80065f9516\" y=\"104.531097\"/>\n     <use style=\"fill:#1f77b4;stroke:#1f77b4;\" x=\"131.771968\" xlink:href=\"#m80065f9516\" y=\"73.644702\"/>\n     <use style=\"fill:#1f77b4;stroke:#1f77b4;\" x=\"137.087126\" xlink:href=\"#m80065f9516\" y=\"83.341023\"/>\n     <use style=\"fill:#1f77b4;stroke:#1f77b4;\" x=\"84.513966\" xlink:href=\"#m80065f9516\" y=\"30.176822\"/>\n     <use style=\"fill:#1f77b4;stroke:#1f77b4;\" x=\"165.103471\" xlink:href=\"#m80065f9516\" y=\"106.47902\"/>\n     <use style=\"fill:#1f77b4;stroke:#1f77b4;\" x=\"44.18196\" xlink:href=\"#m80065f9516\" y=\"26.463023\"/>\n     <use style=\"fill:#1f77b4;stroke:#1f77b4;\" x=\"156.71365\" xlink:href=\"#m80065f9516\" y=\"95.539879\"/>\n     <use style=\"fill:#1f77b4;stroke:#1f77b4;\" x=\"88.539244\" xlink:href=\"#m80065f9516\" y=\"57.008894\"/>\n     <use style=\"fill:#1f77b4;stroke:#1f77b4;\" x=\"186.556421\" xlink:href=\"#m80065f9516\" y=\"121.897205\"/>\n     <use style=\"fill:#1f77b4;stroke:#1f77b4;\" x=\"129.517281\" xlink:href=\"#m80065f9516\" y=\"68.898711\"/>\n     <use style=\"fill:#1f77b4;stroke:#1f77b4;\" x=\"175.108585\" xlink:href=\"#m80065f9516\" y=\"83.013889\"/>\n     <use style=\"fill:#1f77b4;stroke:#1f77b4;\" x=\"98.808123\" xlink:href=\"#m80065f9516\" y=\"34.567411\"/>\n     <use style=\"fill:#1f77b4;stroke:#1f77b4;\" x=\"88.451373\" xlink:href=\"#m80065f9516\" y=\"43.137245\"/>\n     <use style=\"fill:#1f77b4;stroke:#1f77b4;\" x=\"102.351399\" xlink:href=\"#m80065f9516\" y=\"48.491562\"/>\n     <use style=\"fill:#1f77b4;stroke:#1f77b4;\" x=\"136.608923\" xlink:href=\"#m80065f9516\" y=\"81.444511\"/>\n     <use style=\"fill:#1f77b4;stroke:#1f77b4;\" x=\"110.625736\" xlink:href=\"#m80065f9516\" y=\"71.996781\"/>\n     <use style=\"fill:#1f77b4;stroke:#1f77b4;\" x=\"175.059059\" xlink:href=\"#m80065f9516\" y=\"85.619655\"/>\n     <use style=\"fill:#1f77b4;stroke:#1f77b4;\" x=\"97.226655\" xlink:href=\"#m80065f9516\" y=\"54.060191\"/>\n     <use style=\"fill:#1f77b4;stroke:#1f77b4;\" x=\"123.671693\" xlink:href=\"#m80065f9516\" y=\"65.271904\"/>\n     <use style=\"fill:#1f77b4;stroke:#1f77b4;\" x=\"146.424816\" xlink:href=\"#m80065f9516\" y=\"87.23536\"/>\n     <use style=\"fill:#1f77b4;stroke:#1f77b4;\" x=\"145.165529\" xlink:href=\"#m80065f9516\" y=\"72.312211\"/>\n     <use style=\"fill:#1f77b4;stroke:#1f77b4;\" x=\"133.062159\" xlink:href=\"#m80065f9516\" y=\"78.639941\"/>\n     <use style=\"fill:#1f77b4;stroke:#1f77b4;\" x=\"76.636217\" xlink:href=\"#m80065f9516\" y=\"50.859133\"/>\n     <use style=\"fill:#1f77b4;stroke:#1f77b4;\" x=\"149.282549\" xlink:href=\"#m80065f9516\" y=\"73.682091\"/>\n     <use style=\"fill:#1f77b4;stroke:#1f77b4;\" x=\"103.490363\" xlink:href=\"#m80065f9516\" y=\"63.264766\"/>\n     <use style=\"fill:#1f77b4;stroke:#1f77b4;\" x=\"145.820272\" xlink:href=\"#m80065f9516\" y=\"75.477662\"/>\n     <use style=\"fill:#1f77b4;stroke:#1f77b4;\" x=\"144.106955\" xlink:href=\"#m80065f9516\" y=\"68.662404\"/>\n     <use style=\"fill:#1f77b4;stroke:#1f77b4;\" x=\"139.287286\" xlink:href=\"#m80065f9516\" y=\"80.312748\"/>\n     <use style=\"fill:#1f77b4;stroke:#1f77b4;\" x=\"186.535845\" xlink:href=\"#m80065f9516\" y=\"90.680778\"/>\n     <use style=\"fill:#1f77b4;stroke:#1f77b4;\" x=\"98.224032\" xlink:href=\"#m80065f9516\" y=\"37.756537\"/>\n     <use style=\"fill:#1f77b4;stroke:#1f77b4;\" x=\"163.913476\" xlink:href=\"#m80065f9516\" y=\"90.245475\"/>\n     <use style=\"fill:#1f77b4;stroke:#1f77b4;\" x=\"142.956763\" xlink:href=\"#m80065f9516\" y=\"69.193872\"/>\n     <use style=\"fill:#1f77b4;stroke:#1f77b4;\" x=\"148.003106\" xlink:href=\"#m80065f9516\" y=\"71.022399\"/>\n     <use style=\"fill:#1f77b4;stroke:#1f77b4;\" x=\"120.328125\" xlink:href=\"#m80065f9516\" y=\"55.308231\"/>\n     <use style=\"fill:#1f77b4;stroke:#1f77b4;\" x=\"127.750917\" xlink:href=\"#m80065f9516\" y=\"62.690819\"/>\n     <use style=\"fill:#1f77b4;stroke:#1f77b4;\" x=\"180.402194\" xlink:href=\"#m80065f9516\" y=\"92.742009\"/>\n     <use style=\"fill:#1f77b4;stroke:#1f77b4;\" x=\"160.439687\" xlink:href=\"#m80065f9516\" y=\"93.513256\"/>\n     <use style=\"fill:#1f77b4;stroke:#1f77b4;\" x=\"125.554871\" xlink:href=\"#m80065f9516\" y=\"72.063434\"/>\n     <use style=\"fill:#1f77b4;stroke:#1f77b4;\" x=\"133.836226\" xlink:href=\"#m80065f9516\" y=\"77.09283\"/>\n     <use style=\"fill:#1f77b4;stroke:#1f77b4;\" x=\"94.444577\" xlink:href=\"#m80065f9516\" y=\"48.184915\"/>\n     <use style=\"fill:#1f77b4;stroke:#1f77b4;\" x=\"127.968242\" xlink:href=\"#m80065f9516\" y=\"60.475157\"/>\n     <use style=\"fill:#1f77b4;stroke:#1f77b4;\" x=\"127.022492\" xlink:href=\"#m80065f9516\" y=\"70.235551\"/>\n     <use style=\"fill:#1f77b4;stroke:#1f77b4;\" x=\"109.98521\" xlink:href=\"#m80065f9516\" y=\"50.45933\"/>\n     <use style=\"fill:#1f77b4;stroke:#1f77b4;\" x=\"135.843647\" xlink:href=\"#m80065f9516\" y=\"72.148352\"/>\n     <use style=\"fill:#1f77b4;stroke:#1f77b4;\" x=\"193.050184\" xlink:href=\"#m80065f9516\" y=\"118.313881\"/>\n     <use style=\"fill:#1f77b4;stroke:#1f77b4;\" x=\"120.959297\" xlink:href=\"#m80065f9516\" y=\"62.557292\"/>\n     <use style=\"fill:#1f77b4;stroke:#1f77b4;\" x=\"197.686256\" xlink:href=\"#m80065f9516\" y=\"117.179575\"/>\n     <use style=\"fill:#1f77b4;stroke:#1f77b4;\" x=\"146.718903\" xlink:href=\"#m80065f9516\" y=\"84.463364\"/>\n     <use style=\"fill:#1f77b4;stroke:#1f77b4;\" x=\"103.206828\" xlink:href=\"#m80065f9516\" y=\"54.319697\"/>\n     <use style=\"fill:#1f77b4;stroke:#1f77b4;\" x=\"130.346948\" xlink:href=\"#m80065f9516\" y=\"60.398215\"/>\n     <use style=\"fill:#1f77b4;stroke:#1f77b4;\" x=\"129.49076\" xlink:href=\"#m80065f9516\" y=\"62.150717\"/>\n     <use style=\"fill:#1f77b4;stroke:#1f77b4;\" x=\"148.913264\" xlink:href=\"#m80065f9516\" y=\"78.401501\"/>\n     <use style=\"fill:#1f77b4;stroke:#1f77b4;\" x=\"86.520002\" xlink:href=\"#m80065f9516\" y=\"47.247857\"/>\n     <use style=\"fill:#1f77b4;stroke:#1f77b4;\" x=\"98.654165\" xlink:href=\"#m80065f9516\" y=\"42.728598\"/>\n     <use style=\"fill:#1f77b4;stroke:#1f77b4;\" x=\"114.47016\" xlink:href=\"#m80065f9516\" y=\"40.608925\"/>\n     <use style=\"fill:#1f77b4;stroke:#1f77b4;\" x=\"156.117453\" xlink:href=\"#m80065f9516\" y=\"98.655159\"/>\n     <use style=\"fill:#1f77b4;stroke:#1f77b4;\" x=\"71.952709\" xlink:href=\"#m80065f9516\" y=\"33.419353\"/>\n     <use style=\"fill:#1f77b4;stroke:#1f77b4;\" x=\"132.366678\" xlink:href=\"#m80065f9516\" y=\"70.240748\"/>\n     <use style=\"fill:#1f77b4;stroke:#1f77b4;\" x=\"81.865013\" xlink:href=\"#m80065f9516\" y=\"38.987508\"/>\n     <use style=\"fill:#1f77b4;stroke:#1f77b4;\" x=\"146.011189\" xlink:href=\"#m80065f9516\" y=\"62.838296\"/>\n     <use style=\"fill:#1f77b4;stroke:#1f77b4;\" x=\"137.986683\" xlink:href=\"#m80065f9516\" y=\"77.884084\"/>\n     <use style=\"fill:#1f77b4;stroke:#1f77b4;\" x=\"110.601509\" xlink:href=\"#m80065f9516\" y=\"60.244672\"/>\n     <use style=\"fill:#1f77b4;stroke:#1f77b4;\" x=\"144.02848\" xlink:href=\"#m80065f9516\" y=\"54.512322\"/>\n     <use style=\"fill:#1f77b4;stroke:#1f77b4;\" x=\"110.035545\" xlink:href=\"#m80065f9516\" y=\"49.147857\"/>\n     <use style=\"fill:#1f77b4;stroke:#1f77b4;\" x=\"202.867587\" xlink:href=\"#m80065f9516\" y=\"124.135387\"/>\n     <use style=\"fill:#1f77b4;stroke:#1f77b4;\" x=\"135.724894\" xlink:href=\"#m80065f9516\" y=\"72.272893\"/>\n     <use style=\"fill:#1f77b4;stroke:#1f77b4;\" x=\"145.088964\" xlink:href=\"#m80065f9516\" y=\"80.067051\"/>\n     <use style=\"fill:#1f77b4;stroke:#1f77b4;\" x=\"71.003692\" xlink:href=\"#m80065f9516\" y=\"41.115805\"/>\n     <use style=\"fill:#1f77b4;stroke:#1f77b4;\" x=\"138.280085\" xlink:href=\"#m80065f9516\" y=\"56.257875\"/>\n     <use style=\"fill:#1f77b4;stroke:#1f77b4;\" x=\"147.596151\" xlink:href=\"#m80065f9516\" y=\"105.481521\"/>\n     <use style=\"fill:#1f77b4;stroke:#1f77b4;\" x=\"178.849027\" xlink:href=\"#m80065f9516\" y=\"95.34925\"/>\n     <use style=\"fill:#1f77b4;stroke:#1f77b4;\" x=\"134.892524\" xlink:href=\"#m80065f9516\" y=\"82.406985\"/>\n     <use style=\"fill:#1f77b4;stroke:#1f77b4;\" x=\"165.013681\" xlink:href=\"#m80065f9516\" y=\"88.796919\"/>\n     <use style=\"fill:#1f77b4;stroke:#1f77b4;\" x=\"122.746964\" xlink:href=\"#m80065f9516\" y=\"51.590354\"/>\n     <use style=\"fill:#1f77b4;stroke:#1f77b4;\" x=\"151.280376\" xlink:href=\"#m80065f9516\" y=\"80.492445\"/>\n     <use style=\"fill:#1f77b4;stroke:#1f77b4;\" x=\"117.66158\" xlink:href=\"#m80065f9516\" y=\"47.842892\"/>\n     <use style=\"fill:#1f77b4;stroke:#1f77b4;\" x=\"130.000269\" xlink:href=\"#m80065f9516\" y=\"76.452379\"/>\n     <use style=\"fill:#1f77b4;stroke:#1f77b4;\" x=\"92.8437\" xlink:href=\"#m80065f9516\" y=\"53.844803\"/>\n     <use style=\"fill:#1f77b4;stroke:#1f77b4;\" x=\"84.192089\" xlink:href=\"#m80065f9516\" y=\"41.013032\"/>\n     <use style=\"fill:#1f77b4;stroke:#1f77b4;\" x=\"157.71815\" xlink:href=\"#m80065f9516\" y=\"88.154599\"/>\n     <use style=\"fill:#1f77b4;stroke:#1f77b4;\" x=\"150.955839\" xlink:href=\"#m80065f9516\" y=\"85.130944\"/>\n     <use style=\"fill:#1f77b4;stroke:#1f77b4;\" x=\"79.234692\" xlink:href=\"#m80065f9516\" y=\"39.007118\"/>\n     <use style=\"fill:#1f77b4;stroke:#1f77b4;\" x=\"145.857461\" xlink:href=\"#m80065f9516\" y=\"83.052927\"/>\n     <use style=\"fill:#1f77b4;stroke:#1f77b4;\" x=\"115.009104\" xlink:href=\"#m80065f9516\" y=\"68.488208\"/>\n     <use style=\"fill:#1f77b4;stroke:#1f77b4;\" x=\"106.260896\" xlink:href=\"#m80065f9516\" y=\"60.888075\"/>\n     <use style=\"fill:#1f77b4;stroke:#1f77b4;\" x=\"150.554327\" xlink:href=\"#m80065f9516\" y=\"79.15037\"/>\n     <use style=\"fill:#1f77b4;stroke:#1f77b4;\" x=\"127.476877\" xlink:href=\"#m80065f9516\" y=\"79.425443\"/>\n     <use style=\"fill:#1f77b4;stroke:#1f77b4;\" x=\"128.136507\" xlink:href=\"#m80065f9516\" y=\"85.579898\"/>\n     <use style=\"fill:#1f77b4;stroke:#1f77b4;\" x=\"149.076809\" xlink:href=\"#m80065f9516\" y=\"69.630864\"/>\n     <use style=\"fill:#1f77b4;stroke:#1f77b4;\" x=\"92.163144\" xlink:href=\"#m80065f9516\" y=\"43.783754\"/>\n     <use style=\"fill:#1f77b4;stroke:#1f77b4;\" x=\"117.104253\" xlink:href=\"#m80065f9516\" y=\"71.297711\"/>\n     <use style=\"fill:#1f77b4;stroke:#1f77b4;\" x=\"140.568278\" xlink:href=\"#m80065f9516\" y=\"105.266495\"/>\n     <use style=\"fill:#1f77b4;stroke:#1f77b4;\" x=\"134.952367\" xlink:href=\"#m80065f9516\" y=\"65.855806\"/>\n     <use style=\"fill:#1f77b4;stroke:#1f77b4;\" x=\"125.143783\" xlink:href=\"#m80065f9516\" y=\"74.957284\"/>\n     <use style=\"fill:#1f77b4;stroke:#1f77b4;\" x=\"145.534077\" xlink:href=\"#m80065f9516\" y=\"97.515917\"/>\n     <use style=\"fill:#1f77b4;stroke:#1f77b4;\" x=\"165.627662\" xlink:href=\"#m80065f9516\" y=\"82.933563\"/>\n     <use style=\"fill:#1f77b4;stroke:#1f77b4;\" x=\"145.413894\" xlink:href=\"#m80065f9516\" y=\"93.45117\"/>\n     <use style=\"fill:#1f77b4;stroke:#1f77b4;\" x=\"128.670845\" xlink:href=\"#m80065f9516\" y=\"62.727997\"/>\n     <use style=\"fill:#1f77b4;stroke:#1f77b4;\" x=\"92.220244\" xlink:href=\"#m80065f9516\" y=\"46.649295\"/>\n     <use style=\"fill:#1f77b4;stroke:#1f77b4;\" x=\"113.926401\" xlink:href=\"#m80065f9516\" y=\"60.848505\"/>\n     <use style=\"fill:#1f77b4;stroke:#1f77b4;\" x=\"98.738677\" xlink:href=\"#m80065f9516\" y=\"59.763056\"/>\n     <use style=\"fill:#1f77b4;stroke:#1f77b4;\" x=\"144.133476\" xlink:href=\"#m80065f9516\" y=\"79.04285\"/>\n     <use style=\"fill:#1f77b4;stroke:#1f77b4;\" x=\"94.129954\" xlink:href=\"#m80065f9516\" y=\"45.473447\"/>\n     <use style=\"fill:#1f77b4;stroke:#1f77b4;\" x=\"124.513152\" xlink:href=\"#m80065f9516\" y=\"80.274536\"/>\n     <use style=\"fill:#1f77b4;stroke:#1f77b4;\" x=\"127.097799\" xlink:href=\"#m80065f9516\" y=\"65.151075\"/>\n     <use style=\"fill:#1f77b4;stroke:#1f77b4;\" x=\"202.768579\" xlink:href=\"#m80065f9516\" y=\"98.095963\"/>\n     <use style=\"fill:#1f77b4;stroke:#1f77b4;\" x=\"156.992681\" xlink:href=\"#m80065f9516\" y=\"84.076572\"/>\n     <use style=\"fill:#1f77b4;stroke:#1f77b4;\" x=\"128.025163\" xlink:href=\"#m80065f9516\" y=\"69.34618\"/>\n     <use style=\"fill:#1f77b4;stroke:#1f77b4;\" x=\"109.477722\" xlink:href=\"#m80065f9516\" y=\"42.543915\"/>\n     <use style=\"fill:#1f77b4;stroke:#1f77b4;\" x=\"164.090122\" xlink:href=\"#m80065f9516\" y=\"88.843701\"/>\n     <use style=\"fill:#1f77b4;stroke:#1f77b4;\" x=\"165.224272\" xlink:href=\"#m80065f9516\" y=\"83.597932\"/>\n     <use style=\"fill:#1f77b4;stroke:#1f77b4;\" x=\"145.328451\" xlink:href=\"#m80065f9516\" y=\"85.472794\"/>\n     <use style=\"fill:#1f77b4;stroke:#1f77b4;\" x=\"122.051966\" xlink:href=\"#m80065f9516\" y=\"42.864158\"/>\n     <use style=\"fill:#1f77b4;stroke:#1f77b4;\" x=\"152.037986\" xlink:href=\"#m80065f9516\" y=\"99.881936\"/>\n     <use style=\"fill:#1f77b4;stroke:#1f77b4;\" x=\"180.710246\" xlink:href=\"#m80065f9516\" y=\"88.713362\"/>\n     <use style=\"fill:#1f77b4;stroke:#1f77b4;\" x=\"135.924962\" xlink:href=\"#m80065f9516\" y=\"81.237739\"/>\n     <use style=\"fill:#1f77b4;stroke:#1f77b4;\" x=\"112.208931\" xlink:href=\"#m80065f9516\" y=\"59.54277\"/>\n     <use style=\"fill:#1f77b4;stroke:#1f77b4;\" x=\"165.084161\" xlink:href=\"#m80065f9516\" y=\"88.031391\"/>\n     <use style=\"fill:#1f77b4;stroke:#1f77b4;\" x=\"105.976954\" xlink:href=\"#m80065f9516\" y=\"45.437114\"/>\n     <use style=\"fill:#1f77b4;stroke:#1f77b4;\" x=\"111.622026\" xlink:href=\"#m80065f9516\" y=\"48.565509\"/>\n     <use style=\"fill:#1f77b4;stroke:#1f77b4;\" x=\"100.490592\" xlink:href=\"#m80065f9516\" y=\"42.940633\"/>\n     <use style=\"fill:#1f77b4;stroke:#1f77b4;\" x=\"69.232774\" xlink:href=\"#m80065f9516\" y=\"42.69284\"/>\n     <use style=\"fill:#1f77b4;stroke:#1f77b4;\" x=\"82.610614\" xlink:href=\"#m80065f9516\" y=\"40.971514\"/>\n     <use style=\"fill:#1f77b4;stroke:#1f77b4;\" x=\"169.79471\" xlink:href=\"#m80065f9516\" y=\"72.926978\"/>\n     <use style=\"fill:#1f77b4;stroke:#1f77b4;\" x=\"111.992017\" xlink:href=\"#m80065f9516\" y=\"61.019377\"/>\n     <use style=\"fill:#1f77b4;stroke:#1f77b4;\" x=\"77.752365\" xlink:href=\"#m80065f9516\" y=\"47.445514\"/>\n     <use style=\"fill:#1f77b4;stroke:#1f77b4;\" x=\"112.774508\" xlink:href=\"#m80065f9516\" y=\"64.20112\"/>\n     <use style=\"fill:#1f77b4;stroke:#1f77b4;\" x=\"154.974721\" xlink:href=\"#m80065f9516\" y=\"56.556066\"/>\n     <use style=\"fill:#1f77b4;stroke:#1f77b4;\" x=\"109.211824\" xlink:href=\"#m80065f9516\" y=\"59.017935\"/>\n     <use style=\"fill:#1f77b4;stroke:#1f77b4;\" x=\"84.189396\" xlink:href=\"#m80065f9516\" y=\"43.816117\"/>\n     <use style=\"fill:#1f77b4;stroke:#1f77b4;\" x=\"136.981137\" xlink:href=\"#m80065f9516\" y=\"69.25644\"/>\n     <use style=\"fill:#1f77b4;stroke:#1f77b4;\" x=\"105.093567\" xlink:href=\"#m80065f9516\" y=\"51.433319\"/>\n     <use style=\"fill:#1f77b4;stroke:#1f77b4;\" x=\"139.275258\" xlink:href=\"#m80065f9516\" y=\"76.25112\"/>\n     <use style=\"fill:#1f77b4;stroke:#1f77b4;\" x=\"150.922421\" xlink:href=\"#m80065f9516\" y=\"77.944011\"/>\n     <use style=\"fill:#1f77b4;stroke:#1f77b4;\" x=\"104.131633\" xlink:href=\"#m80065f9516\" y=\"76.407777\"/>\n     <use style=\"fill:#1f77b4;stroke:#1f77b4;\" x=\"202.876082\" xlink:href=\"#m80065f9516\" y=\"90.288572\"/>\n     <use style=\"fill:#1f77b4;stroke:#1f77b4;\" x=\"146.081776\" xlink:href=\"#m80065f9516\" y=\"66.744035\"/>\n     <use style=\"fill:#1f77b4;stroke:#1f77b4;\" x=\"85.631255\" xlink:href=\"#m80065f9516\" y=\"32.953181\"/>\n     <use style=\"fill:#1f77b4;stroke:#1f77b4;\" x=\"84.235523\" xlink:href=\"#m80065f9516\" y=\"45.361816\"/>\n     <use style=\"fill:#1f77b4;stroke:#1f77b4;\" x=\"91.031301\" xlink:href=\"#m80065f9516\" y=\"35.793997\"/>\n     <use style=\"fill:#1f77b4;stroke:#1f77b4;\" x=\"221.727415\" xlink:href=\"#m80065f9516\" y=\"121.939295\"/>\n     <use style=\"fill:#1f77b4;stroke:#1f77b4;\" x=\"171.577692\" xlink:href=\"#m80065f9516\" y=\"89.831123\"/>\n     <use style=\"fill:#1f77b4;stroke:#1f77b4;\" x=\"110.351273\" xlink:href=\"#m80065f9516\" y=\"65.455704\"/>\n     <use style=\"fill:#1f77b4;stroke:#1f77b4;\" x=\"112.330145\" xlink:href=\"#m80065f9516\" y=\"46.860124\"/>\n     <use style=\"fill:#1f77b4;stroke:#1f77b4;\" x=\"139.814905\" xlink:href=\"#m80065f9516\" y=\"73.19887\"/>\n     <use style=\"fill:#1f77b4;stroke:#1f77b4;\" x=\"187.00335\" xlink:href=\"#m80065f9516\" y=\"100.299147\"/>\n     <use style=\"fill:#1f77b4;stroke:#1f77b4;\" x=\"130.102963\" xlink:href=\"#m80065f9516\" y=\"66.701201\"/>\n     <use style=\"fill:#1f77b4;stroke:#1f77b4;\" x=\"58.677515\" xlink:href=\"#m80065f9516\" y=\"23.447681\"/>\n     <use style=\"fill:#1f77b4;stroke:#1f77b4;\" x=\"167.779031\" xlink:href=\"#m80065f9516\" y=\"89.810428\"/>\n     <use style=\"fill:#1f77b4;stroke:#1f77b4;\" x=\"105.554694\" xlink:href=\"#m80065f9516\" y=\"53.762311\"/>\n     <use style=\"fill:#1f77b4;stroke:#1f77b4;\" x=\"155.349692\" xlink:href=\"#m80065f9516\" y=\"81.77277\"/>\n     <use style=\"fill:#1f77b4;stroke:#1f77b4;\" x=\"147.198636\" xlink:href=\"#m80065f9516\" y=\"90.712843\"/>\n     <use style=\"fill:#1f77b4;stroke:#1f77b4;\" x=\"114.587536\" xlink:href=\"#m80065f9516\" y=\"49.762299\"/>\n     <use style=\"fill:#1f77b4;stroke:#1f77b4;\" x=\"136.178849\" xlink:href=\"#m80065f9516\" y=\"91.136295\"/>\n     <use style=\"fill:#1f77b4;stroke:#1f77b4;\" x=\"119.264587\" xlink:href=\"#m80065f9516\" y=\"54.896511\"/>\n     <use style=\"fill:#1f77b4;stroke:#1f77b4;\" x=\"179.550598\" xlink:href=\"#m80065f9516\" y=\"115.7141\"/>\n     <use style=\"fill:#1f77b4;stroke:#1f77b4;\" x=\"100.941422\" xlink:href=\"#m80065f9516\" y=\"43.077893\"/>\n     <use style=\"fill:#1f77b4;stroke:#1f77b4;\" x=\"171.507844\" xlink:href=\"#m80065f9516\" y=\"93.606106\"/>\n     <use style=\"fill:#1f77b4;stroke:#1f77b4;\" x=\"99.171238\" xlink:href=\"#m80065f9516\" y=\"57.149922\"/>\n     <use style=\"fill:#1f77b4;stroke:#1f77b4;\" x=\"167.618522\" xlink:href=\"#m80065f9516\" y=\"91.865609\"/>\n     <use style=\"fill:#1f77b4;stroke:#1f77b4;\" x=\"125.074616\" xlink:href=\"#m80065f9516\" y=\"62.362269\"/>\n     <use style=\"fill:#1f77b4;stroke:#1f77b4;\" x=\"126.652157\" xlink:href=\"#m80065f9516\" y=\"77.686915\"/>\n     <use style=\"fill:#1f77b4;stroke:#1f77b4;\" x=\"189.896308\" xlink:href=\"#m80065f9516\" y=\"99.218642\"/>\n     <use style=\"fill:#1f77b4;stroke:#1f77b4;\" x=\"122.437765\" xlink:href=\"#m80065f9516\" y=\"55.822893\"/>\n     <use style=\"fill:#1f77b4;stroke:#1f77b4;\" x=\"175.38222\" xlink:href=\"#m80065f9516\" y=\"84.322012\"/>\n     <use style=\"fill:#1f77b4;stroke:#1f77b4;\" x=\"96.466455\" xlink:href=\"#m80065f9516\" y=\"45.438833\"/>\n     <use style=\"fill:#1f77b4;stroke:#1f77b4;\" x=\"190.421019\" xlink:href=\"#m80065f9516\" y=\"101.993241\"/>\n     <use style=\"fill:#1f77b4;stroke:#1f77b4;\" x=\"164.849877\" xlink:href=\"#m80065f9516\" y=\"88.158308\"/>\n     <use style=\"fill:#1f77b4;stroke:#1f77b4;\" x=\"134.064399\" xlink:href=\"#m80065f9516\" y=\"92.801723\"/>\n     <use style=\"fill:#1f77b4;stroke:#1f77b4;\" x=\"81.817712\" xlink:href=\"#m80065f9516\" y=\"50.370365\"/>\n     <use style=\"fill:#1f77b4;stroke:#1f77b4;\" x=\"105.00332\" xlink:href=\"#m80065f9516\" y=\"56.310653\"/>\n     <use style=\"fill:#1f77b4;stroke:#1f77b4;\" x=\"50.993564\" xlink:href=\"#m80065f9516\" y=\"18.581671\"/>\n     <use style=\"fill:#1f77b4;stroke:#1f77b4;\" x=\"131.796514\" xlink:href=\"#m80065f9516\" y=\"72.106771\"/>\n     <use style=\"fill:#1f77b4;stroke:#1f77b4;\" x=\"115.962384\" xlink:href=\"#m80065f9516\" y=\"55.11242\"/>\n     <use style=\"fill:#1f77b4;stroke:#1f77b4;\" x=\"142.872553\" xlink:href=\"#m80065f9516\" y=\"82.195258\"/>\n     <use style=\"fill:#1f77b4;stroke:#1f77b4;\" x=\"104.506805\" xlink:href=\"#m80065f9516\" y=\"53.81312\"/>\n     <use style=\"fill:#1f77b4;stroke:#1f77b4;\" x=\"79.044054\" xlink:href=\"#m80065f9516\" y=\"49.362294\"/>\n     <use style=\"fill:#1f77b4;stroke:#1f77b4;\" x=\"102.807483\" xlink:href=\"#m80065f9516\" y=\"50.215888\"/>\n     <use style=\"fill:#1f77b4;stroke:#1f77b4;\" x=\"143.717889\" xlink:href=\"#m80065f9516\" y=\"80.292248\"/>\n     <use style=\"fill:#1f77b4;stroke:#1f77b4;\" x=\"99.362634\" xlink:href=\"#m80065f9516\" y=\"49.744173\"/>\n     <use style=\"fill:#1f77b4;stroke:#1f77b4;\" x=\"172.896508\" xlink:href=\"#m80065f9516\" y=\"100.642931\"/>\n     <use style=\"fill:#1f77b4;stroke:#1f77b4;\" x=\"121.82747\" xlink:href=\"#m80065f9516\" y=\"72.775305\"/>\n     <use style=\"fill:#1f77b4;stroke:#1f77b4;\" x=\"98.346734\" xlink:href=\"#m80065f9516\" y=\"38.62952\"/>\n     <use style=\"fill:#1f77b4;stroke:#1f77b4;\" x=\"102.604121\" xlink:href=\"#m80065f9516\" y=\"65.031843\"/>\n     <use style=\"fill:#1f77b4;stroke:#1f77b4;\" x=\"117.130955\" xlink:href=\"#m80065f9516\" y=\"62.626489\"/>\n     <use style=\"fill:#1f77b4;stroke:#1f77b4;\" x=\"154.913053\" xlink:href=\"#m80065f9516\" y=\"78.299893\"/>\n     <use style=\"fill:#1f77b4;stroke:#1f77b4;\" x=\"139.567951\" xlink:href=\"#m80065f9516\" y=\"77.50624\"/>\n     <use style=\"fill:#1f77b4;stroke:#1f77b4;\" x=\"149.94612\" xlink:href=\"#m80065f9516\" y=\"72.43239\"/>\n     <use style=\"fill:#1f77b4;stroke:#1f77b4;\" x=\"131.314826\" xlink:href=\"#m80065f9516\" y=\"62.743997\"/>\n     <use style=\"fill:#1f77b4;stroke:#1f77b4;\" x=\"134.183084\" xlink:href=\"#m80065f9516\" y=\"74.26207\"/>\n     <use style=\"fill:#1f77b4;stroke:#1f77b4;\" x=\"46.187433\" xlink:href=\"#m80065f9516\" y=\"33.802532\"/>\n     <use style=\"fill:#1f77b4;stroke:#1f77b4;\" x=\"80.534069\" xlink:href=\"#m80065f9516\" y=\"46.237078\"/>\n     <use style=\"fill:#1f77b4;stroke:#1f77b4;\" x=\"120.53463\" xlink:href=\"#m80065f9516\" y=\"84.809605\"/>\n     <use style=\"fill:#1f77b4;stroke:#1f77b4;\" x=\"116.278185\" xlink:href=\"#m80065f9516\" y=\"68.593136\"/>\n     <use style=\"fill:#1f77b4;stroke:#1f77b4;\" x=\"135.897979\" xlink:href=\"#m80065f9516\" y=\"80.943213\"/>\n     <use style=\"fill:#1f77b4;stroke:#1f77b4;\" x=\"144.581296\" xlink:href=\"#m80065f9516\" y=\"50.383257\"/>\n     <use style=\"fill:#1f77b4;stroke:#1f77b4;\" x=\"88.536866\" xlink:href=\"#m80065f9516\" y=\"59.717855\"/>\n     <use style=\"fill:#1f77b4;stroke:#1f77b4;\" x=\"134.020563\" xlink:href=\"#m80065f9516\" y=\"74.79846\"/>\n     <use style=\"fill:#1f77b4;stroke:#1f77b4;\" x=\"163.130816\" xlink:href=\"#m80065f9516\" y=\"84.075736\"/>\n     <use style=\"fill:#1f77b4;stroke:#1f77b4;\" x=\"143.058811\" xlink:href=\"#m80065f9516\" y=\"69.89504\"/>\n     <use style=\"fill:#1f77b4;stroke:#1f77b4;\" x=\"140.390571\" xlink:href=\"#m80065f9516\" y=\"72.214997\"/>\n     <use style=\"fill:#1f77b4;stroke:#1f77b4;\" x=\"148.896232\" xlink:href=\"#m80065f9516\" y=\"56.613071\"/>\n     <use style=\"fill:#1f77b4;stroke:#1f77b4;\" x=\"129.933375\" xlink:href=\"#m80065f9516\" y=\"80.7271\"/>\n     <use style=\"fill:#1f77b4;stroke:#1f77b4;\" x=\"145.799908\" xlink:href=\"#m80065f9516\" y=\"73.953561\"/>\n     <use style=\"fill:#1f77b4;stroke:#1f77b4;\" x=\"115.039998\" xlink:href=\"#m80065f9516\" y=\"61.055774\"/>\n     <use style=\"fill:#1f77b4;stroke:#1f77b4;\" x=\"201.368347\" xlink:href=\"#m80065f9516\" y=\"92.569219\"/>\n     <use style=\"fill:#1f77b4;stroke:#1f77b4;\" x=\"145.556342\" xlink:href=\"#m80065f9516\" y=\"84.16307\"/>\n     <use style=\"fill:#1f77b4;stroke:#1f77b4;\" x=\"179.835049\" xlink:href=\"#m80065f9516\" y=\"86.301539\"/>\n     <use style=\"fill:#1f77b4;stroke:#1f77b4;\" x=\"103.072806\" xlink:href=\"#m80065f9516\" y=\"43.248528\"/>\n     <use style=\"fill:#1f77b4;stroke:#1f77b4;\" x=\"91.887233\" xlink:href=\"#m80065f9516\" y=\"47.949461\"/>\n     <use style=\"fill:#1f77b4;stroke:#1f77b4;\" x=\"147.445392\" xlink:href=\"#m80065f9516\" y=\"69.994224\"/>\n     <use style=\"fill:#1f77b4;stroke:#1f77b4;\" x=\"147.661517\" xlink:href=\"#m80065f9516\" y=\"86.600489\"/>\n     <use style=\"fill:#1f77b4;stroke:#1f77b4;\" x=\"145.665903\" xlink:href=\"#m80065f9516\" y=\"67.159193\"/>\n     <use style=\"fill:#1f77b4;stroke:#1f77b4;\" x=\"107.652753\" xlink:href=\"#m80065f9516\" y=\"65.964211\"/>\n     <use style=\"fill:#1f77b4;stroke:#1f77b4;\" x=\"78.538239\" xlink:href=\"#m80065f9516\" y=\"49.593585\"/>\n     <use style=\"fill:#1f77b4;stroke:#1f77b4;\" x=\"128.413889\" xlink:href=\"#m80065f9516\" y=\"91.696024\"/>\n     <use style=\"fill:#1f77b4;stroke:#1f77b4;\" x=\"97.104789\" xlink:href=\"#m80065f9516\" y=\"55.929055\"/>\n     <use style=\"fill:#1f77b4;stroke:#1f77b4;\" x=\"136.226263\" xlink:href=\"#m80065f9516\" y=\"52.666899\"/>\n     <use style=\"fill:#1f77b4;stroke:#1f77b4;\" x=\"159.611406\" xlink:href=\"#m80065f9516\" y=\"70.756293\"/>\n     <use style=\"fill:#1f77b4;stroke:#1f77b4;\" x=\"128.59187\" xlink:href=\"#m80065f9516\" y=\"70.185152\"/>\n     <use style=\"fill:#1f77b4;stroke:#1f77b4;\" x=\"79.905898\" xlink:href=\"#m80065f9516\" y=\"40.543347\"/>\n     <use style=\"fill:#1f77b4;stroke:#1f77b4;\" x=\"160.092363\" xlink:href=\"#m80065f9516\" y=\"79.226406\"/>\n     <use style=\"fill:#1f77b4;stroke:#1f77b4;\" x=\"173.072968\" xlink:href=\"#m80065f9516\" y=\"126.784162\"/>\n     <use style=\"fill:#1f77b4;stroke:#1f77b4;\" x=\"122.539191\" xlink:href=\"#m80065f9516\" y=\"72.088238\"/>\n     <use style=\"fill:#1f77b4;stroke:#1f77b4;\" x=\"110.569276\" xlink:href=\"#m80065f9516\" y=\"58.935627\"/>\n     <use style=\"fill:#1f77b4;stroke:#1f77b4;\" x=\"208.596674\" xlink:href=\"#m80065f9516\" y=\"134.801274\"/>\n     <use style=\"fill:#1f77b4;stroke:#1f77b4;\" x=\"140.045238\" xlink:href=\"#m80065f9516\" y=\"61.841009\"/>\n     <use style=\"fill:#1f77b4;stroke:#1f77b4;\" x=\"113.347324\" xlink:href=\"#m80065f9516\" y=\"50.65487\"/>\n     <use style=\"fill:#1f77b4;stroke:#1f77b4;\" x=\"149.912404\" xlink:href=\"#m80065f9516\" y=\"88.735932\"/>\n     <use style=\"fill:#1f77b4;stroke:#1f77b4;\" x=\"98.786623\" xlink:href=\"#m80065f9516\" y=\"39.146874\"/>\n     <use style=\"fill:#1f77b4;stroke:#1f77b4;\" x=\"168.391963\" xlink:href=\"#m80065f9516\" y=\"94.820156\"/>\n     <use style=\"fill:#1f77b4;stroke:#1f77b4;\" x=\"96.500546\" xlink:href=\"#m80065f9516\" y=\"54.554539\"/>\n     <use style=\"fill:#1f77b4;stroke:#1f77b4;\" x=\"111.316282\" xlink:href=\"#m80065f9516\" y=\"49.056547\"/>\n     <use style=\"fill:#1f77b4;stroke:#1f77b4;\" x=\"118.258167\" xlink:href=\"#m80065f9516\" y=\"61.001437\"/>\n     <use style=\"fill:#1f77b4;stroke:#1f77b4;\" x=\"140.348634\" xlink:href=\"#m80065f9516\" y=\"72.729053\"/>\n     <use style=\"fill:#1f77b4;stroke:#1f77b4;\" x=\"176.736754\" xlink:href=\"#m80065f9516\" y=\"99.064147\"/>\n     <use style=\"fill:#1f77b4;stroke:#1f77b4;\" x=\"135.962407\" xlink:href=\"#m80065f9516\" y=\"72.823182\"/>\n     <use style=\"fill:#1f77b4;stroke:#1f77b4;\" x=\"166.918948\" xlink:href=\"#m80065f9516\" y=\"92.390202\"/>\n     <use style=\"fill:#1f77b4;stroke:#1f77b4;\" x=\"134.60883\" xlink:href=\"#m80065f9516\" y=\"82.991595\"/>\n     <use style=\"fill:#1f77b4;stroke:#1f77b4;\" x=\"148.987365\" xlink:href=\"#m80065f9516\" y=\"81.570524\"/>\n     <use style=\"fill:#1f77b4;stroke:#1f77b4;\" x=\"150.912022\" xlink:href=\"#m80065f9516\" y=\"77.805779\"/>\n     <use style=\"fill:#1f77b4;stroke:#1f77b4;\" x=\"152.01802\" xlink:href=\"#m80065f9516\" y=\"83.085047\"/>\n     <use style=\"fill:#1f77b4;stroke:#1f77b4;\" x=\"96.372385\" xlink:href=\"#m80065f9516\" y=\"57.310862\"/>\n     <use style=\"fill:#1f77b4;stroke:#1f77b4;\" x=\"70.396397\" xlink:href=\"#m80065f9516\" y=\"43.947509\"/>\n     <use style=\"fill:#1f77b4;stroke:#1f77b4;\" x=\"138.745782\" xlink:href=\"#m80065f9516\" y=\"60.97189\"/>\n     <use style=\"fill:#1f77b4;stroke:#1f77b4;\" x=\"104.773958\" xlink:href=\"#m80065f9516\" y=\"50.133667\"/>\n     <use style=\"fill:#1f77b4;stroke:#1f77b4;\" x=\"128.263195\" xlink:href=\"#m80065f9516\" y=\"71.65397\"/>\n     <use style=\"fill:#1f77b4;stroke:#1f77b4;\" x=\"131.422969\" xlink:href=\"#m80065f9516\" y=\"68.697552\"/>\n     <use style=\"fill:#1f77b4;stroke:#1f77b4;\" x=\"102.810142\" xlink:href=\"#m80065f9516\" y=\"61.540758\"/>\n     <use style=\"fill:#1f77b4;stroke:#1f77b4;\" x=\"84.254345\" xlink:href=\"#m80065f9516\" y=\"49.06784\"/>\n     <use style=\"fill:#1f77b4;stroke:#1f77b4;\" x=\"171.365361\" xlink:href=\"#m80065f9516\" y=\"99.615649\"/>\n     <use style=\"fill:#1f77b4;stroke:#1f77b4;\" x=\"70.457438\" xlink:href=\"#m80065f9516\" y=\"37.634376\"/>\n     <use style=\"fill:#1f77b4;stroke:#1f77b4;\" x=\"94.509341\" xlink:href=\"#m80065f9516\" y=\"48.930957\"/>\n     <use style=\"fill:#1f77b4;stroke:#1f77b4;\" x=\"133.370167\" xlink:href=\"#m80065f9516\" y=\"40.077561\"/>\n     <use style=\"fill:#1f77b4;stroke:#1f77b4;\" x=\"137.687835\" xlink:href=\"#m80065f9516\" y=\"69.385002\"/>\n     <use style=\"fill:#1f77b4;stroke:#1f77b4;\" x=\"163.335245\" xlink:href=\"#m80065f9516\" y=\"87.623934\"/>\n     <use style=\"fill:#1f77b4;stroke:#1f77b4;\" x=\"127.60619\" xlink:href=\"#m80065f9516\" y=\"59.151027\"/>\n     <use style=\"fill:#1f77b4;stroke:#1f77b4;\" x=\"101.550915\" xlink:href=\"#m80065f9516\" y=\"62.767566\"/>\n     <use style=\"fill:#1f77b4;stroke:#1f77b4;\" x=\"139.4642\" xlink:href=\"#m80065f9516\" y=\"74.996368\"/>\n     <use style=\"fill:#1f77b4;stroke:#1f77b4;\" x=\"132.471972\" xlink:href=\"#m80065f9516\" y=\"71.794801\"/>\n     <use style=\"fill:#1f77b4;stroke:#1f77b4;\" x=\"98.29371\" xlink:href=\"#m80065f9516\" y=\"53.331325\"/>\n     <use style=\"fill:#1f77b4;stroke:#1f77b4;\" x=\"148.326274\" xlink:href=\"#m80065f9516\" y=\"83.292738\"/>\n     <use style=\"fill:#1f77b4;stroke:#1f77b4;\" x=\"122.410521\" xlink:href=\"#m80065f9516\" y=\"58.789928\"/>\n     <use style=\"fill:#1f77b4;stroke:#1f77b4;\" x=\"110.181695\" xlink:href=\"#m80065f9516\" y=\"69.067912\"/>\n     <use style=\"fill:#1f77b4;stroke:#1f77b4;\" x=\"126.753347\" xlink:href=\"#m80065f9516\" y=\"66.568107\"/>\n     <use style=\"fill:#1f77b4;stroke:#1f77b4;\" x=\"98.35076\" xlink:href=\"#m80065f9516\" y=\"48.279419\"/>\n     <use style=\"fill:#1f77b4;stroke:#1f77b4;\" x=\"118.01125\" xlink:href=\"#m80065f9516\" y=\"58.485891\"/>\n     <use style=\"fill:#1f77b4;stroke:#1f77b4;\" x=\"128.780051\" xlink:href=\"#m80065f9516\" y=\"76.072647\"/>\n     <use style=\"fill:#1f77b4;stroke:#1f77b4;\" x=\"102.679022\" xlink:href=\"#m80065f9516\" y=\"40.450652\"/>\n     <use style=\"fill:#1f77b4;stroke:#1f77b4;\" x=\"177.589009\" xlink:href=\"#m80065f9516\" y=\"92.050886\"/>\n     <use style=\"fill:#1f77b4;stroke:#1f77b4;\" x=\"117.845203\" xlink:href=\"#m80065f9516\" y=\"72.809654\"/>\n     <use style=\"fill:#1f77b4;stroke:#1f77b4;\" x=\"121.99767\" xlink:href=\"#m80065f9516\" y=\"69.058931\"/>\n     <use style=\"fill:#1f77b4;stroke:#1f77b4;\" x=\"154.068488\" xlink:href=\"#m80065f9516\" y=\"63.383143\"/>\n     <use style=\"fill:#1f77b4;stroke:#1f77b4;\" x=\"120.58742\" xlink:href=\"#m80065f9516\" y=\"71.053806\"/>\n     <use style=\"fill:#1f77b4;stroke:#1f77b4;\" x=\"149.682792\" xlink:href=\"#m80065f9516\" y=\"87.013932\"/>\n     <use style=\"fill:#1f77b4;stroke:#1f77b4;\" x=\"127.299901\" xlink:href=\"#m80065f9516\" y=\"68.675597\"/>\n     <use style=\"fill:#1f77b4;stroke:#1f77b4;\" x=\"107.318576\" xlink:href=\"#m80065f9516\" y=\"49.821783\"/>\n     <use style=\"fill:#1f77b4;stroke:#1f77b4;\" x=\"173.219469\" xlink:href=\"#m80065f9516\" y=\"113.07416\"/>\n     <use style=\"fill:#1f77b4;stroke:#1f77b4;\" x=\"164.738558\" xlink:href=\"#m80065f9516\" y=\"90.769997\"/>\n     <use style=\"fill:#1f77b4;stroke:#1f77b4;\" x=\"123.985332\" xlink:href=\"#m80065f9516\" y=\"73.678256\"/>\n     <use style=\"fill:#1f77b4;stroke:#1f77b4;\" x=\"149.396622\" xlink:href=\"#m80065f9516\" y=\"81.872922\"/>\n     <use style=\"fill:#1f77b4;stroke:#1f77b4;\" x=\"141.974925\" xlink:href=\"#m80065f9516\" y=\"74.569596\"/>\n     <use style=\"fill:#1f77b4;stroke:#1f77b4;\" x=\"70.410658\" xlink:href=\"#m80065f9516\" y=\"38.224895\"/>\n     <use style=\"fill:#1f77b4;stroke:#1f77b4;\" x=\"133.392387\" xlink:href=\"#m80065f9516\" y=\"71.587527\"/>\n     <use style=\"fill:#1f77b4;stroke:#1f77b4;\" x=\"93.159019\" xlink:href=\"#m80065f9516\" y=\"50.293715\"/>\n     <use style=\"fill:#1f77b4;stroke:#1f77b4;\" x=\"130.986297\" xlink:href=\"#m80065f9516\" y=\"66.981974\"/>\n     <use style=\"fill:#1f77b4;stroke:#1f77b4;\" x=\"174.935285\" xlink:href=\"#m80065f9516\" y=\"89.74215\"/>\n     <use style=\"fill:#1f77b4;stroke:#1f77b4;\" x=\"134.400105\" xlink:href=\"#m80065f9516\" y=\"81.120838\"/>\n     <use style=\"fill:#1f77b4;stroke:#1f77b4;\" x=\"99.961127\" xlink:href=\"#m80065f9516\" y=\"52.848818\"/>\n     <use style=\"fill:#1f77b4;stroke:#1f77b4;\" x=\"154.244119\" xlink:href=\"#m80065f9516\" y=\"96.634236\"/>\n     <use style=\"fill:#1f77b4;stroke:#1f77b4;\" x=\"161.095434\" xlink:href=\"#m80065f9516\" y=\"76.732891\"/>\n     <use style=\"fill:#1f77b4;stroke:#1f77b4;\" x=\"100.930891\" xlink:href=\"#m80065f9516\" y=\"58.43786\"/>\n     <use style=\"fill:#1f77b4;stroke:#1f77b4;\" x=\"147.439157\" xlink:href=\"#m80065f9516\" y=\"84.382301\"/>\n     <use style=\"fill:#1f77b4;stroke:#1f77b4;\" x=\"144.321304\" xlink:href=\"#m80065f9516\" y=\"73.944079\"/>\n     <use style=\"fill:#1f77b4;stroke:#1f77b4;\" x=\"163.856918\" xlink:href=\"#m80065f9516\" y=\"93.910782\"/>\n     <use style=\"fill:#1f77b4;stroke:#1f77b4;\" x=\"150.701635\" xlink:href=\"#m80065f9516\" y=\"87.185987\"/>\n     <use style=\"fill:#1f77b4;stroke:#1f77b4;\" x=\"149.622951\" xlink:href=\"#m80065f9516\" y=\"84.122975\"/>\n     <use style=\"fill:#1f77b4;stroke:#1f77b4;\" x=\"147.01621\" xlink:href=\"#m80065f9516\" y=\"92.771427\"/>\n     <use style=\"fill:#1f77b4;stroke:#1f77b4;\" x=\"136.571698\" xlink:href=\"#m80065f9516\" y=\"81.846114\"/>\n     <use style=\"fill:#1f77b4;stroke:#1f77b4;\" x=\"132.791533\" xlink:href=\"#m80065f9516\" y=\"74.345901\"/>\n     <use style=\"fill:#1f77b4;stroke:#1f77b4;\" x=\"100.652181\" xlink:href=\"#m80065f9516\" y=\"52.019188\"/>\n     <use style=\"fill:#1f77b4;stroke:#1f77b4;\" x=\"111.715541\" xlink:href=\"#m80065f9516\" y=\"73.076092\"/>\n     <use style=\"fill:#1f77b4;stroke:#1f77b4;\" x=\"63.559774\" xlink:href=\"#m80065f9516\" y=\"34.883518\"/>\n     <use style=\"fill:#1f77b4;stroke:#1f77b4;\" x=\"81.260018\" xlink:href=\"#m80065f9516\" y=\"39.474214\"/>\n     <use style=\"fill:#1f77b4;stroke:#1f77b4;\" x=\"122.175677\" xlink:href=\"#m80065f9516\" y=\"59.80062\"/>\n     <use style=\"fill:#1f77b4;stroke:#1f77b4;\" x=\"135.139991\" xlink:href=\"#m80065f9516\" y=\"70.221831\"/>\n     <use style=\"fill:#1f77b4;stroke:#1f77b4;\" x=\"106.942844\" xlink:href=\"#m80065f9516\" y=\"42.673028\"/>\n     <use style=\"fill:#1f77b4;stroke:#1f77b4;\" x=\"113.040257\" xlink:href=\"#m80065f9516\" y=\"65.248453\"/>\n     <use style=\"fill:#1f77b4;stroke:#1f77b4;\" x=\"148.175945\" xlink:href=\"#m80065f9516\" y=\"78.883261\"/>\n     <use style=\"fill:#1f77b4;stroke:#1f77b4;\" x=\"132.352224\" xlink:href=\"#m80065f9516\" y=\"64.38241\"/>\n     <use style=\"fill:#1f77b4;stroke:#1f77b4;\" x=\"146.106892\" xlink:href=\"#m80065f9516\" y=\"71.820156\"/>\n     <use style=\"fill:#1f77b4;stroke:#1f77b4;\" x=\"160.929598\" xlink:href=\"#m80065f9516\" y=\"95.756201\"/>\n     <use style=\"fill:#1f77b4;stroke:#1f77b4;\" x=\"131.334494\" xlink:href=\"#m80065f9516\" y=\"83.024179\"/>\n     <use style=\"fill:#1f77b4;stroke:#1f77b4;\" x=\"154.289538\" xlink:href=\"#m80065f9516\" y=\"84.919228\"/>\n     <use style=\"fill:#1f77b4;stroke:#1f77b4;\" x=\"135.844257\" xlink:href=\"#m80065f9516\" y=\"66.814139\"/>\n     <use style=\"fill:#1f77b4;stroke:#1f77b4;\" x=\"140.583025\" xlink:href=\"#m80065f9516\" y=\"61.434401\"/>\n     <use style=\"fill:#1f77b4;stroke:#1f77b4;\" x=\"110.365193\" xlink:href=\"#m80065f9516\" y=\"52.886559\"/>\n     <use style=\"fill:#1f77b4;stroke:#1f77b4;\" x=\"145.374708\" xlink:href=\"#m80065f9516\" y=\"67.729306\"/>\n     <use style=\"fill:#1f77b4;stroke:#1f77b4;\" x=\"131.893389\" xlink:href=\"#m80065f9516\" y=\"68.528066\"/>\n     <use style=\"fill:#1f77b4;stroke:#1f77b4;\" x=\"91.242427\" xlink:href=\"#m80065f9516\" y=\"56.099456\"/>\n     <use style=\"fill:#1f77b4;stroke:#1f77b4;\" x=\"146.48535\" xlink:href=\"#m80065f9516\" y=\"89.263918\"/>\n     <use style=\"fill:#1f77b4;stroke:#1f77b4;\" x=\"195.041265\" xlink:href=\"#m80065f9516\" y=\"106.799896\"/>\n     <use style=\"fill:#1f77b4;stroke:#1f77b4;\" x=\"175.785657\" xlink:href=\"#m80065f9516\" y=\"104.089144\"/>\n     <use style=\"fill:#1f77b4;stroke:#1f77b4;\" x=\"150.15596\" xlink:href=\"#m80065f9516\" y=\"72.02859\"/>\n     <use style=\"fill:#1f77b4;stroke:#1f77b4;\" x=\"162.613312\" xlink:href=\"#m80065f9516\" y=\"90.132184\"/>\n     <use style=\"fill:#1f77b4;stroke:#1f77b4;\" x=\"146.07905\" xlink:href=\"#m80065f9516\" y=\"67.214154\"/>\n     <use style=\"fill:#1f77b4;stroke:#1f77b4;\" x=\"189.692699\" xlink:href=\"#m80065f9516\" y=\"99.646958\"/>\n     <use style=\"fill:#1f77b4;stroke:#1f77b4;\" x=\"158.263667\" xlink:href=\"#m80065f9516\" y=\"105.463563\"/>\n     <use style=\"fill:#1f77b4;stroke:#1f77b4;\" x=\"151.263858\" xlink:href=\"#m80065f9516\" y=\"88.70442\"/>\n     <use style=\"fill:#1f77b4;stroke:#1f77b4;\" x=\"105.085089\" xlink:href=\"#m80065f9516\" y=\"69.415227\"/>\n     <use style=\"fill:#1f77b4;stroke:#1f77b4;\" x=\"90.160063\" xlink:href=\"#m80065f9516\" y=\"56.360785\"/>\n     <use style=\"fill:#1f77b4;stroke:#1f77b4;\" x=\"168.636375\" xlink:href=\"#m80065f9516\" y=\"75.876517\"/>\n     <use style=\"fill:#1f77b4;stroke:#1f77b4;\" x=\"109.448798\" xlink:href=\"#m80065f9516\" y=\"56.245219\"/>\n     <use style=\"fill:#1f77b4;stroke:#1f77b4;\" x=\"72.159991\" xlink:href=\"#m80065f9516\" y=\"41.350412\"/>\n     <use style=\"fill:#1f77b4;stroke:#1f77b4;\" x=\"122.525113\" xlink:href=\"#m80065f9516\" y=\"52.460864\"/>\n     <use style=\"fill:#1f77b4;stroke:#1f77b4;\" x=\"85.364203\" xlink:href=\"#m80065f9516\" y=\"35.583676\"/>\n     <use style=\"fill:#1f77b4;stroke:#1f77b4;\" x=\"93.666407\" xlink:href=\"#m80065f9516\" y=\"52.41815\"/>\n     <use style=\"fill:#1f77b4;stroke:#1f77b4;\" x=\"98.422548\" xlink:href=\"#m80065f9516\" y=\"66.322357\"/>\n     <use style=\"fill:#1f77b4;stroke:#1f77b4;\" x=\"123.09343\" xlink:href=\"#m80065f9516\" y=\"84.025113\"/>\n     <use style=\"fill:#1f77b4;stroke:#1f77b4;\" x=\"122.818171\" xlink:href=\"#m80065f9516\" y=\"68.94455\"/>\n     <use style=\"fill:#1f77b4;stroke:#1f77b4;\" x=\"117.413637\" xlink:href=\"#m80065f9516\" y=\"76.262222\"/>\n     <use style=\"fill:#1f77b4;stroke:#1f77b4;\" x=\"89.495572\" xlink:href=\"#m80065f9516\" y=\"56.603843\"/>\n     <use style=\"fill:#1f77b4;stroke:#1f77b4;\" x=\"156.296176\" xlink:href=\"#m80065f9516\" y=\"80.105334\"/>\n     <use style=\"fill:#1f77b4;stroke:#1f77b4;\" x=\"119.927216\" xlink:href=\"#m80065f9516\" y=\"52.657214\"/>\n     <use style=\"fill:#1f77b4;stroke:#1f77b4;\" x=\"141.63234\" xlink:href=\"#m80065f9516\" y=\"88.063981\"/>\n     <use style=\"fill:#1f77b4;stroke:#1f77b4;\" x=\"116.19592\" xlink:href=\"#m80065f9516\" y=\"70.461191\"/>\n     <use style=\"fill:#1f77b4;stroke:#1f77b4;\" x=\"68.021493\" xlink:href=\"#m80065f9516\" y=\"28.593744\"/>\n     <use style=\"fill:#1f77b4;stroke:#1f77b4;\" x=\"130.263068\" xlink:href=\"#m80065f9516\" y=\"85.834712\"/>\n     <use style=\"fill:#1f77b4;stroke:#1f77b4;\" x=\"156.655079\" xlink:href=\"#m80065f9516\" y=\"100.911308\"/>\n     <use style=\"fill:#1f77b4;stroke:#1f77b4;\" x=\"114.910573\" xlink:href=\"#m80065f9516\" y=\"65.349354\"/>\n     <use style=\"fill:#1f77b4;stroke:#1f77b4;\" x=\"75.836593\" xlink:href=\"#m80065f9516\" y=\"37.292621\"/>\n     <use style=\"fill:#1f77b4;stroke:#1f77b4;\" x=\"98.204875\" xlink:href=\"#m80065f9516\" y=\"60.600097\"/>\n     <use style=\"fill:#1f77b4;stroke:#1f77b4;\" x=\"146.281473\" xlink:href=\"#m80065f9516\" y=\"61.53376\"/>\n     <use style=\"fill:#1f77b4;stroke:#1f77b4;\" x=\"112.700724\" xlink:href=\"#m80065f9516\" y=\"72.36009\"/>\n     <use style=\"fill:#1f77b4;stroke:#1f77b4;\" x=\"97.206365\" xlink:href=\"#m80065f9516\" y=\"42.171323\"/>\n     <use style=\"fill:#1f77b4;stroke:#1f77b4;\" x=\"129.067471\" xlink:href=\"#m80065f9516\" y=\"67.950911\"/>\n     <use style=\"fill:#1f77b4;stroke:#1f77b4;\" x=\"132.826914\" xlink:href=\"#m80065f9516\" y=\"56.199533\"/>\n     <use style=\"fill:#1f77b4;stroke:#1f77b4;\" x=\"114.488388\" xlink:href=\"#m80065f9516\" y=\"70.223219\"/>\n     <use style=\"fill:#1f77b4;stroke:#1f77b4;\" x=\"116.776799\" xlink:href=\"#m80065f9516\" y=\"54.009304\"/>\n     <use style=\"fill:#1f77b4;stroke:#1f77b4;\" x=\"117.737728\" xlink:href=\"#m80065f9516\" y=\"64.808581\"/>\n     <use style=\"fill:#1f77b4;stroke:#1f77b4;\" x=\"170.338286\" xlink:href=\"#m80065f9516\" y=\"84.584745\"/>\n     <use style=\"fill:#1f77b4;stroke:#1f77b4;\" x=\"113.750577\" xlink:href=\"#m80065f9516\" y=\"80.901611\"/>\n     <use style=\"fill:#1f77b4;stroke:#1f77b4;\" x=\"148.968798\" xlink:href=\"#m80065f9516\" y=\"82.280426\"/>\n     <use style=\"fill:#1f77b4;stroke:#1f77b4;\" x=\"149.528319\" xlink:href=\"#m80065f9516\" y=\"83.152074\"/>\n     <use style=\"fill:#1f77b4;stroke:#1f77b4;\" x=\"90.335207\" xlink:href=\"#m80065f9516\" y=\"43.636713\"/>\n     <use style=\"fill:#1f77b4;stroke:#1f77b4;\" x=\"124.339788\" xlink:href=\"#m80065f9516\" y=\"69.537284\"/>\n     <use style=\"fill:#1f77b4;stroke:#1f77b4;\" x=\"150.299935\" xlink:href=\"#m80065f9516\" y=\"87.93495\"/>\n     <use style=\"fill:#1f77b4;stroke:#1f77b4;\" x=\"144.796635\" xlink:href=\"#m80065f9516\" y=\"81.33047\"/>\n     <use style=\"fill:#1f77b4;stroke:#1f77b4;\" x=\"118.552418\" xlink:href=\"#m80065f9516\" y=\"62.992516\"/>\n     <use style=\"fill:#1f77b4;stroke:#1f77b4;\" x=\"134.680583\" xlink:href=\"#m80065f9516\" y=\"77.632149\"/>\n     <use style=\"fill:#1f77b4;stroke:#1f77b4;\" x=\"145.053631\" xlink:href=\"#m80065f9516\" y=\"81.704675\"/>\n     <use style=\"fill:#1f77b4;stroke:#1f77b4;\" x=\"179.587864\" xlink:href=\"#m80065f9516\" y=\"107.841527\"/>\n     <use style=\"fill:#1f77b4;stroke:#1f77b4;\" x=\"67.291483\" xlink:href=\"#m80065f9516\" y=\"33.284961\"/>\n     <use style=\"fill:#1f77b4;stroke:#1f77b4;\" x=\"138.173448\" xlink:href=\"#m80065f9516\" y=\"56.443065\"/>\n     <use style=\"fill:#1f77b4;stroke:#1f77b4;\" x=\"125.953688\" xlink:href=\"#m80065f9516\" y=\"84.098214\"/>\n     <use style=\"fill:#1f77b4;stroke:#1f77b4;\" x=\"128.528826\" xlink:href=\"#m80065f9516\" y=\"67.757941\"/>\n     <use style=\"fill:#1f77b4;stroke:#1f77b4;\" x=\"116.797714\" xlink:href=\"#m80065f9516\" y=\"69.169244\"/>\n     <use style=\"fill:#1f77b4;stroke:#1f77b4;\" x=\"125.086526\" xlink:href=\"#m80065f9516\" y=\"56.068582\"/>\n     <use style=\"fill:#1f77b4;stroke:#1f77b4;\" x=\"155.173245\" xlink:href=\"#m80065f9516\" y=\"69.503704\"/>\n     <use style=\"fill:#1f77b4;stroke:#1f77b4;\" x=\"110.282141\" xlink:href=\"#m80065f9516\" y=\"66.209499\"/>\n     <use style=\"fill:#1f77b4;stroke:#1f77b4;\" x=\"173.563805\" xlink:href=\"#m80065f9516\" y=\"86.872691\"/>\n     <use style=\"fill:#1f77b4;stroke:#1f77b4;\" x=\"126.923181\" xlink:href=\"#m80065f9516\" y=\"76.465866\"/>\n     <use style=\"fill:#1f77b4;stroke:#1f77b4;\" x=\"99.926612\" xlink:href=\"#m80065f9516\" y=\"67.5447\"/>\n     <use style=\"fill:#1f77b4;stroke:#1f77b4;\" x=\"124.658281\" xlink:href=\"#m80065f9516\" y=\"79.807884\"/>\n     <use style=\"fill:#1f77b4;stroke:#1f77b4;\" x=\"52.417875\" xlink:href=\"#m80065f9516\" y=\"37.847513\"/>\n     <use style=\"fill:#1f77b4;stroke:#1f77b4;\" x=\"134.241179\" xlink:href=\"#m80065f9516\" y=\"74.963983\"/>\n     <use style=\"fill:#1f77b4;stroke:#1f77b4;\" x=\"125.406802\" xlink:href=\"#m80065f9516\" y=\"66.488332\"/>\n     <use style=\"fill:#1f77b4;stroke:#1f77b4;\" x=\"184.580108\" xlink:href=\"#m80065f9516\" y=\"94.311711\"/>\n     <use style=\"fill:#1f77b4;stroke:#1f77b4;\" x=\"66.727045\" xlink:href=\"#m80065f9516\" y=\"22.939007\"/>\n     <use style=\"fill:#1f77b4;stroke:#1f77b4;\" x=\"129.864026\" xlink:href=\"#m80065f9516\" y=\"88.507757\"/>\n     <use style=\"fill:#1f77b4;stroke:#1f77b4;\" x=\"137.361982\" xlink:href=\"#m80065f9516\" y=\"78.625914\"/>\n     <use style=\"fill:#1f77b4;stroke:#1f77b4;\" x=\"138.537242\" xlink:href=\"#m80065f9516\" y=\"78.855867\"/>\n     <use style=\"fill:#1f77b4;stroke:#1f77b4;\" x=\"112.308362\" xlink:href=\"#m80065f9516\" y=\"57.403329\"/>\n     <use style=\"fill:#1f77b4;stroke:#1f77b4;\" x=\"137.358411\" xlink:href=\"#m80065f9516\" y=\"78.387479\"/>\n     <use style=\"fill:#1f77b4;stroke:#1f77b4;\" x=\"106.175461\" xlink:href=\"#m80065f9516\" y=\"70.296691\"/>\n     <use style=\"fill:#1f77b4;stroke:#1f77b4;\" x=\"111.757594\" xlink:href=\"#m80065f9516\" y=\"72.45504\"/>\n     <use style=\"fill:#1f77b4;stroke:#1f77b4;\" x=\"110.343739\" xlink:href=\"#m80065f9516\" y=\"49.438703\"/>\n     <use style=\"fill:#1f77b4;stroke:#1f77b4;\" x=\"155.970713\" xlink:href=\"#m80065f9516\" y=\"95.023867\"/>\n     <use style=\"fill:#1f77b4;stroke:#1f77b4;\" x=\"161.167505\" xlink:href=\"#m80065f9516\" y=\"82.305288\"/>\n     <use style=\"fill:#1f77b4;stroke:#1f77b4;\" x=\"104.077458\" xlink:href=\"#m80065f9516\" y=\"55.249098\"/>\n     <use style=\"fill:#1f77b4;stroke:#1f77b4;\" x=\"139.534734\" xlink:href=\"#m80065f9516\" y=\"95.28544\"/>\n     <use style=\"fill:#1f77b4;stroke:#1f77b4;\" x=\"75.307003\" xlink:href=\"#m80065f9516\" y=\"31.448147\"/>\n     <use style=\"fill:#1f77b4;stroke:#1f77b4;\" x=\"104.63675\" xlink:href=\"#m80065f9516\" y=\"68.094945\"/>\n     <use style=\"fill:#1f77b4;stroke:#1f77b4;\" x=\"117.217018\" xlink:href=\"#m80065f9516\" y=\"50.034704\"/>\n     <use style=\"fill:#1f77b4;stroke:#1f77b4;\" x=\"168.670249\" xlink:href=\"#m80065f9516\" y=\"81.856417\"/>\n     <use style=\"fill:#1f77b4;stroke:#1f77b4;\" x=\"117.899918\" xlink:href=\"#m80065f9516\" y=\"59.288995\"/>\n     <use style=\"fill:#1f77b4;stroke:#1f77b4;\" x=\"150.404223\" xlink:href=\"#m80065f9516\" y=\"87.085386\"/>\n     <use style=\"fill:#1f77b4;stroke:#1f77b4;\" x=\"113.12062\" xlink:href=\"#m80065f9516\" y=\"57.587513\"/>\n     <use style=\"fill:#1f77b4;stroke:#1f77b4;\" x=\"137.29558\" xlink:href=\"#m80065f9516\" y=\"65.178943\"/>\n     <use style=\"fill:#1f77b4;stroke:#1f77b4;\" x=\"133.628231\" xlink:href=\"#m80065f9516\" y=\"75.55959\"/>\n     <use style=\"fill:#1f77b4;stroke:#1f77b4;\" x=\"162.965861\" xlink:href=\"#m80065f9516\" y=\"83.566905\"/>\n     <use style=\"fill:#1f77b4;stroke:#1f77b4;\" x=\"124.618638\" xlink:href=\"#m80065f9516\" y=\"63.742937\"/>\n     <use style=\"fill:#1f77b4;stroke:#1f77b4;\" x=\"149.728201\" xlink:href=\"#m80065f9516\" y=\"86.989055\"/>\n     <use style=\"fill:#1f77b4;stroke:#1f77b4;\" x=\"128.80016\" xlink:href=\"#m80065f9516\" y=\"74.952129\"/>\n     <use style=\"fill:#1f77b4;stroke:#1f77b4;\" x=\"137.619094\" xlink:href=\"#m80065f9516\" y=\"67.383456\"/>\n     <use style=\"fill:#1f77b4;stroke:#1f77b4;\" x=\"172.864948\" xlink:href=\"#m80065f9516\" y=\"89.89443\"/>\n     <use style=\"fill:#1f77b4;stroke:#1f77b4;\" x=\"76.410085\" xlink:href=\"#m80065f9516\" y=\"40.630743\"/>\n     <use style=\"fill:#1f77b4;stroke:#1f77b4;\" x=\"180.288743\" xlink:href=\"#m80065f9516\" y=\"98.2878\"/>\n     <use style=\"fill:#1f77b4;stroke:#1f77b4;\" x=\"163.943189\" xlink:href=\"#m80065f9516\" y=\"96.821867\"/>\n     <use style=\"fill:#1f77b4;stroke:#1f77b4;\" x=\"136.422412\" xlink:href=\"#m80065f9516\" y=\"70.458244\"/>\n     <use style=\"fill:#1f77b4;stroke:#1f77b4;\" x=\"102.826701\" xlink:href=\"#m80065f9516\" y=\"50.455327\"/>\n     <use style=\"fill:#1f77b4;stroke:#1f77b4;\" x=\"138.174757\" xlink:href=\"#m80065f9516\" y=\"82.236651\"/>\n     <use style=\"fill:#1f77b4;stroke:#1f77b4;\" x=\"156.446782\" xlink:href=\"#m80065f9516\" y=\"92.850492\"/>\n     <use style=\"fill:#1f77b4;stroke:#1f77b4;\" x=\"98.871292\" xlink:href=\"#m80065f9516\" y=\"49.58524\"/>\n     <use style=\"fill:#1f77b4;stroke:#1f77b4;\" x=\"50.80141\" xlink:href=\"#m80065f9516\" y=\"13.377273\"/>\n     <use style=\"fill:#1f77b4;stroke:#1f77b4;\" x=\"134.913677\" xlink:href=\"#m80065f9516\" y=\"67.148811\"/>\n     <use style=\"fill:#1f77b4;stroke:#1f77b4;\" x=\"112.543974\" xlink:href=\"#m80065f9516\" y=\"75.764833\"/>\n     <use style=\"fill:#1f77b4;stroke:#1f77b4;\" x=\"132.82413\" xlink:href=\"#m80065f9516\" y=\"57.799797\"/>\n     <use style=\"fill:#1f77b4;stroke:#1f77b4;\" x=\"175.887219\" xlink:href=\"#m80065f9516\" y=\"93.637048\"/>\n     <use style=\"fill:#1f77b4;stroke:#1f77b4;\" x=\"161.249753\" xlink:href=\"#m80065f9516\" y=\"79.648737\"/>\n     <use style=\"fill:#1f77b4;stroke:#1f77b4;\" x=\"165.5573\" xlink:href=\"#m80065f9516\" y=\"94.616678\"/>\n     <use style=\"fill:#1f77b4;stroke:#1f77b4;\" x=\"175.440069\" xlink:href=\"#m80065f9516\" y=\"94.225939\"/>\n     <use style=\"fill:#1f77b4;stroke:#1f77b4;\" x=\"110.835766\" xlink:href=\"#m80065f9516\" y=\"44.259142\"/>\n     <use style=\"fill:#1f77b4;stroke:#1f77b4;\" x=\"137.644055\" xlink:href=\"#m80065f9516\" y=\"81.7703\"/>\n     <use style=\"fill:#1f77b4;stroke:#1f77b4;\" x=\"88.234777\" xlink:href=\"#m80065f9516\" y=\"60.585573\"/>\n     <use style=\"fill:#1f77b4;stroke:#1f77b4;\" x=\"141.282453\" xlink:href=\"#m80065f9516\" y=\"72.271615\"/>\n     <use style=\"fill:#1f77b4;stroke:#1f77b4;\" x=\"98.05086\" xlink:href=\"#m80065f9516\" y=\"60.201859\"/>\n     <use style=\"fill:#1f77b4;stroke:#1f77b4;\" x=\"138.723008\" xlink:href=\"#m80065f9516\" y=\"73.280471\"/>\n     <use style=\"fill:#1f77b4;stroke:#1f77b4;\" x=\"165.952735\" xlink:href=\"#m80065f9516\" y=\"80.604704\"/>\n     <use style=\"fill:#1f77b4;stroke:#1f77b4;\" x=\"122.404709\" xlink:href=\"#m80065f9516\" y=\"51.744859\"/>\n     <use style=\"fill:#1f77b4;stroke:#1f77b4;\" x=\"144.091983\" xlink:href=\"#m80065f9516\" y=\"92.449539\"/>\n     <use style=\"fill:#1f77b4;stroke:#1f77b4;\" x=\"150.409887\" xlink:href=\"#m80065f9516\" y=\"104.027683\"/>\n     <use style=\"fill:#1f77b4;stroke:#1f77b4;\" x=\"136.321183\" xlink:href=\"#m80065f9516\" y=\"81.974145\"/>\n     <use style=\"fill:#1f77b4;stroke:#1f77b4;\" x=\"149.992678\" xlink:href=\"#m80065f9516\" y=\"75.212262\"/>\n     <use style=\"fill:#1f77b4;stroke:#1f77b4;\" x=\"176.080054\" xlink:href=\"#m80065f9516\" y=\"102.090086\"/>\n     <use style=\"fill:#1f77b4;stroke:#1f77b4;\" x=\"105.248147\" xlink:href=\"#m80065f9516\" y=\"55.304237\"/>\n     <use style=\"fill:#1f77b4;stroke:#1f77b4;\" x=\"92.699153\" xlink:href=\"#m80065f9516\" y=\"44.117367\"/>\n     <use style=\"fill:#1f77b4;stroke:#1f77b4;\" x=\"78.695481\" xlink:href=\"#m80065f9516\" y=\"40.450426\"/>\n     <use style=\"fill:#1f77b4;stroke:#1f77b4;\" x=\"98.894857\" xlink:href=\"#m80065f9516\" y=\"36.679818\"/>\n     <use style=\"fill:#1f77b4;stroke:#1f77b4;\" x=\"149.06592\" xlink:href=\"#m80065f9516\" y=\"83.132519\"/>\n     <use style=\"fill:#1f77b4;stroke:#1f77b4;\" x=\"136.728998\" xlink:href=\"#m80065f9516\" y=\"71.653827\"/>\n     <use style=\"fill:#1f77b4;stroke:#1f77b4;\" x=\"95.802634\" xlink:href=\"#m80065f9516\" y=\"38.913496\"/>\n     <use style=\"fill:#1f77b4;stroke:#1f77b4;\" x=\"137.560666\" xlink:href=\"#m80065f9516\" y=\"81.019077\"/>\n     <use style=\"fill:#1f77b4;stroke:#1f77b4;\" x=\"145.70266\" xlink:href=\"#m80065f9516\" y=\"85.285965\"/>\n     <use style=\"fill:#1f77b4;stroke:#1f77b4;\" x=\"115.823369\" xlink:href=\"#m80065f9516\" y=\"62.828962\"/>\n     <use style=\"fill:#1f77b4;stroke:#1f77b4;\" x=\"148.023461\" xlink:href=\"#m80065f9516\" y=\"94.346036\"/>\n     <use style=\"fill:#1f77b4;stroke:#1f77b4;\" x=\"101.943295\" xlink:href=\"#m80065f9516\" y=\"47.984418\"/>\n     <use style=\"fill:#1f77b4;stroke:#1f77b4;\" x=\"157.489665\" xlink:href=\"#m80065f9516\" y=\"107.531644\"/>\n     <use style=\"fill:#1f77b4;stroke:#1f77b4;\" x=\"111.345324\" xlink:href=\"#m80065f9516\" y=\"64.674874\"/>\n     <use style=\"fill:#1f77b4;stroke:#1f77b4;\" x=\"85.058024\" xlink:href=\"#m80065f9516\" y=\"52.939283\"/>\n     <use style=\"fill:#1f77b4;stroke:#1f77b4;\" x=\"143.574945\" xlink:href=\"#m80065f9516\" y=\"71.882467\"/>\n     <use style=\"fill:#1f77b4;stroke:#1f77b4;\" x=\"75.461232\" xlink:href=\"#m80065f9516\" y=\"28.764634\"/>\n     <use style=\"fill:#1f77b4;stroke:#1f77b4;\" x=\"92.702619\" xlink:href=\"#m80065f9516\" y=\"41.612904\"/>\n     <use style=\"fill:#1f77b4;stroke:#1f77b4;\" x=\"176.298736\" xlink:href=\"#m80065f9516\" y=\"99.841188\"/>\n     <use style=\"fill:#1f77b4;stroke:#1f77b4;\" x=\"102.699203\" xlink:href=\"#m80065f9516\" y=\"54.007526\"/>\n     <use style=\"fill:#1f77b4;stroke:#1f77b4;\" x=\"111.155064\" xlink:href=\"#m80065f9516\" y=\"66.582258\"/>\n     <use style=\"fill:#1f77b4;stroke:#1f77b4;\" x=\"109.612825\" xlink:href=\"#m80065f9516\" y=\"57.044947\"/>\n     <use style=\"fill:#1f77b4;stroke:#1f77b4;\" x=\"152.584159\" xlink:href=\"#m80065f9516\" y=\"72.884691\"/>\n     <use style=\"fill:#1f77b4;stroke:#1f77b4;\" x=\"97.982028\" xlink:href=\"#m80065f9516\" y=\"76.506083\"/>\n     <use style=\"fill:#1f77b4;stroke:#1f77b4;\" x=\"178.190135\" xlink:href=\"#m80065f9516\" y=\"86.916515\"/>\n     <use style=\"fill:#1f77b4;stroke:#1f77b4;\" x=\"83.574966\" xlink:href=\"#m80065f9516\" y=\"47.338767\"/>\n     <use style=\"fill:#1f77b4;stroke:#1f77b4;\" x=\"127.593181\" xlink:href=\"#m80065f9516\" y=\"62.904602\"/>\n     <use style=\"fill:#1f77b4;stroke:#1f77b4;\" x=\"73.970125\" xlink:href=\"#m80065f9516\" y=\"33.127546\"/>\n     <use style=\"fill:#1f77b4;stroke:#1f77b4;\" x=\"161.828173\" xlink:href=\"#m80065f9516\" y=\"82.803325\"/>\n     <use style=\"fill:#1f77b4;stroke:#1f77b4;\" x=\"119.904172\" xlink:href=\"#m80065f9516\" y=\"65.460839\"/>\n     <use style=\"fill:#1f77b4;stroke:#1f77b4;\" x=\"88.169414\" xlink:href=\"#m80065f9516\" y=\"38.413341\"/>\n     <use style=\"fill:#1f77b4;stroke:#1f77b4;\" x=\"147.575497\" xlink:href=\"#m80065f9516\" y=\"83.801154\"/>\n     <use style=\"fill:#1f77b4;stroke:#1f77b4;\" x=\"150.177543\" xlink:href=\"#m80065f9516\" y=\"86.235593\"/>\n     <use style=\"fill:#1f77b4;stroke:#1f77b4;\" x=\"171.195249\" xlink:href=\"#m80065f9516\" y=\"100.439258\"/>\n     <use style=\"fill:#1f77b4;stroke:#1f77b4;\" x=\"129.699166\" xlink:href=\"#m80065f9516\" y=\"71.535668\"/>\n     <use style=\"fill:#1f77b4;stroke:#1f77b4;\" x=\"139.801435\" xlink:href=\"#m80065f9516\" y=\"64.629499\"/>\n     <use style=\"fill:#1f77b4;stroke:#1f77b4;\" x=\"173.327731\" xlink:href=\"#m80065f9516\" y=\"100.54108\"/>\n     <use style=\"fill:#1f77b4;stroke:#1f77b4;\" x=\"115.366144\" xlink:href=\"#m80065f9516\" y=\"62.830725\"/>\n     <use style=\"fill:#1f77b4;stroke:#1f77b4;\" x=\"141.654898\" xlink:href=\"#m80065f9516\" y=\"70.567464\"/>\n     <use style=\"fill:#1f77b4;stroke:#1f77b4;\" x=\"164.70079\" xlink:href=\"#m80065f9516\" y=\"94.673408\"/>\n     <use style=\"fill:#1f77b4;stroke:#1f77b4;\" x=\"79.703627\" xlink:href=\"#m80065f9516\" y=\"41.277676\"/>\n     <use style=\"fill:#1f77b4;stroke:#1f77b4;\" x=\"146.43019\" xlink:href=\"#m80065f9516\" y=\"76.719567\"/>\n     <use style=\"fill:#1f77b4;stroke:#1f77b4;\" x=\"115.6129\" xlink:href=\"#m80065f9516\" y=\"54.48942\"/>\n     <use style=\"fill:#1f77b4;stroke:#1f77b4;\" x=\"94.70224\" xlink:href=\"#m80065f9516\" y=\"49.195841\"/>\n     <use style=\"fill:#1f77b4;stroke:#1f77b4;\" x=\"112.244638\" xlink:href=\"#m80065f9516\" y=\"54.549036\"/>\n     <use style=\"fill:#1f77b4;stroke:#1f77b4;\" x=\"126.486783\" xlink:href=\"#m80065f9516\" y=\"66.321034\"/>\n     <use style=\"fill:#1f77b4;stroke:#1f77b4;\" x=\"111.813482\" xlink:href=\"#m80065f9516\" y=\"44.507911\"/>\n     <use style=\"fill:#1f77b4;stroke:#1f77b4;\" x=\"164.340435\" xlink:href=\"#m80065f9516\" y=\"82.684531\"/>\n     <use style=\"fill:#1f77b4;stroke:#1f77b4;\" x=\"198.12994\" xlink:href=\"#m80065f9516\" y=\"126.06041\"/>\n     <use style=\"fill:#1f77b4;stroke:#1f77b4;\" x=\"171.097849\" xlink:href=\"#m80065f9516\" y=\"95.239008\"/>\n     <use style=\"fill:#1f77b4;stroke:#1f77b4;\" x=\"178.586514\" xlink:href=\"#m80065f9516\" y=\"106.710931\"/>\n     <use style=\"fill:#1f77b4;stroke:#1f77b4;\" x=\"96.162782\" xlink:href=\"#m80065f9516\" y=\"49.39184\"/>\n     <use style=\"fill:#1f77b4;stroke:#1f77b4;\" x=\"177.359857\" xlink:href=\"#m80065f9516\" y=\"82.70445\"/>\n     <use style=\"fill:#1f77b4;stroke:#1f77b4;\" x=\"118.686845\" xlink:href=\"#m80065f9516\" y=\"57.564251\"/>\n     <use style=\"fill:#1f77b4;stroke:#1f77b4;\" x=\"146.112348\" xlink:href=\"#m80065f9516\" y=\"86.51937\"/>\n     <use style=\"fill:#1f77b4;stroke:#1f77b4;\" x=\"104.772276\" xlink:href=\"#m80065f9516\" y=\"54.118719\"/>\n     <use style=\"fill:#1f77b4;stroke:#1f77b4;\" x=\"64.906223\" xlink:href=\"#m80065f9516\" y=\"23.664501\"/>\n     <use style=\"fill:#1f77b4;stroke:#1f77b4;\" x=\"116.601428\" xlink:href=\"#m80065f9516\" y=\"75.798485\"/>\n     <use style=\"fill:#1f77b4;stroke:#1f77b4;\" x=\"115.270942\" xlink:href=\"#m80065f9516\" y=\"37.201174\"/>\n     <use style=\"fill:#1f77b4;stroke:#1f77b4;\" x=\"95.597207\" xlink:href=\"#m80065f9516\" y=\"45.699036\"/>\n     <use style=\"fill:#1f77b4;stroke:#1f77b4;\" x=\"118.617449\" xlink:href=\"#m80065f9516\" y=\"57.425175\"/>\n     <use style=\"fill:#1f77b4;stroke:#1f77b4;\" x=\"154.968081\" xlink:href=\"#m80065f9516\" y=\"88.763967\"/>\n     <use style=\"fill:#1f77b4;stroke:#1f77b4;\" x=\"153.999053\" xlink:href=\"#m80065f9516\" y=\"86.87052\"/>\n     <use style=\"fill:#1f77b4;stroke:#1f77b4;\" x=\"102.817479\" xlink:href=\"#m80065f9516\" y=\"49.01396\"/>\n     <use style=\"fill:#1f77b4;stroke:#1f77b4;\" x=\"56.176878\" xlink:href=\"#m80065f9516\" y=\"32.245022\"/>\n     <use style=\"fill:#1f77b4;stroke:#1f77b4;\" x=\"101.266041\" xlink:href=\"#m80065f9516\" y=\"58.339961\"/>\n     <use style=\"fill:#1f77b4;stroke:#1f77b4;\" x=\"125.644513\" xlink:href=\"#m80065f9516\" y=\"77.845929\"/>\n     <use style=\"fill:#1f77b4;stroke:#1f77b4;\" x=\"134.792413\" xlink:href=\"#m80065f9516\" y=\"72.740797\"/>\n     <use style=\"fill:#1f77b4;stroke:#1f77b4;\" x=\"118.27015\" xlink:href=\"#m80065f9516\" y=\"51.159977\"/>\n     <use style=\"fill:#1f77b4;stroke:#1f77b4;\" x=\"140.019366\" xlink:href=\"#m80065f9516\" y=\"71.022374\"/>\n     <use style=\"fill:#1f77b4;stroke:#1f77b4;\" x=\"130.468304\" xlink:href=\"#m80065f9516\" y=\"45.493358\"/>\n     <use style=\"fill:#1f77b4;stroke:#1f77b4;\" x=\"103.015924\" xlink:href=\"#m80065f9516\" y=\"36.96798\"/>\n     <use style=\"fill:#1f77b4;stroke:#1f77b4;\" x=\"130.3119\" xlink:href=\"#m80065f9516\" y=\"59.978581\"/>\n     <use style=\"fill:#1f77b4;stroke:#1f77b4;\" x=\"137.353109\" xlink:href=\"#m80065f9516\" y=\"83.894806\"/>\n     <use style=\"fill:#1f77b4;stroke:#1f77b4;\" x=\"93.175063\" xlink:href=\"#m80065f9516\" y=\"40.848194\"/>\n     <use style=\"fill:#1f77b4;stroke:#1f77b4;\" x=\"113.610284\" xlink:href=\"#m80065f9516\" y=\"59.373239\"/>\n     <use style=\"fill:#1f77b4;stroke:#1f77b4;\" x=\"157.980838\" xlink:href=\"#m80065f9516\" y=\"88.038601\"/>\n     <use style=\"fill:#1f77b4;stroke:#1f77b4;\" x=\"126.723794\" xlink:href=\"#m80065f9516\" y=\"60.175362\"/>\n     <use style=\"fill:#1f77b4;stroke:#1f77b4;\" x=\"185.408738\" xlink:href=\"#m80065f9516\" y=\"96.479839\"/>\n     <use style=\"fill:#1f77b4;stroke:#1f77b4;\" x=\"123.517157\" xlink:href=\"#m80065f9516\" y=\"64.80875\"/>\n     <use style=\"fill:#1f77b4;stroke:#1f77b4;\" x=\"112.437521\" xlink:href=\"#m80065f9516\" y=\"79.377286\"/>\n     <use style=\"fill:#1f77b4;stroke:#1f77b4;\" x=\"61.126457\" xlink:href=\"#m80065f9516\" y=\"31.962836\"/>\n     <use style=\"fill:#1f77b4;stroke:#1f77b4;\" x=\"105.389037\" xlink:href=\"#m80065f9516\" y=\"64.586691\"/>\n     <use style=\"fill:#1f77b4;stroke:#1f77b4;\" x=\"122.141908\" xlink:href=\"#m80065f9516\" y=\"66.21483\"/>\n     <use style=\"fill:#1f77b4;stroke:#1f77b4;\" x=\"104.012753\" xlink:href=\"#m80065f9516\" y=\"49.266971\"/>\n     <use style=\"fill:#1f77b4;stroke:#1f77b4;\" x=\"154.379241\" xlink:href=\"#m80065f9516\" y=\"87.271832\"/>\n     <use style=\"fill:#1f77b4;stroke:#1f77b4;\" x=\"99.48681\" xlink:href=\"#m80065f9516\" y=\"55.182667\"/>\n     <use style=\"fill:#1f77b4;stroke:#1f77b4;\" x=\"147.894523\" xlink:href=\"#m80065f9516\" y=\"80.765866\"/>\n     <use style=\"fill:#1f77b4;stroke:#1f77b4;\" x=\"74.689452\" xlink:href=\"#m80065f9516\" y=\"62.60374\"/>\n     <use style=\"fill:#1f77b4;stroke:#1f77b4;\" x=\"139.635231\" xlink:href=\"#m80065f9516\" y=\"90.42921\"/>\n     <use style=\"fill:#1f77b4;stroke:#1f77b4;\" x=\"138.072357\" xlink:href=\"#m80065f9516\" y=\"80.430441\"/>\n     <use style=\"fill:#1f77b4;stroke:#1f77b4;\" x=\"135.729983\" xlink:href=\"#m80065f9516\" y=\"73.32297\"/>\n     <use style=\"fill:#1f77b4;stroke:#1f77b4;\" x=\"130.421272\" xlink:href=\"#m80065f9516\" y=\"70.245954\"/>\n     <use style=\"fill:#1f77b4;stroke:#1f77b4;\" x=\"78.139263\" xlink:href=\"#m80065f9516\" y=\"45.080948\"/>\n     <use style=\"fill:#1f77b4;stroke:#1f77b4;\" x=\"153.404769\" xlink:href=\"#m80065f9516\" y=\"73.89448\"/>\n     <use style=\"fill:#1f77b4;stroke:#1f77b4;\" x=\"141.789557\" xlink:href=\"#m80065f9516\" y=\"70.970952\"/>\n     <use style=\"fill:#1f77b4;stroke:#1f77b4;\" x=\"108.304082\" xlink:href=\"#m80065f9516\" y=\"58.868883\"/>\n     <use style=\"fill:#1f77b4;stroke:#1f77b4;\" x=\"126.312634\" xlink:href=\"#m80065f9516\" y=\"65.375225\"/>\n     <use style=\"fill:#1f77b4;stroke:#1f77b4;\" x=\"113.759539\" xlink:href=\"#m80065f9516\" y=\"56.248207\"/>\n     <use style=\"fill:#1f77b4;stroke:#1f77b4;\" x=\"92.434572\" xlink:href=\"#m80065f9516\" y=\"38.02897\"/>\n     <use style=\"fill:#1f77b4;stroke:#1f77b4;\" x=\"78.791783\" xlink:href=\"#m80065f9516\" y=\"42.911779\"/>\n     <use style=\"fill:#1f77b4;stroke:#1f77b4;\" x=\"82.948992\" xlink:href=\"#m80065f9516\" y=\"45.862381\"/>\n     <use style=\"fill:#1f77b4;stroke:#1f77b4;\" x=\"113.890282\" xlink:href=\"#m80065f9516\" y=\"65.318107\"/>\n     <use style=\"fill:#1f77b4;stroke:#1f77b4;\" x=\"118.260273\" xlink:href=\"#m80065f9516\" y=\"68.207697\"/>\n     <use style=\"fill:#1f77b4;stroke:#1f77b4;\" x=\"189.08626\" xlink:href=\"#m80065f9516\" y=\"113.544157\"/>\n     <use style=\"fill:#1f77b4;stroke:#1f77b4;\" x=\"136.754667\" xlink:href=\"#m80065f9516\" y=\"61.686697\"/>\n     <use style=\"fill:#1f77b4;stroke:#1f77b4;\" x=\"103.399157\" xlink:href=\"#m80065f9516\" y=\"49.035967\"/>\n     <use style=\"fill:#1f77b4;stroke:#1f77b4;\" x=\"107.621259\" xlink:href=\"#m80065f9516\" y=\"64.054639\"/>\n     <use style=\"fill:#1f77b4;stroke:#1f77b4;\" x=\"125.765578\" xlink:href=\"#m80065f9516\" y=\"53.087313\"/>\n     <use style=\"fill:#1f77b4;stroke:#1f77b4;\" x=\"115.639857\" xlink:href=\"#m80065f9516\" y=\"56.327449\"/>\n     <use style=\"fill:#1f77b4;stroke:#1f77b4;\" x=\"123.079384\" xlink:href=\"#m80065f9516\" y=\"53.165959\"/>\n     <use style=\"fill:#1f77b4;stroke:#1f77b4;\" x=\"156.539264\" xlink:href=\"#m80065f9516\" y=\"91.441699\"/>\n     <use style=\"fill:#1f77b4;stroke:#1f77b4;\" x=\"182.750499\" xlink:href=\"#m80065f9516\" y=\"95.698961\"/>\n     <use style=\"fill:#1f77b4;stroke:#1f77b4;\" x=\"189.585603\" xlink:href=\"#m80065f9516\" y=\"104.030448\"/>\n     <use style=\"fill:#1f77b4;stroke:#1f77b4;\" x=\"81.221208\" xlink:href=\"#m80065f9516\" y=\"47.592\"/>\n     <use style=\"fill:#1f77b4;stroke:#1f77b4;\" x=\"115.209226\" xlink:href=\"#m80065f9516\" y=\"64.813365\"/>\n     <use style=\"fill:#1f77b4;stroke:#1f77b4;\" x=\"172.835938\" xlink:href=\"#m80065f9516\" y=\"94.130966\"/>\n     <use style=\"fill:#1f77b4;stroke:#1f77b4;\" x=\"118.671607\" xlink:href=\"#m80065f9516\" y=\"54.343787\"/>\n     <use style=\"fill:#1f77b4;stroke:#1f77b4;\" x=\"134.521388\" xlink:href=\"#m80065f9516\" y=\"69.009942\"/>\n     <use style=\"fill:#1f77b4;stroke:#1f77b4;\" x=\"140.845545\" xlink:href=\"#m80065f9516\" y=\"79.971845\"/>\n     <use style=\"fill:#1f77b4;stroke:#1f77b4;\" x=\"157.005255\" xlink:href=\"#m80065f9516\" y=\"84.298813\"/>\n     <use style=\"fill:#1f77b4;stroke:#1f77b4;\" x=\"68.308248\" xlink:href=\"#m80065f9516\" y=\"32.506256\"/>\n     <use style=\"fill:#1f77b4;stroke:#1f77b4;\" x=\"137.902156\" xlink:href=\"#m80065f9516\" y=\"72.718497\"/>\n     <use style=\"fill:#1f77b4;stroke:#1f77b4;\" x=\"133.022836\" xlink:href=\"#m80065f9516\" y=\"65.441802\"/>\n     <use style=\"fill:#1f77b4;stroke:#1f77b4;\" x=\"86.215916\" xlink:href=\"#m80065f9516\" y=\"52.573606\"/>\n     <use style=\"fill:#1f77b4;stroke:#1f77b4;\" x=\"133.636638\" xlink:href=\"#m80065f9516\" y=\"77.384227\"/>\n     <use style=\"fill:#1f77b4;stroke:#1f77b4;\" x=\"116.340282\" xlink:href=\"#m80065f9516\" y=\"41.989635\"/>\n     <use style=\"fill:#1f77b4;stroke:#1f77b4;\" x=\"145.519082\" xlink:href=\"#m80065f9516\" y=\"76.495086\"/>\n     <use style=\"fill:#1f77b4;stroke:#1f77b4;\" x=\"108.486527\" xlink:href=\"#m80065f9516\" y=\"52.162866\"/>\n     <use style=\"fill:#1f77b4;stroke:#1f77b4;\" x=\"110.16011\" xlink:href=\"#m80065f9516\" y=\"70.370238\"/>\n     <use style=\"fill:#1f77b4;stroke:#1f77b4;\" x=\"108.567286\" xlink:href=\"#m80065f9516\" y=\"68.589974\"/>\n     <use style=\"fill:#1f77b4;stroke:#1f77b4;\" x=\"104.178928\" xlink:href=\"#m80065f9516\" y=\"60.582674\"/>\n     <use style=\"fill:#1f77b4;stroke:#1f77b4;\" x=\"148.918658\" xlink:href=\"#m80065f9516\" y=\"103.340414\"/>\n     <use style=\"fill:#1f77b4;stroke:#1f77b4;\" x=\"81.81527\" xlink:href=\"#m80065f9516\" y=\"36.355624\"/>\n     <use style=\"fill:#1f77b4;stroke:#1f77b4;\" x=\"130.543177\" xlink:href=\"#m80065f9516\" y=\"76.381468\"/>\n     <use style=\"fill:#1f77b4;stroke:#1f77b4;\" x=\"172.678321\" xlink:href=\"#m80065f9516\" y=\"103.157043\"/>\n     <use style=\"fill:#1f77b4;stroke:#1f77b4;\" x=\"122.771416\" xlink:href=\"#m80065f9516\" y=\"53.743191\"/>\n     <use style=\"fill:#1f77b4;stroke:#1f77b4;\" x=\"105.480785\" xlink:href=\"#m80065f9516\" y=\"39.687977\"/>\n     <use style=\"fill:#1f77b4;stroke:#1f77b4;\" x=\"145.102305\" xlink:href=\"#m80065f9516\" y=\"75.394674\"/>\n     <use style=\"fill:#1f77b4;stroke:#1f77b4;\" x=\"108.994479\" xlink:href=\"#m80065f9516\" y=\"51.985044\"/>\n     <use style=\"fill:#1f77b4;stroke:#1f77b4;\" x=\"136.613075\" xlink:href=\"#m80065f9516\" y=\"72.005831\"/>\n     <use style=\"fill:#1f77b4;stroke:#1f77b4;\" x=\"128.6785\" xlink:href=\"#m80065f9516\" y=\"66.376115\"/>\n     <use style=\"fill:#1f77b4;stroke:#1f77b4;\" x=\"188.305358\" xlink:href=\"#m80065f9516\" y=\"102.542423\"/>\n     <use style=\"fill:#1f77b4;stroke:#1f77b4;\" x=\"124.169673\" xlink:href=\"#m80065f9516\" y=\"65.48096\"/>\n     <use style=\"fill:#1f77b4;stroke:#1f77b4;\" x=\"144.061841\" xlink:href=\"#m80065f9516\" y=\"61.98878\"/>\n     <use style=\"fill:#1f77b4;stroke:#1f77b4;\" x=\"122.772589\" xlink:href=\"#m80065f9516\" y=\"61.819247\"/>\n     <use style=\"fill:#1f77b4;stroke:#1f77b4;\" x=\"150.462264\" xlink:href=\"#m80065f9516\" y=\"73.724833\"/>\n     <use style=\"fill:#1f77b4;stroke:#1f77b4;\" x=\"137.997757\" xlink:href=\"#m80065f9516\" y=\"64.034366\"/>\n     <use style=\"fill:#1f77b4;stroke:#1f77b4;\" x=\"173.997907\" xlink:href=\"#m80065f9516\" y=\"94.474284\"/>\n     <use style=\"fill:#1f77b4;stroke:#1f77b4;\" x=\"161.699427\" xlink:href=\"#m80065f9516\" y=\"75.041316\"/>\n     <use style=\"fill:#1f77b4;stroke:#1f77b4;\" x=\"152.26131\" xlink:href=\"#m80065f9516\" y=\"78.473708\"/>\n     <use style=\"fill:#1f77b4;stroke:#1f77b4;\" x=\"106.2209\" xlink:href=\"#m80065f9516\" y=\"44.147177\"/>\n     <use style=\"fill:#1f77b4;stroke:#1f77b4;\" x=\"161.484568\" xlink:href=\"#m80065f9516\" y=\"82.669587\"/>\n     <use style=\"fill:#1f77b4;stroke:#1f77b4;\" x=\"140.853801\" xlink:href=\"#m80065f9516\" y=\"77.57428\"/>\n     <use style=\"fill:#1f77b4;stroke:#1f77b4;\" x=\"126.485248\" xlink:href=\"#m80065f9516\" y=\"70.643377\"/>\n     <use style=\"fill:#1f77b4;stroke:#1f77b4;\" x=\"128.431395\" xlink:href=\"#m80065f9516\" y=\"56.427738\"/>\n     <use style=\"fill:#1f77b4;stroke:#1f77b4;\" x=\"138.053445\" xlink:href=\"#m80065f9516\" y=\"68.726868\"/>\n     <use style=\"fill:#1f77b4;stroke:#1f77b4;\" x=\"172.591106\" xlink:href=\"#m80065f9516\" y=\"102.583231\"/>\n     <use style=\"fill:#1f77b4;stroke:#1f77b4;\" x=\"115.420239\" xlink:href=\"#m80065f9516\" y=\"53.386808\"/>\n     <use style=\"fill:#1f77b4;stroke:#1f77b4;\" x=\"165.209105\" xlink:href=\"#m80065f9516\" y=\"81.194858\"/>\n     <use style=\"fill:#1f77b4;stroke:#1f77b4;\" x=\"141.291068\" xlink:href=\"#m80065f9516\" y=\"71.803397\"/>\n     <use style=\"fill:#1f77b4;stroke:#1f77b4;\" x=\"185.188704\" xlink:href=\"#m80065f9516\" y=\"129.401775\"/>\n     <use style=\"fill:#1f77b4;stroke:#1f77b4;\" x=\"122.209224\" xlink:href=\"#m80065f9516\" y=\"62.660576\"/>\n     <use style=\"fill:#1f77b4;stroke:#1f77b4;\" x=\"161.406949\" xlink:href=\"#m80065f9516\" y=\"96.00389\"/>\n     <use style=\"fill:#1f77b4;stroke:#1f77b4;\" x=\"136.311481\" xlink:href=\"#m80065f9516\" y=\"83.631845\"/>\n     <use style=\"fill:#1f77b4;stroke:#1f77b4;\" x=\"96.009979\" xlink:href=\"#m80065f9516\" y=\"39.796279\"/>\n     <use style=\"fill:#1f77b4;stroke:#1f77b4;\" x=\"112.262627\" xlink:href=\"#m80065f9516\" y=\"69.34712\"/>\n     <use style=\"fill:#1f77b4;stroke:#1f77b4;\" x=\"171.428074\" xlink:href=\"#m80065f9516\" y=\"103.575632\"/>\n     <use style=\"fill:#1f77b4;stroke:#1f77b4;\" x=\"118.8086\" xlink:href=\"#m80065f9516\" y=\"77.505655\"/>\n     <use style=\"fill:#1f77b4;stroke:#1f77b4;\" x=\"66.939925\" xlink:href=\"#m80065f9516\" y=\"55.926311\"/>\n     <use style=\"fill:#1f77b4;stroke:#1f77b4;\" x=\"133.92998\" xlink:href=\"#m80065f9516\" y=\"78.377305\"/>\n     <use style=\"fill:#1f77b4;stroke:#1f77b4;\" x=\"122.387935\" xlink:href=\"#m80065f9516\" y=\"76.356964\"/>\n     <use style=\"fill:#1f77b4;stroke:#1f77b4;\" x=\"146.517169\" xlink:href=\"#m80065f9516\" y=\"88.500144\"/>\n     <use style=\"fill:#1f77b4;stroke:#1f77b4;\" x=\"93.469681\" xlink:href=\"#m80065f9516\" y=\"51.976231\"/>\n     <use style=\"fill:#1f77b4;stroke:#1f77b4;\" x=\"129.788252\" xlink:href=\"#m80065f9516\" y=\"52.677248\"/>\n     <use style=\"fill:#1f77b4;stroke:#1f77b4;\" x=\"59.426497\" xlink:href=\"#m80065f9516\" y=\"34.367705\"/>\n     <use style=\"fill:#1f77b4;stroke:#1f77b4;\" x=\"115.456102\" xlink:href=\"#m80065f9516\" y=\"74.071465\"/>\n     <use style=\"fill:#1f77b4;stroke:#1f77b4;\" x=\"135.147976\" xlink:href=\"#m80065f9516\" y=\"67.994936\"/>\n     <use style=\"fill:#1f77b4;stroke:#1f77b4;\" x=\"135.310814\" xlink:href=\"#m80065f9516\" y=\"72.405435\"/>\n     <use style=\"fill:#1f77b4;stroke:#1f77b4;\" x=\"129.645902\" xlink:href=\"#m80065f9516\" y=\"82.069646\"/>\n     <use style=\"fill:#1f77b4;stroke:#1f77b4;\" x=\"93.423415\" xlink:href=\"#m80065f9516\" y=\"51.351548\"/>\n     <use style=\"fill:#1f77b4;stroke:#1f77b4;\" x=\"142.968048\" xlink:href=\"#m80065f9516\" y=\"78.036845\"/>\n     <use style=\"fill:#1f77b4;stroke:#1f77b4;\" x=\"156.585773\" xlink:href=\"#m80065f9516\" y=\"88.56186\"/>\n     <use style=\"fill:#1f77b4;stroke:#1f77b4;\" x=\"109.042808\" xlink:href=\"#m80065f9516\" y=\"68.836406\"/>\n     <use style=\"fill:#1f77b4;stroke:#1f77b4;\" x=\"164.041331\" xlink:href=\"#m80065f9516\" y=\"90.721387\"/>\n     <use style=\"fill:#1f77b4;stroke:#1f77b4;\" x=\"95.965607\" xlink:href=\"#m80065f9516\" y=\"42.820742\"/>\n     <use style=\"fill:#1f77b4;stroke:#1f77b4;\" x=\"187.549308\" xlink:href=\"#m80065f9516\" y=\"116.883776\"/>\n     <use style=\"fill:#1f77b4;stroke:#1f77b4;\" x=\"123.898402\" xlink:href=\"#m80065f9516\" y=\"67.382865\"/>\n     <use style=\"fill:#1f77b4;stroke:#1f77b4;\" x=\"76.36644\" xlink:href=\"#m80065f9516\" y=\"47.816237\"/>\n     <use style=\"fill:#1f77b4;stroke:#1f77b4;\" x=\"147.927236\" xlink:href=\"#m80065f9516\" y=\"93.553698\"/>\n     <use style=\"fill:#1f77b4;stroke:#1f77b4;\" x=\"104.497721\" xlink:href=\"#m80065f9516\" y=\"64.61997\"/>\n     <use style=\"fill:#1f77b4;stroke:#1f77b4;\" x=\"169.388866\" xlink:href=\"#m80065f9516\" y=\"76.372805\"/>\n     <use style=\"fill:#1f77b4;stroke:#1f77b4;\" x=\"145.037391\" xlink:href=\"#m80065f9516\" y=\"74.742476\"/>\n     <use style=\"fill:#1f77b4;stroke:#1f77b4;\" x=\"147.479967\" xlink:href=\"#m80065f9516\" y=\"73.306939\"/>\n     <use style=\"fill:#1f77b4;stroke:#1f77b4;\" x=\"148.672599\" xlink:href=\"#m80065f9516\" y=\"64.782309\"/>\n     <use style=\"fill:#1f77b4;stroke:#1f77b4;\" x=\"165.30653\" xlink:href=\"#m80065f9516\" y=\"99.132761\"/>\n     <use style=\"fill:#1f77b4;stroke:#1f77b4;\" x=\"130.254404\" xlink:href=\"#m80065f9516\" y=\"53.403039\"/>\n     <use style=\"fill:#1f77b4;stroke:#1f77b4;\" x=\"151.109565\" xlink:href=\"#m80065f9516\" y=\"57.831741\"/>\n     <use style=\"fill:#1f77b4;stroke:#1f77b4;\" x=\"122.974991\" xlink:href=\"#m80065f9516\" y=\"54.607722\"/>\n     <use style=\"fill:#1f77b4;stroke:#1f77b4;\" x=\"113.822842\" xlink:href=\"#m80065f9516\" y=\"54.013613\"/>\n     <use style=\"fill:#1f77b4;stroke:#1f77b4;\" x=\"129.795087\" xlink:href=\"#m80065f9516\" y=\"66.946129\"/>\n     <use style=\"fill:#1f77b4;stroke:#1f77b4;\" x=\"130.571716\" xlink:href=\"#m80065f9516\" y=\"87.327434\"/>\n     <use style=\"fill:#1f77b4;stroke:#1f77b4;\" x=\"111.487332\" xlink:href=\"#m80065f9516\" y=\"61.313975\"/>\n     <use style=\"fill:#1f77b4;stroke:#1f77b4;\" x=\"145.098933\" xlink:href=\"#m80065f9516\" y=\"89.5523\"/>\n     <use style=\"fill:#1f77b4;stroke:#1f77b4;\" x=\"121.722951\" xlink:href=\"#m80065f9516\" y=\"65.751999\"/>\n     <use style=\"fill:#1f77b4;stroke:#1f77b4;\" x=\"139.616828\" xlink:href=\"#m80065f9516\" y=\"68.840352\"/>\n     <use style=\"fill:#1f77b4;stroke:#1f77b4;\" x=\"164.2046\" xlink:href=\"#m80065f9516\" y=\"88.891917\"/>\n     <use style=\"fill:#1f77b4;stroke:#1f77b4;\" x=\"109.827798\" xlink:href=\"#m80065f9516\" y=\"47.123308\"/>\n     <use style=\"fill:#1f77b4;stroke:#1f77b4;\" x=\"135.36867\" xlink:href=\"#m80065f9516\" y=\"77.03325\"/>\n     <use style=\"fill:#1f77b4;stroke:#1f77b4;\" x=\"118.415002\" xlink:href=\"#m80065f9516\" y=\"66.768399\"/>\n     <use style=\"fill:#1f77b4;stroke:#1f77b4;\" x=\"122.025961\" xlink:href=\"#m80065f9516\" y=\"64.491679\"/>\n     <use style=\"fill:#1f77b4;stroke:#1f77b4;\" x=\"113.09649\" xlink:href=\"#m80065f9516\" y=\"75.878142\"/>\n     <use style=\"fill:#1f77b4;stroke:#1f77b4;\" x=\"135.210861\" xlink:href=\"#m80065f9516\" y=\"77.267588\"/>\n     <use style=\"fill:#1f77b4;stroke:#1f77b4;\" x=\"121.151202\" xlink:href=\"#m80065f9516\" y=\"70.99133\"/>\n     <use style=\"fill:#1f77b4;stroke:#1f77b4;\" x=\"65.027483\" xlink:href=\"#m80065f9516\" y=\"28.496119\"/>\n     <use style=\"fill:#1f77b4;stroke:#1f77b4;\" x=\"110.990684\" xlink:href=\"#m80065f9516\" y=\"52.655225\"/>\n     <use style=\"fill:#1f77b4;stroke:#1f77b4;\" x=\"112.628222\" xlink:href=\"#m80065f9516\" y=\"61.23246\"/>\n     <use style=\"fill:#1f77b4;stroke:#1f77b4;\" x=\"144.576339\" xlink:href=\"#m80065f9516\" y=\"85.458005\"/>\n     <use style=\"fill:#1f77b4;stroke:#1f77b4;\" x=\"91.801173\" xlink:href=\"#m80065f9516\" y=\"30.275168\"/>\n     <use style=\"fill:#1f77b4;stroke:#1f77b4;\" x=\"113.007902\" xlink:href=\"#m80065f9516\" y=\"58.583271\"/>\n     <use style=\"fill:#1f77b4;stroke:#1f77b4;\" x=\"108.689501\" xlink:href=\"#m80065f9516\" y=\"60.098364\"/>\n     <use style=\"fill:#1f77b4;stroke:#1f77b4;\" x=\"176.271003\" xlink:href=\"#m80065f9516\" y=\"77.774698\"/>\n     <use style=\"fill:#1f77b4;stroke:#1f77b4;\" x=\"107.921364\" xlink:href=\"#m80065f9516\" y=\"71.183764\"/>\n     <use style=\"fill:#1f77b4;stroke:#1f77b4;\" x=\"132.21218\" xlink:href=\"#m80065f9516\" y=\"78.090947\"/>\n     <use style=\"fill:#1f77b4;stroke:#1f77b4;\" x=\"122.094686\" xlink:href=\"#m80065f9516\" y=\"66.546849\"/>\n     <use style=\"fill:#1f77b4;stroke:#1f77b4;\" x=\"92.354841\" xlink:href=\"#m80065f9516\" y=\"51.141175\"/>\n     <use style=\"fill:#1f77b4;stroke:#1f77b4;\" x=\"127.186262\" xlink:href=\"#m80065f9516\" y=\"84.714868\"/>\n     <use style=\"fill:#1f77b4;stroke:#1f77b4;\" x=\"140.545137\" xlink:href=\"#m80065f9516\" y=\"73.105347\"/>\n     <use style=\"fill:#1f77b4;stroke:#1f77b4;\" x=\"122.006214\" xlink:href=\"#m80065f9516\" y=\"56.889349\"/>\n     <use style=\"fill:#1f77b4;stroke:#1f77b4;\" x=\"137.091377\" xlink:href=\"#m80065f9516\" y=\"70.748678\"/>\n     <use style=\"fill:#1f77b4;stroke:#1f77b4;\" x=\"172.434527\" xlink:href=\"#m80065f9516\" y=\"86.118282\"/>\n     <use style=\"fill:#1f77b4;stroke:#1f77b4;\" x=\"135.765231\" xlink:href=\"#m80065f9516\" y=\"84.149644\"/>\n     <use style=\"fill:#1f77b4;stroke:#1f77b4;\" x=\"145.644713\" xlink:href=\"#m80065f9516\" y=\"82.131309\"/>\n     <use style=\"fill:#1f77b4;stroke:#1f77b4;\" x=\"106.73227\" xlink:href=\"#m80065f9516\" y=\"50.112484\"/>\n     <use style=\"fill:#1f77b4;stroke:#1f77b4;\" x=\"151.196452\" xlink:href=\"#m80065f9516\" y=\"64.10409\"/>\n     <use style=\"fill:#1f77b4;stroke:#1f77b4;\" x=\"170.509222\" xlink:href=\"#m80065f9516\" y=\"95.427517\"/>\n     <use style=\"fill:#1f77b4;stroke:#1f77b4;\" x=\"220.23557\" xlink:href=\"#m80065f9516\" y=\"136.922727\"/>\n     <use style=\"fill:#1f77b4;stroke:#1f77b4;\" x=\"105.147161\" xlink:href=\"#m80065f9516\" y=\"76.533369\"/>\n     <use style=\"fill:#1f77b4;stroke:#1f77b4;\" x=\"126.248373\" xlink:href=\"#m80065f9516\" y=\"73.026312\"/>\n     <use style=\"fill:#1f77b4;stroke:#1f77b4;\" x=\"99.411996\" xlink:href=\"#m80065f9516\" y=\"56.073171\"/>\n     <use style=\"fill:#1f77b4;stroke:#1f77b4;\" x=\"112.496499\" xlink:href=\"#m80065f9516\" y=\"62.194827\"/>\n     <use style=\"fill:#1f77b4;stroke:#1f77b4;\" x=\"78.785571\" xlink:href=\"#m80065f9516\" y=\"35.456132\"/>\n     <use style=\"fill:#1f77b4;stroke:#1f77b4;\" x=\"148.424682\" xlink:href=\"#m80065f9516\" y=\"70.859795\"/>\n     <use style=\"fill:#1f77b4;stroke:#1f77b4;\" x=\"71.290265\" xlink:href=\"#m80065f9516\" y=\"30.792168\"/>\n     <use style=\"fill:#1f77b4;stroke:#1f77b4;\" x=\"103.771162\" xlink:href=\"#m80065f9516\" y=\"57.888183\"/>\n     <use style=\"fill:#1f77b4;stroke:#1f77b4;\" x=\"140.411619\" xlink:href=\"#m80065f9516\" y=\"73.219076\"/>\n     <use style=\"fill:#1f77b4;stroke:#1f77b4;\" x=\"149.950604\" xlink:href=\"#m80065f9516\" y=\"63.054296\"/>\n     <use style=\"fill:#1f77b4;stroke:#1f77b4;\" x=\"129.789091\" xlink:href=\"#m80065f9516\" y=\"66.454335\"/>\n     <use style=\"fill:#1f77b4;stroke:#1f77b4;\" x=\"131.617982\" xlink:href=\"#m80065f9516\" y=\"47.413363\"/>\n     <use style=\"fill:#1f77b4;stroke:#1f77b4;\" x=\"127.188703\" xlink:href=\"#m80065f9516\" y=\"63.093897\"/>\n     <use style=\"fill:#1f77b4;stroke:#1f77b4;\" x=\"97.512276\" xlink:href=\"#m80065f9516\" y=\"50.835802\"/>\n     <use style=\"fill:#1f77b4;stroke:#1f77b4;\" x=\"123.83621\" xlink:href=\"#m80065f9516\" y=\"74.299887\"/>\n     <use style=\"fill:#1f77b4;stroke:#1f77b4;\" x=\"105.420567\" xlink:href=\"#m80065f9516\" y=\"57.902761\"/>\n     <use style=\"fill:#1f77b4;stroke:#1f77b4;\" x=\"152.077397\" xlink:href=\"#m80065f9516\" y=\"79.581956\"/>\n     <use style=\"fill:#1f77b4;stroke:#1f77b4;\" x=\"99.94455\" xlink:href=\"#m80065f9516\" y=\"35.816461\"/>\n     <use style=\"fill:#1f77b4;stroke:#1f77b4;\" x=\"145.726285\" xlink:href=\"#m80065f9516\" y=\"94.700956\"/>\n     <use style=\"fill:#1f77b4;stroke:#1f77b4;\" x=\"129.057126\" xlink:href=\"#m80065f9516\" y=\"56.956079\"/>\n     <use style=\"fill:#1f77b4;stroke:#1f77b4;\" x=\"135.106264\" xlink:href=\"#m80065f9516\" y=\"93.099931\"/>\n     <use style=\"fill:#1f77b4;stroke:#1f77b4;\" x=\"123.116535\" xlink:href=\"#m80065f9516\" y=\"64.30459\"/>\n     <use style=\"fill:#1f77b4;stroke:#1f77b4;\" x=\"111.964353\" xlink:href=\"#m80065f9516\" y=\"58.360301\"/>\n     <use style=\"fill:#1f77b4;stroke:#1f77b4;\" x=\"111.819888\" xlink:href=\"#m80065f9516\" y=\"64.368164\"/>\n     <use style=\"fill:#1f77b4;stroke:#1f77b4;\" x=\"114.546239\" xlink:href=\"#m80065f9516\" y=\"56.735991\"/>\n     <use style=\"fill:#1f77b4;stroke:#1f77b4;\" x=\"154.496654\" xlink:href=\"#m80065f9516\" y=\"83.190295\"/>\n     <use style=\"fill:#1f77b4;stroke:#1f77b4;\" x=\"64.699284\" xlink:href=\"#m80065f9516\" y=\"44.605282\"/>\n     <use style=\"fill:#1f77b4;stroke:#1f77b4;\" x=\"151.234343\" xlink:href=\"#m80065f9516\" y=\"102.912727\"/>\n     <use style=\"fill:#1f77b4;stroke:#1f77b4;\" x=\"122.721932\" xlink:href=\"#m80065f9516\" y=\"58.446982\"/>\n     <use style=\"fill:#1f77b4;stroke:#1f77b4;\" x=\"91.072468\" xlink:href=\"#m80065f9516\" y=\"51.695884\"/>\n     <use style=\"fill:#1f77b4;stroke:#1f77b4;\" x=\"147.250565\" xlink:href=\"#m80065f9516\" y=\"79.425572\"/>\n     <use style=\"fill:#1f77b4;stroke:#1f77b4;\" x=\"108.125409\" xlink:href=\"#m80065f9516\" y=\"58.09501\"/>\n     <use style=\"fill:#1f77b4;stroke:#1f77b4;\" x=\"137.533724\" xlink:href=\"#m80065f9516\" y=\"58.581736\"/>\n     <use style=\"fill:#1f77b4;stroke:#1f77b4;\" x=\"163.742316\" xlink:href=\"#m80065f9516\" y=\"76.52665\"/>\n     <use style=\"fill:#1f77b4;stroke:#1f77b4;\" x=\"136.90369\" xlink:href=\"#m80065f9516\" y=\"86.901011\"/>\n     <use style=\"fill:#1f77b4;stroke:#1f77b4;\" x=\"139.203653\" xlink:href=\"#m80065f9516\" y=\"60.291578\"/>\n     <use style=\"fill:#1f77b4;stroke:#1f77b4;\" x=\"102.250384\" xlink:href=\"#m80065f9516\" y=\"60.73398\"/>\n     <use style=\"fill:#1f77b4;stroke:#1f77b4;\" x=\"188.285053\" xlink:href=\"#m80065f9516\" y=\"105.366679\"/>\n     <use style=\"fill:#1f77b4;stroke:#1f77b4;\" x=\"132.671287\" xlink:href=\"#m80065f9516\" y=\"75.236744\"/>\n     <use style=\"fill:#1f77b4;stroke:#1f77b4;\" x=\"95.682596\" xlink:href=\"#m80065f9516\" y=\"42.668719\"/>\n     <use style=\"fill:#1f77b4;stroke:#1f77b4;\" x=\"124.852464\" xlink:href=\"#m80065f9516\" y=\"75.289526\"/>\n     <use style=\"fill:#1f77b4;stroke:#1f77b4;\" x=\"145.415873\" xlink:href=\"#m80065f9516\" y=\"69.856069\"/>\n     <use style=\"fill:#1f77b4;stroke:#1f77b4;\" x=\"143.425506\" xlink:href=\"#m80065f9516\" y=\"91.426728\"/>\n     <use style=\"fill:#1f77b4;stroke:#1f77b4;\" x=\"86.595182\" xlink:href=\"#m80065f9516\" y=\"56.8323\"/>\n     <use style=\"fill:#1f77b4;stroke:#1f77b4;\" x=\"169.098302\" xlink:href=\"#m80065f9516\" y=\"95.504216\"/>\n     <use style=\"fill:#1f77b4;stroke:#1f77b4;\" x=\"183.962396\" xlink:href=\"#m80065f9516\" y=\"92.519958\"/>\n     <use style=\"fill:#1f77b4;stroke:#1f77b4;\" x=\"86.919895\" xlink:href=\"#m80065f9516\" y=\"40.675793\"/>\n     <use style=\"fill:#1f77b4;stroke:#1f77b4;\" x=\"163.522906\" xlink:href=\"#m80065f9516\" y=\"82.484653\"/>\n     <use style=\"fill:#1f77b4;stroke:#1f77b4;\" x=\"102.638193\" xlink:href=\"#m80065f9516\" y=\"64.862571\"/>\n     <use style=\"fill:#1f77b4;stroke:#1f77b4;\" x=\"198.145944\" xlink:href=\"#m80065f9516\" y=\"105.030186\"/>\n     <use style=\"fill:#1f77b4;stroke:#1f77b4;\" x=\"119.257134\" xlink:href=\"#m80065f9516\" y=\"72.165809\"/>\n     <use style=\"fill:#1f77b4;stroke:#1f77b4;\" x=\"138.123341\" xlink:href=\"#m80065f9516\" y=\"88.753842\"/>\n     <use style=\"fill:#1f77b4;stroke:#1f77b4;\" x=\"98.057169\" xlink:href=\"#m80065f9516\" y=\"72.078283\"/>\n     <use style=\"fill:#1f77b4;stroke:#1f77b4;\" x=\"154.400712\" xlink:href=\"#m80065f9516\" y=\"92.458195\"/>\n     <use style=\"fill:#1f77b4;stroke:#1f77b4;\" x=\"161.619815\" xlink:href=\"#m80065f9516\" y=\"75.161165\"/>\n     <use style=\"fill:#1f77b4;stroke:#1f77b4;\" x=\"102.461367\" xlink:href=\"#m80065f9516\" y=\"54.077467\"/>\n     <use style=\"fill:#1f77b4;stroke:#1f77b4;\" x=\"73.770044\" xlink:href=\"#m80065f9516\" y=\"41.09912\"/>\n     <use style=\"fill:#1f77b4;stroke:#1f77b4;\" x=\"131.264864\" xlink:href=\"#m80065f9516\" y=\"74.737477\"/>\n     <use style=\"fill:#1f77b4;stroke:#1f77b4;\" x=\"82.306114\" xlink:href=\"#m80065f9516\" y=\"38.018214\"/>\n     <use style=\"fill:#1f77b4;stroke:#1f77b4;\" x=\"168.091754\" xlink:href=\"#m80065f9516\" y=\"97.655871\"/>\n     <use style=\"fill:#1f77b4;stroke:#1f77b4;\" x=\"146.701679\" xlink:href=\"#m80065f9516\" y=\"69.752764\"/>\n     <use style=\"fill:#1f77b4;stroke:#1f77b4;\" x=\"116.021248\" xlink:href=\"#m80065f9516\" y=\"62.74509\"/>\n     <use style=\"fill:#1f77b4;stroke:#1f77b4;\" x=\"130.592024\" xlink:href=\"#m80065f9516\" y=\"55.222016\"/>\n     <use style=\"fill:#1f77b4;stroke:#1f77b4;\" x=\"154.022306\" xlink:href=\"#m80065f9516\" y=\"62.122762\"/>\n     <use style=\"fill:#1f77b4;stroke:#1f77b4;\" x=\"121.521531\" xlink:href=\"#m80065f9516\" y=\"75.743568\"/>\n     <use style=\"fill:#1f77b4;stroke:#1f77b4;\" x=\"149.090154\" xlink:href=\"#m80065f9516\" y=\"76.951821\"/>\n     <use style=\"fill:#1f77b4;stroke:#1f77b4;\" x=\"101.920754\" xlink:href=\"#m80065f9516\" y=\"58.607557\"/>\n     <use style=\"fill:#1f77b4;stroke:#1f77b4;\" x=\"112.87381\" xlink:href=\"#m80065f9516\" y=\"70.098095\"/>\n     <use style=\"fill:#1f77b4;stroke:#1f77b4;\" x=\"57.526315\" xlink:href=\"#m80065f9516\" y=\"33.893319\"/>\n     <use style=\"fill:#1f77b4;stroke:#1f77b4;\" x=\"144.018488\" xlink:href=\"#m80065f9516\" y=\"75.174459\"/>\n     <use style=\"fill:#1f77b4;stroke:#1f77b4;\" x=\"188.894184\" xlink:href=\"#m80065f9516\" y=\"84.356381\"/>\n     <use style=\"fill:#1f77b4;stroke:#1f77b4;\" x=\"171.598825\" xlink:href=\"#m80065f9516\" y=\"91.52209\"/>\n     <use style=\"fill:#1f77b4;stroke:#1f77b4;\" x=\"91.342416\" xlink:href=\"#m80065f9516\" y=\"39.004702\"/>\n     <use style=\"fill:#1f77b4;stroke:#1f77b4;\" x=\"130.258546\" xlink:href=\"#m80065f9516\" y=\"69.618606\"/>\n     <use style=\"fill:#1f77b4;stroke:#1f77b4;\" x=\"153.955158\" xlink:href=\"#m80065f9516\" y=\"90.969146\"/>\n     <use style=\"fill:#1f77b4;stroke:#1f77b4;\" x=\"177.938933\" xlink:href=\"#m80065f9516\" y=\"95.910479\"/>\n     <use style=\"fill:#1f77b4;stroke:#1f77b4;\" x=\"161.538237\" xlink:href=\"#m80065f9516\" y=\"79.898166\"/>\n     <use style=\"fill:#1f77b4;stroke:#1f77b4;\" x=\"200.709001\" xlink:href=\"#m80065f9516\" y=\"104.272418\"/>\n     <use style=\"fill:#1f77b4;stroke:#1f77b4;\" x=\"130.587784\" xlink:href=\"#m80065f9516\" y=\"60.794104\"/>\n     <use style=\"fill:#1f77b4;stroke:#1f77b4;\" x=\"173.894412\" xlink:href=\"#m80065f9516\" y=\"96.741465\"/>\n     <use style=\"fill:#1f77b4;stroke:#1f77b4;\" x=\"87.677268\" xlink:href=\"#m80065f9516\" y=\"43.96247\"/>\n     <use style=\"fill:#1f77b4;stroke:#1f77b4;\" x=\"127.510932\" xlink:href=\"#m80065f9516\" y=\"61.58609\"/>\n     <use style=\"fill:#1f77b4;stroke:#1f77b4;\" x=\"142.898926\" xlink:href=\"#m80065f9516\" y=\"55.552992\"/>\n     <use style=\"fill:#1f77b4;stroke:#1f77b4;\" x=\"132.926333\" xlink:href=\"#m80065f9516\" y=\"76.860731\"/>\n     <use style=\"fill:#1f77b4;stroke:#1f77b4;\" x=\"136.347335\" xlink:href=\"#m80065f9516\" y=\"79.115269\"/>\n     <use style=\"fill:#1f77b4;stroke:#1f77b4;\" x=\"167.678086\" xlink:href=\"#m80065f9516\" y=\"108.617674\"/>\n     <use style=\"fill:#1f77b4;stroke:#1f77b4;\" x=\"102.608027\" xlink:href=\"#m80065f9516\" y=\"36.246569\"/>\n     <use style=\"fill:#1f77b4;stroke:#1f77b4;\" x=\"173.421844\" xlink:href=\"#m80065f9516\" y=\"100.544325\"/>\n     <use style=\"fill:#1f77b4;stroke:#1f77b4;\" x=\"97.614309\" xlink:href=\"#m80065f9516\" y=\"46.159594\"/>\n     <use style=\"fill:#1f77b4;stroke:#1f77b4;\" x=\"144.665375\" xlink:href=\"#m80065f9516\" y=\"66.032902\"/>\n     <use style=\"fill:#1f77b4;stroke:#1f77b4;\" x=\"151.702982\" xlink:href=\"#m80065f9516\" y=\"91.38226\"/>\n     <use style=\"fill:#1f77b4;stroke:#1f77b4;\" x=\"204.488246\" xlink:href=\"#m80065f9516\" y=\"104.742133\"/>\n     <use style=\"fill:#1f77b4;stroke:#1f77b4;\" x=\"180.773953\" xlink:href=\"#m80065f9516\" y=\"104.228518\"/>\n     <use style=\"fill:#1f77b4;stroke:#1f77b4;\" x=\"167.312032\" xlink:href=\"#m80065f9516\" y=\"85.24337\"/>\n     <use style=\"fill:#1f77b4;stroke:#1f77b4;\" x=\"165.606883\" xlink:href=\"#m80065f9516\" y=\"111.464501\"/>\n     <use style=\"fill:#1f77b4;stroke:#1f77b4;\" x=\"122.823943\" xlink:href=\"#m80065f9516\" y=\"78.84955\"/>\n     <use style=\"fill:#1f77b4;stroke:#1f77b4;\" x=\"128.596839\" xlink:href=\"#m80065f9516\" y=\"60.940359\"/>\n     <use style=\"fill:#1f77b4;stroke:#1f77b4;\" x=\"140.363786\" xlink:href=\"#m80065f9516\" y=\"70.518861\"/>\n     <use style=\"fill:#1f77b4;stroke:#1f77b4;\" x=\"136.847346\" xlink:href=\"#m80065f9516\" y=\"69.793491\"/>\n     <use style=\"fill:#1f77b4;stroke:#1f77b4;\" x=\"151.209162\" xlink:href=\"#m80065f9516\" y=\"95.263167\"/>\n     <use style=\"fill:#1f77b4;stroke:#1f77b4;\" x=\"81.65409\" xlink:href=\"#m80065f9516\" y=\"42.442541\"/>\n     <use style=\"fill:#1f77b4;stroke:#1f77b4;\" x=\"117.529392\" xlink:href=\"#m80065f9516\" y=\"72.361776\"/>\n     <use style=\"fill:#1f77b4;stroke:#1f77b4;\" x=\"131.093149\" xlink:href=\"#m80065f9516\" y=\"59.124904\"/>\n     <use style=\"fill:#1f77b4;stroke:#1f77b4;\" x=\"122.642095\" xlink:href=\"#m80065f9516\" y=\"54.679354\"/>\n     <use style=\"fill:#1f77b4;stroke:#1f77b4;\" x=\"60.5559\" xlink:href=\"#m80065f9516\" y=\"24.861122\"/>\n     <use style=\"fill:#1f77b4;stroke:#1f77b4;\" x=\"168.434788\" xlink:href=\"#m80065f9516\" y=\"86.575335\"/>\n     <use style=\"fill:#1f77b4;stroke:#1f77b4;\" x=\"169.506318\" xlink:href=\"#m80065f9516\" y=\"74.456957\"/>\n     <use style=\"fill:#1f77b4;stroke:#1f77b4;\" x=\"106.721816\" xlink:href=\"#m80065f9516\" y=\"59.178725\"/>\n     <use style=\"fill:#1f77b4;stroke:#1f77b4;\" x=\"141.664905\" xlink:href=\"#m80065f9516\" y=\"64.302777\"/>\n     <use style=\"fill:#1f77b4;stroke:#1f77b4;\" x=\"91.655592\" xlink:href=\"#m80065f9516\" y=\"59.854171\"/>\n     <use style=\"fill:#1f77b4;stroke:#1f77b4;\" x=\"118.119309\" xlink:href=\"#m80065f9516\" y=\"61.903889\"/>\n     <use style=\"fill:#1f77b4;stroke:#1f77b4;\" x=\"109.336629\" xlink:href=\"#m80065f9516\" y=\"78.322152\"/>\n     <use style=\"fill:#1f77b4;stroke:#1f77b4;\" x=\"131.306586\" xlink:href=\"#m80065f9516\" y=\"48.214698\"/>\n     <use style=\"fill:#1f77b4;stroke:#1f77b4;\" x=\"133.238457\" xlink:href=\"#m80065f9516\" y=\"78.351222\"/>\n     <use style=\"fill:#1f77b4;stroke:#1f77b4;\" x=\"172.838202\" xlink:href=\"#m80065f9516\" y=\"111.179461\"/>\n     <use style=\"fill:#1f77b4;stroke:#1f77b4;\" x=\"196.943657\" xlink:href=\"#m80065f9516\" y=\"118.944498\"/>\n     <use style=\"fill:#1f77b4;stroke:#1f77b4;\" x=\"122.194624\" xlink:href=\"#m80065f9516\" y=\"46.180688\"/>\n     <use style=\"fill:#1f77b4;stroke:#1f77b4;\" x=\"117.264961\" xlink:href=\"#m80065f9516\" y=\"66.045029\"/>\n     <use style=\"fill:#1f77b4;stroke:#1f77b4;\" x=\"106.996993\" xlink:href=\"#m80065f9516\" y=\"66.400165\"/>\n     <use style=\"fill:#1f77b4;stroke:#1f77b4;\" x=\"95.125965\" xlink:href=\"#m80065f9516\" y=\"47.601484\"/>\n     <use style=\"fill:#1f77b4;stroke:#1f77b4;\" x=\"111.754861\" xlink:href=\"#m80065f9516\" y=\"68.293085\"/>\n     <use style=\"fill:#1f77b4;stroke:#1f77b4;\" x=\"116.365657\" xlink:href=\"#m80065f9516\" y=\"44.007252\"/>\n     <use style=\"fill:#1f77b4;stroke:#1f77b4;\" x=\"171.891243\" xlink:href=\"#m80065f9516\" y=\"111.648942\"/>\n     <use style=\"fill:#1f77b4;stroke:#1f77b4;\" x=\"179.695958\" xlink:href=\"#m80065f9516\" y=\"86.155422\"/>\n     <use style=\"fill:#1f77b4;stroke:#1f77b4;\" x=\"149.542105\" xlink:href=\"#m80065f9516\" y=\"82.474262\"/>\n    </g>\n   </g>\n   <g id=\"matplotlib.axis_1\">\n    <g id=\"xtick_1\">\n     <g id=\"line2d_1\">\n      <defs>\n       <path d=\"M 0 0 \nL 0 3.5 \n\" id=\"mdccc0efb99\" style=\"stroke:#000000;stroke-width:0.8;\"/>\n      </defs>\n      <g>\n       <use style=\"stroke:#000000;stroke-width:0.8;\" x=\"69.217347\" xlink:href=\"#mdccc0efb99\" y=\"143.1\"/>\n      </g>\n     </g>\n     <g id=\"text_1\">\n      <!-- −2 -->\n      <defs>\n       <path d=\"M 10.59375 35.5 \nL 73.1875 35.5 \nL 73.1875 27.203125 \nL 10.59375 27.203125 \nz\n\" id=\"DejaVuSans-8722\"/>\n       <path d=\"M 19.1875 8.296875 \nL 53.609375 8.296875 \nL 53.609375 0 \nL 7.328125 0 \nL 7.328125 8.296875 \nQ 12.9375 14.109375 22.625 23.890625 \nQ 32.328125 33.6875 34.8125 36.53125 \nQ 39.546875 41.84375 41.421875 45.53125 \nQ 43.3125 49.21875 43.3125 52.78125 \nQ 43.3125 58.59375 39.234375 62.25 \nQ 35.15625 65.921875 28.609375 65.921875 \nQ 23.96875 65.921875 18.8125 64.3125 \nQ 13.671875 62.703125 7.8125 59.421875 \nL 7.8125 69.390625 \nQ 13.765625 71.78125 18.9375 73 \nQ 24.125 74.21875 28.421875 74.21875 \nQ 39.75 74.21875 46.484375 68.546875 \nQ 53.21875 62.890625 53.21875 53.421875 \nQ 53.21875 48.921875 51.53125 44.890625 \nQ 49.859375 40.875 45.40625 35.40625 \nQ 44.1875 33.984375 37.640625 27.21875 \nQ 31.109375 20.453125 19.1875 8.296875 \nz\n\" id=\"DejaVuSans-50\"/>\n      </defs>\n      <g transform=\"translate(61.846253 157.698438)scale(0.1 -0.1)\">\n       <use xlink:href=\"#DejaVuSans-8722\"/>\n       <use x=\"83.789062\" xlink:href=\"#DejaVuSans-50\"/>\n      </g>\n     </g>\n    </g>\n    <g id=\"xtick_2\">\n     <g id=\"line2d_2\">\n      <g>\n       <use style=\"stroke:#000000;stroke-width:0.8;\" x=\"129.046105\" xlink:href=\"#mdccc0efb99\" y=\"143.1\"/>\n      </g>\n     </g>\n     <g id=\"text_2\">\n      <!-- 0 -->\n      <defs>\n       <path d=\"M 31.78125 66.40625 \nQ 24.171875 66.40625 20.328125 58.90625 \nQ 16.5 51.421875 16.5 36.375 \nQ 16.5 21.390625 20.328125 13.890625 \nQ 24.171875 6.390625 31.78125 6.390625 \nQ 39.453125 6.390625 43.28125 13.890625 \nQ 47.125 21.390625 47.125 36.375 \nQ 47.125 51.421875 43.28125 58.90625 \nQ 39.453125 66.40625 31.78125 66.40625 \nz\nM 31.78125 74.21875 \nQ 44.046875 74.21875 50.515625 64.515625 \nQ 56.984375 54.828125 56.984375 36.375 \nQ 56.984375 17.96875 50.515625 8.265625 \nQ 44.046875 -1.421875 31.78125 -1.421875 \nQ 19.53125 -1.421875 13.0625 8.265625 \nQ 6.59375 17.96875 6.59375 36.375 \nQ 6.59375 54.828125 13.0625 64.515625 \nQ 19.53125 74.21875 31.78125 74.21875 \nz\n\" id=\"DejaVuSans-48\"/>\n      </defs>\n      <g transform=\"translate(125.864855 157.698438)scale(0.1 -0.1)\">\n       <use xlink:href=\"#DejaVuSans-48\"/>\n      </g>\n     </g>\n    </g>\n    <g id=\"xtick_3\">\n     <g id=\"line2d_3\">\n      <g>\n       <use style=\"stroke:#000000;stroke-width:0.8;\" x=\"188.874863\" xlink:href=\"#mdccc0efb99\" y=\"143.1\"/>\n      </g>\n     </g>\n     <g id=\"text_3\">\n      <!-- 2 -->\n      <g transform=\"translate(185.693613 157.698438)scale(0.1 -0.1)\">\n       <use xlink:href=\"#DejaVuSans-50\"/>\n      </g>\n     </g>\n    </g>\n   </g>\n   <g id=\"matplotlib.axis_2\">\n    <g id=\"ytick_1\">\n     <g id=\"line2d_4\">\n      <defs>\n       <path d=\"M 0 0 \nL -3.5 0 \n\" id=\"mcb371aeb62\" style=\"stroke:#000000;stroke-width:0.8;\"/>\n      </defs>\n      <g>\n       <use style=\"stroke:#000000;stroke-width:0.8;\" x=\"35.304688\" xlink:href=\"#mcb371aeb62\" y=\"139.04071\"/>\n      </g>\n     </g>\n     <g id=\"text_4\">\n      <!-- −10 -->\n      <defs>\n       <path d=\"M 12.40625 8.296875 \nL 28.515625 8.296875 \nL 28.515625 63.921875 \nL 10.984375 60.40625 \nL 10.984375 69.390625 \nL 28.421875 72.90625 \nL 38.28125 72.90625 \nL 38.28125 8.296875 \nL 54.390625 8.296875 \nL 54.390625 0 \nL 12.40625 0 \nz\n\" id=\"DejaVuSans-49\"/>\n      </defs>\n      <g transform=\"translate(7.2 142.839929)scale(0.1 -0.1)\">\n       <use xlink:href=\"#DejaVuSans-8722\"/>\n       <use x=\"83.789062\" xlink:href=\"#DejaVuSans-49\"/>\n       <use x=\"147.412109\" xlink:href=\"#DejaVuSans-48\"/>\n      </g>\n     </g>\n    </g>\n    <g id=\"ytick_2\">\n     <g id=\"line2d_5\">\n      <g>\n       <use style=\"stroke:#000000;stroke-width:0.8;\" x=\"35.304688\" xlink:href=\"#mcb371aeb62\" y=\"114.349991\"/>\n      </g>\n     </g>\n     <g id=\"text_5\">\n      <!-- −5 -->\n      <defs>\n       <path d=\"M 10.796875 72.90625 \nL 49.515625 72.90625 \nL 49.515625 64.59375 \nL 19.828125 64.59375 \nL 19.828125 46.734375 \nQ 21.96875 47.46875 24.109375 47.828125 \nQ 26.265625 48.1875 28.421875 48.1875 \nQ 40.625 48.1875 47.75 41.5 \nQ 54.890625 34.8125 54.890625 23.390625 \nQ 54.890625 11.625 47.5625 5.09375 \nQ 40.234375 -1.421875 26.90625 -1.421875 \nQ 22.3125 -1.421875 17.546875 -0.640625 \nQ 12.796875 0.140625 7.71875 1.703125 \nL 7.71875 11.625 \nQ 12.109375 9.234375 16.796875 8.0625 \nQ 21.484375 6.890625 26.703125 6.890625 \nQ 35.15625 6.890625 40.078125 11.328125 \nQ 45.015625 15.765625 45.015625 23.390625 \nQ 45.015625 31 40.078125 35.4375 \nQ 35.15625 39.890625 26.703125 39.890625 \nQ 22.75 39.890625 18.8125 39.015625 \nQ 14.890625 38.140625 10.796875 36.28125 \nz\n\" id=\"DejaVuSans-53\"/>\n      </defs>\n      <g transform=\"translate(13.5625 118.149209)scale(0.1 -0.1)\">\n       <use xlink:href=\"#DejaVuSans-8722\"/>\n       <use x=\"83.789062\" xlink:href=\"#DejaVuSans-53\"/>\n      </g>\n     </g>\n    </g>\n    <g id=\"ytick_3\">\n     <g id=\"line2d_6\">\n      <g>\n       <use style=\"stroke:#000000;stroke-width:0.8;\" x=\"35.304688\" xlink:href=\"#mcb371aeb62\" y=\"89.659271\"/>\n      </g>\n     </g>\n     <g id=\"text_6\">\n      <!-- 0 -->\n      <g transform=\"translate(21.942187 93.45849)scale(0.1 -0.1)\">\n       <use xlink:href=\"#DejaVuSans-48\"/>\n      </g>\n     </g>\n    </g>\n    <g id=\"ytick_4\">\n     <g id=\"line2d_7\">\n      <g>\n       <use style=\"stroke:#000000;stroke-width:0.8;\" x=\"35.304688\" xlink:href=\"#mcb371aeb62\" y=\"64.968551\"/>\n      </g>\n     </g>\n     <g id=\"text_7\">\n      <!-- 5 -->\n      <g transform=\"translate(21.942187 68.76777)scale(0.1 -0.1)\">\n       <use xlink:href=\"#DejaVuSans-53\"/>\n      </g>\n     </g>\n    </g>\n    <g id=\"ytick_5\">\n     <g id=\"line2d_8\">\n      <g>\n       <use style=\"stroke:#000000;stroke-width:0.8;\" x=\"35.304688\" xlink:href=\"#mcb371aeb62\" y=\"40.277832\"/>\n      </g>\n     </g>\n     <g id=\"text_8\">\n      <!-- 10 -->\n      <g transform=\"translate(15.579687 44.07705)scale(0.1 -0.1)\">\n       <use xlink:href=\"#DejaVuSans-49\"/>\n       <use x=\"63.623047\" xlink:href=\"#DejaVuSans-48\"/>\n      </g>\n     </g>\n    </g>\n    <g id=\"ytick_6\">\n     <g id=\"line2d_9\">\n      <g>\n       <use style=\"stroke:#000000;stroke-width:0.8;\" x=\"35.304688\" xlink:href=\"#mcb371aeb62\" y=\"15.587112\"/>\n      </g>\n     </g>\n     <g id=\"text_9\">\n      <!-- 15 -->\n      <g transform=\"translate(15.579687 19.386331)scale(0.1 -0.1)\">\n       <use xlink:href=\"#DejaVuSans-49\"/>\n       <use x=\"63.623047\" xlink:href=\"#DejaVuSans-53\"/>\n      </g>\n     </g>\n    </g>\n   </g>\n   <g id=\"patch_3\">\n    <path d=\"M 35.304688 143.1 \nL 35.304688 7.2 \n\" style=\"fill:none;stroke:#000000;stroke-linecap:square;stroke-linejoin:miter;stroke-width:0.8;\"/>\n   </g>\n   <g id=\"patch_4\">\n    <path d=\"M 230.604688 143.1 \nL 230.604688 7.2 \n\" style=\"fill:none;stroke:#000000;stroke-linecap:square;stroke-linejoin:miter;stroke-width:0.8;\"/>\n   </g>\n   <g id=\"patch_5\">\n    <path d=\"M 35.304687 143.1 \nL 230.604687 143.1 \n\" style=\"fill:none;stroke:#000000;stroke-linecap:square;stroke-linejoin:miter;stroke-width:0.8;\"/>\n   </g>\n   <g id=\"patch_6\">\n    <path d=\"M 35.304687 7.2 \nL 230.604687 7.2 \n\" style=\"fill:none;stroke:#000000;stroke-linecap:square;stroke-linejoin:miter;stroke-width:0.8;\"/>\n   </g>\n  </g>\n </g>\n <defs>\n  <clipPath id=\"p550fbf54e0\">\n   <rect height=\"135.9\" width=\"195.3\" x=\"35.304688\" y=\"7.2\"/>\n  </clipPath>\n </defs>\n</svg>\n"
          },
          "metadata": {
            "needs_background": "light"
          }
        }
      ]
    },
    {
      "cell_type": "code",
      "source": [
        "#定义一个data_iter函数，接收批量大小、特征矩阵和标签向量作为输入，生成大小为batch_size的小批量\n",
        "def data_iter(batch_size, features, labels):\n",
        "  num_examples = len(features)\n",
        "  indices = list(range(num_examples))\n",
        "  random.shuffle(indices)\n",
        "  for i in range(0, num_examples, batch_size):\n",
        "    batch_indices = torch.tensor(\n",
        "        indices[i:min(i + batch_size, num_examples)]\n",
        "    )\n",
        "    yield features[batch_indices], labels[batch_indices]\n",
        "  \n",
        "batch_size = 10\n",
        "for x, y in data_iter(batch_size, features, labels):\n",
        "  print(x, '\\n',y)\n",
        "  break\n"
      ],
      "metadata": {
        "colab": {
          "base_uri": "https://localhost:8080/"
        },
        "id": "HQxc_vKBuo8D",
        "outputId": "720ddd8a-1f5c-4c05-80f9-4c5b9c41afe6"
      },
      "execution_count": 36,
      "outputs": [
        {
          "output_type": "stream",
          "name": "stdout",
          "text": [
            "tensor([[ 0.1811, -1.7787],\n",
            "        [-1.0110,  1.6561],\n",
            "        [-0.6087,  0.8213],\n",
            "        [ 0.5708, -0.3486],\n",
            "        [ 0.3055, -0.6256],\n",
            "        [ 0.6084,  0.2273],\n",
            "        [-0.2771,  0.3517],\n",
            "        [-0.2062,  0.3947],\n",
            "        [-0.9816,  0.7574],\n",
            "        [ 2.2383, -0.2338]]) \n",
            " tensor([[10.6045],\n",
            "        [-3.4531],\n",
            "        [ 0.2041],\n",
            "        [ 6.5276],\n",
            "        [ 6.9296],\n",
            "        [ 4.6263],\n",
            "        [ 2.4611],\n",
            "        [ 2.4473],\n",
            "        [-0.3489],\n",
            "        [ 9.4763]])\n"
          ]
        }
      ]
    },
    {
      "cell_type": "code",
      "source": [
        "w = torch.normal(0,0.01, size = (2,1), requires_grad=True)\n",
        "b = torch.zeros(1, requires_grad = True)\n"
      ],
      "metadata": {
        "id": "PcCyICJFyC_s"
      },
      "execution_count": 52,
      "outputs": []
    },
    {
      "cell_type": "code",
      "source": [
        "def linreg(x, w, b):\n",
        "  return torch.matmul(x,w)+b"
      ],
      "metadata": {
        "id": "ihbCKd53yVi4"
      },
      "execution_count": 38,
      "outputs": []
    },
    {
      "cell_type": "code",
      "source": [
        "def squared_loss(y_hat, y):\n",
        "  return(y_hat - y.reshape(y_hat.shape))**2/2\n",
        "  "
      ],
      "metadata": {
        "id": "kcW-lT_Dyevq"
      },
      "execution_count": 39,
      "outputs": []
    },
    {
      "cell_type": "code",
      "source": [
        "def sgd(params, lr, batch_size):\n",
        "  with torch.no_grad():\n",
        "    for param in params:\n",
        "      param -= lr*param.grad/batch_size\n",
        "      param.grad.zero_()\n",
        "    "
      ],
      "metadata": {
        "id": "CHmjX5Qqyqkr"
      },
      "execution_count": 40,
      "outputs": []
    },
    {
      "cell_type": "code",
      "source": [
        "lr = 0.03\n",
        "num_epochs =10 \n",
        "net = linreg\n",
        "loss = squared_loss\n",
        "\n",
        "for epoch in range(num_epochs):\n",
        "  for x, y in data_iter(batch_size, features, labels):\n",
        "    l = loss(net(x,w,b),y)\n",
        "    l.sum().backward()\n",
        "    sgd([w,b], lr, batch_size)\n",
        "  with torch.no_grad():\n",
        "    train_l = loss(net(features,w,b),labels)\n",
        "    print(f'epoch {epoch+1}, loss{float(train_l.mean()):f}')\n"
      ],
      "metadata": {
        "colab": {
          "base_uri": "https://localhost:8080/"
        },
        "id": "HCA5vnvhy6yY",
        "outputId": "60cc87fd-01d3-493e-e1aa-b95ba915f1b9"
      },
      "execution_count": 53,
      "outputs": [
        {
          "output_type": "stream",
          "name": "stdout",
          "text": [
            "epoch 1, loss0.040296\n",
            "epoch 2, loss0.000163\n",
            "epoch 3, loss0.000054\n",
            "epoch 4, loss0.000053\n",
            "epoch 5, loss0.000053\n",
            "epoch 6, loss0.000053\n",
            "epoch 7, loss0.000053\n",
            "epoch 8, loss0.000053\n",
            "epoch 9, loss0.000053\n",
            "epoch 10, loss0.000054\n"
          ]
        }
      ]
    },
    {
      "cell_type": "markdown",
      "source": [
        "# 多层感知机"
      ],
      "metadata": {
        "id": "v_c6YNtM2Crj"
      }
    },
    {
      "cell_type": "code",
      "source": [
        "import torch\n",
        "from torch import nn\n",
        "from d2l import torch as d2l\n",
        "\n",
        "batch_size = 256\n",
        "train_iter, test_iter = d2l.load_data_fashion_mnist(batch_size)"
      ],
      "metadata": {
        "colab": {
          "base_uri": "https://localhost:8080/",
          "height": 486,
          "referenced_widgets": [
            "4fb60bcffbc74fa7b5003474d1e0fbf2",
            "48e7f6f521564abda8e4ea314a3a8858",
            "f16450a05320448593de06a24666c74b",
            "d5f5e7aec3e3440d97b6d9a860b0ac94",
            "b8e596ed6ee04f73954de02197fb883f",
            "e1d5dfe32e2f49d3a9a6f261646a8061",
            "e4c4479f1a374b0b8696ce19a1eca410",
            "671251d08a6e48b996cfc7187ac58e40",
            "c6ce436827334d29a2c3d3cf049ff40f",
            "e5ec248181ff4f9cbe5167fb31861fc3",
            "e02e6d40210a4ce3baec33c1934cd789",
            "24e9526d6c1d40c1aaae6f3041814f70",
            "288361ef58ad437ca3d39983f60ad1b6",
            "5581f376b399476893a4c79353d6e09e",
            "320cebfa84bf46cc962e43aba5aa039b",
            "9cd0669a37c6412c86c409250c7e1346",
            "f0f05a4218c944fb9622812d6f28e16c",
            "03a19552f4b34cd78d80a7112b915c5d",
            "e40c4ee93b40413692a39ee4fb68590a",
            "bdb572ec70964b64899d0d4aa41d5863",
            "7a7774693ea442739a7b62c2bbe1328f",
            "ecc9a00505e2411c9a0b7aa4ccc99352",
            "d451266af4fb4cb59203a30617307b77",
            "7cbc7ccad9d34e7489818c1d7cb59fe6",
            "941299ad2e7f49809640bd77ee6dd0b5",
            "d4dfeb1eecae4a7b91445fd5275ba63c",
            "b711bfed76cc44f88567afbbe4c47780",
            "896d4241afb348069bc6481c2a4ee3ff",
            "fc6c54f1f89349aea2bebcb3d0922202",
            "7b7dc395eb634124ad00e640ffd1d577",
            "475d7500463b4f7da19cc761b0947594",
            "f974b7f6771a45f2b49a3bda49d10dbf",
            "033a2a3dfc2a4076a96ba7ff55acf5fe",
            "39f2902d80c0428fa3d703dd588bf1c1",
            "db990d217cf64f0ab98a355243ca9333",
            "b5ab7e754df44d3bb82a43ae973eb9bf",
            "9f0cf6fdc3324568925f6c85491753c2",
            "5852de452b174de596e5dc8938bc46f2",
            "59cfd4f8498d4ce59c90d7f635397bee",
            "c3c0aba517a24d059fcd3fd47cab99dd",
            "7dd1181c555e48c68ab50c76741b9dd8",
            "b693878f1e004bd2b790e49612b51b57",
            "1a98bbe54fd34eba8764340a70eb7be7",
            "ed0de685dfdf4b4fb0b371cd0a196792"
          ]
        },
        "id": "uN8RjuGn2Iwm",
        "outputId": "1940ec30-d565-48bd-d36f-106febdf966e"
      },
      "execution_count": 54,
      "outputs": [
        {
          "output_type": "stream",
          "name": "stdout",
          "text": [
            "Downloading http://fashion-mnist.s3-website.eu-central-1.amazonaws.com/train-images-idx3-ubyte.gz\n",
            "Downloading http://fashion-mnist.s3-website.eu-central-1.amazonaws.com/train-images-idx3-ubyte.gz to ../data/FashionMNIST/raw/train-images-idx3-ubyte.gz\n"
          ]
        },
        {
          "output_type": "display_data",
          "data": {
            "text/plain": [
              "  0%|          | 0/26421880 [00:00<?, ?it/s]"
            ],
            "application/vnd.jupyter.widget-view+json": {
              "version_major": 2,
              "version_minor": 0,
              "model_id": "4fb60bcffbc74fa7b5003474d1e0fbf2"
            }
          },
          "metadata": {}
        },
        {
          "output_type": "stream",
          "name": "stdout",
          "text": [
            "Extracting ../data/FashionMNIST/raw/train-images-idx3-ubyte.gz to ../data/FashionMNIST/raw\n",
            "\n",
            "Downloading http://fashion-mnist.s3-website.eu-central-1.amazonaws.com/train-labels-idx1-ubyte.gz\n",
            "Downloading http://fashion-mnist.s3-website.eu-central-1.amazonaws.com/train-labels-idx1-ubyte.gz to ../data/FashionMNIST/raw/train-labels-idx1-ubyte.gz\n"
          ]
        },
        {
          "output_type": "display_data",
          "data": {
            "text/plain": [
              "  0%|          | 0/29515 [00:00<?, ?it/s]"
            ],
            "application/vnd.jupyter.widget-view+json": {
              "version_major": 2,
              "version_minor": 0,
              "model_id": "24e9526d6c1d40c1aaae6f3041814f70"
            }
          },
          "metadata": {}
        },
        {
          "output_type": "stream",
          "name": "stdout",
          "text": [
            "Extracting ../data/FashionMNIST/raw/train-labels-idx1-ubyte.gz to ../data/FashionMNIST/raw\n",
            "\n",
            "Downloading http://fashion-mnist.s3-website.eu-central-1.amazonaws.com/t10k-images-idx3-ubyte.gz\n",
            "Downloading http://fashion-mnist.s3-website.eu-central-1.amazonaws.com/t10k-images-idx3-ubyte.gz to ../data/FashionMNIST/raw/t10k-images-idx3-ubyte.gz\n"
          ]
        },
        {
          "output_type": "display_data",
          "data": {
            "text/plain": [
              "  0%|          | 0/4422102 [00:00<?, ?it/s]"
            ],
            "application/vnd.jupyter.widget-view+json": {
              "version_major": 2,
              "version_minor": 0,
              "model_id": "d451266af4fb4cb59203a30617307b77"
            }
          },
          "metadata": {}
        },
        {
          "output_type": "stream",
          "name": "stdout",
          "text": [
            "Extracting ../data/FashionMNIST/raw/t10k-images-idx3-ubyte.gz to ../data/FashionMNIST/raw\n",
            "\n",
            "Downloading http://fashion-mnist.s3-website.eu-central-1.amazonaws.com/t10k-labels-idx1-ubyte.gz\n",
            "Downloading http://fashion-mnist.s3-website.eu-central-1.amazonaws.com/t10k-labels-idx1-ubyte.gz to ../data/FashionMNIST/raw/t10k-labels-idx1-ubyte.gz\n"
          ]
        },
        {
          "output_type": "display_data",
          "data": {
            "text/plain": [
              "  0%|          | 0/5148 [00:00<?, ?it/s]"
            ],
            "application/vnd.jupyter.widget-view+json": {
              "version_major": 2,
              "version_minor": 0,
              "model_id": "39f2902d80c0428fa3d703dd588bf1c1"
            }
          },
          "metadata": {}
        },
        {
          "output_type": "stream",
          "name": "stdout",
          "text": [
            "Extracting ../data/FashionMNIST/raw/t10k-labels-idx1-ubyte.gz to ../data/FashionMNIST/raw\n",
            "\n"
          ]
        },
        {
          "output_type": "stream",
          "name": "stderr",
          "text": [
            "/usr/local/lib/python3.7/dist-packages/torch/utils/data/dataloader.py:490: UserWarning: This DataLoader will create 4 worker processes in total. Our suggested max number of worker in current system is 2, which is smaller than what this DataLoader is going to create. Please be aware that excessive worker creation might get DataLoader running slow or even freeze, lower the worker number to avoid potential slowness/freeze if necessary.\n",
            "  cpuset_checked))\n"
          ]
        }
      ]
    },
    {
      "cell_type": "code",
      "source": [
        "num_inputs, num_outputs, num_hiddens = 784, 10, 256\n",
        "W1 = nn.Parameter(\n",
        "    torch.randn(num_inputs, num_hiddens, requires_grad = True)\n",
        ")\n",
        "b1 = nn.Parameter(torch.zeros(num_hiddens, requires_grad = True))\n",
        "\n",
        "W2 = nn.Parameter(torch.randn(num_hiddens,num_outputs, requires_grad = True))\n",
        "\n",
        "b2 = nn.Parameter(torch.zeros(num_outputs, requires_grad=True))\n",
        "\n",
        "params = [W1, b1, W2, b2]\n"
      ],
      "metadata": {
        "id": "KEr8eMqk2eAt"
      },
      "execution_count": 55,
      "outputs": []
    },
    {
      "cell_type": "code",
      "source": [
        "def relu(x):\n",
        "  a = torch.zeros_like(x)\n",
        "  return torch.max(x,a)\n",
        "  "
      ],
      "metadata": {
        "id": "DlU-7FoX3qTD"
      },
      "execution_count": 56,
      "outputs": []
    },
    {
      "cell_type": "code",
      "source": [
        "def net(x):\n",
        "  X = x.reshape((-1, num_inputs))\n",
        "  H = relu(X @ W1 + b1)\n",
        "  return (H @ W2 +b2)\n",
        "loss = nn.CrossEntropyLoss(reduction = 'none')\n"
      ],
      "metadata": {
        "id": "WDMqD1B93yxt"
      },
      "execution_count": 59,
      "outputs": []
    },
    {
      "cell_type": "code",
      "source": [
        "num_epochs, lr = 10, 0.1\n",
        "updater = torch.optim.SGD(params,lr=lr)\n",
        "d2l.train_ch3(net, train_iter, test_iter, loss, num_epochs,updater)"
      ],
      "metadata": {
        "colab": {
          "base_uri": "https://localhost:8080/",
          "height": 645
        },
        "id": "BgnkmafX4J03",
        "outputId": "4b35db8b-b662-49bf-ec82-bb5e159faafc"
      },
      "execution_count": 60,
      "outputs": [
        {
          "output_type": "error",
          "ename": "AssertionError",
          "evalue": "ignored",
          "traceback": [
            "\u001b[0;31m---------------------------------------------------------------------------\u001b[0m",
            "\u001b[0;31mAssertionError\u001b[0m                            Traceback (most recent call last)",
            "\u001b[0;32m<ipython-input-60-6deaef8ce4fa>\u001b[0m in \u001b[0;36m<module>\u001b[0;34m()\u001b[0m\n\u001b[1;32m      1\u001b[0m \u001b[0mnum_epochs\u001b[0m\u001b[0;34m,\u001b[0m \u001b[0mlr\u001b[0m \u001b[0;34m=\u001b[0m \u001b[0;36m10\u001b[0m\u001b[0;34m,\u001b[0m \u001b[0;36m0.1\u001b[0m\u001b[0;34m\u001b[0m\u001b[0;34m\u001b[0m\u001b[0m\n\u001b[1;32m      2\u001b[0m \u001b[0mupdater\u001b[0m \u001b[0;34m=\u001b[0m \u001b[0mtorch\u001b[0m\u001b[0;34m.\u001b[0m\u001b[0moptim\u001b[0m\u001b[0;34m.\u001b[0m\u001b[0mSGD\u001b[0m\u001b[0;34m(\u001b[0m\u001b[0mparams\u001b[0m\u001b[0;34m,\u001b[0m\u001b[0mlr\u001b[0m\u001b[0;34m=\u001b[0m\u001b[0mlr\u001b[0m\u001b[0;34m)\u001b[0m\u001b[0;34m\u001b[0m\u001b[0;34m\u001b[0m\u001b[0m\n\u001b[0;32m----> 3\u001b[0;31m \u001b[0md2l\u001b[0m\u001b[0;34m.\u001b[0m\u001b[0mtrain_ch3\u001b[0m\u001b[0;34m(\u001b[0m\u001b[0mnet\u001b[0m\u001b[0;34m,\u001b[0m \u001b[0mtrain_iter\u001b[0m\u001b[0;34m,\u001b[0m \u001b[0mtest_iter\u001b[0m\u001b[0;34m,\u001b[0m \u001b[0mloss\u001b[0m\u001b[0;34m,\u001b[0m \u001b[0mnum_epochs\u001b[0m\u001b[0;34m,\u001b[0m\u001b[0mupdater\u001b[0m\u001b[0;34m)\u001b[0m\u001b[0;34m\u001b[0m\u001b[0;34m\u001b[0m\u001b[0m\n\u001b[0m",
            "\u001b[0;32m/usr/local/lib/python3.7/dist-packages/d2l/torch.py\u001b[0m in \u001b[0;36mtrain_ch3\u001b[0;34m(net, train_iter, test_iter, loss, num_epochs, updater)\u001b[0m\n\u001b[1;32m    338\u001b[0m         \u001b[0manimator\u001b[0m\u001b[0;34m.\u001b[0m\u001b[0madd\u001b[0m\u001b[0;34m(\u001b[0m\u001b[0mepoch\u001b[0m \u001b[0;34m+\u001b[0m \u001b[0;36m1\u001b[0m\u001b[0;34m,\u001b[0m \u001b[0mtrain_metrics\u001b[0m \u001b[0;34m+\u001b[0m \u001b[0;34m(\u001b[0m\u001b[0mtest_acc\u001b[0m\u001b[0;34m,\u001b[0m\u001b[0;34m)\u001b[0m\u001b[0;34m)\u001b[0m\u001b[0;34m\u001b[0m\u001b[0;34m\u001b[0m\u001b[0m\n\u001b[1;32m    339\u001b[0m     \u001b[0mtrain_loss\u001b[0m\u001b[0;34m,\u001b[0m \u001b[0mtrain_acc\u001b[0m \u001b[0;34m=\u001b[0m \u001b[0mtrain_metrics\u001b[0m\u001b[0;34m\u001b[0m\u001b[0;34m\u001b[0m\u001b[0m\n\u001b[0;32m--> 340\u001b[0;31m     \u001b[0;32massert\u001b[0m \u001b[0mtrain_loss\u001b[0m \u001b[0;34m<\u001b[0m \u001b[0;36m0.5\u001b[0m\u001b[0;34m,\u001b[0m \u001b[0mtrain_loss\u001b[0m\u001b[0;34m\u001b[0m\u001b[0;34m\u001b[0m\u001b[0m\n\u001b[0m\u001b[1;32m    341\u001b[0m     \u001b[0;32massert\u001b[0m \u001b[0mtrain_acc\u001b[0m \u001b[0;34m<=\u001b[0m \u001b[0;36m1\u001b[0m \u001b[0;32mand\u001b[0m \u001b[0mtrain_acc\u001b[0m \u001b[0;34m>\u001b[0m \u001b[0;36m0.7\u001b[0m\u001b[0;34m,\u001b[0m \u001b[0mtrain_acc\u001b[0m\u001b[0;34m\u001b[0m\u001b[0;34m\u001b[0m\u001b[0m\n\u001b[1;32m    342\u001b[0m     \u001b[0;32massert\u001b[0m \u001b[0mtest_acc\u001b[0m \u001b[0;34m<=\u001b[0m \u001b[0;36m1\u001b[0m \u001b[0;32mand\u001b[0m \u001b[0mtest_acc\u001b[0m \u001b[0;34m>\u001b[0m \u001b[0;36m0.7\u001b[0m\u001b[0;34m,\u001b[0m \u001b[0mtest_acc\u001b[0m\u001b[0;34m\u001b[0m\u001b[0;34m\u001b[0m\u001b[0m\n",
            "\u001b[0;31mAssertionError\u001b[0m: 0.5488391613642375"
          ]
        },
        {
          "output_type": "display_data",
          "data": {
            "text/plain": [
              "<Figure size 252x180 with 1 Axes>"
            ],
            "image/svg+xml": "<?xml version=\"1.0\" encoding=\"utf-8\" standalone=\"no\"?>\n<!DOCTYPE svg PUBLIC \"-//W3C//DTD SVG 1.1//EN\"\n  \"http://www.w3.org/Graphics/SVG/1.1/DTD/svg11.dtd\">\n<!-- Created with matplotlib (https://matplotlib.org/) -->\n<svg height=\"180.65625pt\" version=\"1.1\" viewBox=\"0 0 238.965625 180.65625\" width=\"238.965625pt\" xmlns=\"http://www.w3.org/2000/svg\" xmlns:xlink=\"http://www.w3.org/1999/xlink\">\n <defs>\n  <style type=\"text/css\">\n*{stroke-linecap:butt;stroke-linejoin:round;}\n  </style>\n </defs>\n <g id=\"figure_1\">\n  <g id=\"patch_1\">\n   <path d=\"M 0 180.65625 \nL 238.965625 180.65625 \nL 238.965625 0 \nL 0 0 \nz\n\" style=\"fill:none;\"/>\n  </g>\n  <g id=\"axes_1\">\n   <g id=\"patch_2\">\n    <path d=\"M 30.103125 143.1 \nL 225.403125 143.1 \nL 225.403125 7.2 \nL 30.103125 7.2 \nz\n\" style=\"fill:#ffffff;\"/>\n   </g>\n   <g id=\"matplotlib.axis_1\">\n    <g id=\"xtick_1\">\n     <g id=\"line2d_1\">\n      <path clip-path=\"url(#p449ff77b7e)\" d=\"M 51.803125 143.1 \nL 51.803125 7.2 \n\" style=\"fill:none;stroke:#b0b0b0;stroke-linecap:square;stroke-width:0.8;\"/>\n     </g>\n     <g id=\"line2d_2\">\n      <defs>\n       <path d=\"M 0 0 \nL 0 3.5 \n\" id=\"m2db3c07ad0\" style=\"stroke:#000000;stroke-width:0.8;\"/>\n      </defs>\n      <g>\n       <use style=\"stroke:#000000;stroke-width:0.8;\" x=\"51.803125\" xlink:href=\"#m2db3c07ad0\" y=\"143.1\"/>\n      </g>\n     </g>\n     <g id=\"text_1\">\n      <!-- 2 -->\n      <defs>\n       <path d=\"M 19.1875 8.296875 \nL 53.609375 8.296875 \nL 53.609375 0 \nL 7.328125 0 \nL 7.328125 8.296875 \nQ 12.9375 14.109375 22.625 23.890625 \nQ 32.328125 33.6875 34.8125 36.53125 \nQ 39.546875 41.84375 41.421875 45.53125 \nQ 43.3125 49.21875 43.3125 52.78125 \nQ 43.3125 58.59375 39.234375 62.25 \nQ 35.15625 65.921875 28.609375 65.921875 \nQ 23.96875 65.921875 18.8125 64.3125 \nQ 13.671875 62.703125 7.8125 59.421875 \nL 7.8125 69.390625 \nQ 13.765625 71.78125 18.9375 73 \nQ 24.125 74.21875 28.421875 74.21875 \nQ 39.75 74.21875 46.484375 68.546875 \nQ 53.21875 62.890625 53.21875 53.421875 \nQ 53.21875 48.921875 51.53125 44.890625 \nQ 49.859375 40.875 45.40625 35.40625 \nQ 44.1875 33.984375 37.640625 27.21875 \nQ 31.109375 20.453125 19.1875 8.296875 \nz\n\" id=\"DejaVuSans-50\"/>\n      </defs>\n      <g transform=\"translate(48.621875 157.698438)scale(0.1 -0.1)\">\n       <use xlink:href=\"#DejaVuSans-50\"/>\n      </g>\n     </g>\n    </g>\n    <g id=\"xtick_2\">\n     <g id=\"line2d_3\">\n      <path clip-path=\"url(#p449ff77b7e)\" d=\"M 95.203125 143.1 \nL 95.203125 7.2 \n\" style=\"fill:none;stroke:#b0b0b0;stroke-linecap:square;stroke-width:0.8;\"/>\n     </g>\n     <g id=\"line2d_4\">\n      <g>\n       <use style=\"stroke:#000000;stroke-width:0.8;\" x=\"95.203125\" xlink:href=\"#m2db3c07ad0\" y=\"143.1\"/>\n      </g>\n     </g>\n     <g id=\"text_2\">\n      <!-- 4 -->\n      <defs>\n       <path d=\"M 37.796875 64.3125 \nL 12.890625 25.390625 \nL 37.796875 25.390625 \nz\nM 35.203125 72.90625 \nL 47.609375 72.90625 \nL 47.609375 25.390625 \nL 58.015625 25.390625 \nL 58.015625 17.1875 \nL 47.609375 17.1875 \nL 47.609375 0 \nL 37.796875 0 \nL 37.796875 17.1875 \nL 4.890625 17.1875 \nL 4.890625 26.703125 \nz\n\" id=\"DejaVuSans-52\"/>\n      </defs>\n      <g transform=\"translate(92.021875 157.698438)scale(0.1 -0.1)\">\n       <use xlink:href=\"#DejaVuSans-52\"/>\n      </g>\n     </g>\n    </g>\n    <g id=\"xtick_3\">\n     <g id=\"line2d_5\">\n      <path clip-path=\"url(#p449ff77b7e)\" d=\"M 138.603125 143.1 \nL 138.603125 7.2 \n\" style=\"fill:none;stroke:#b0b0b0;stroke-linecap:square;stroke-width:0.8;\"/>\n     </g>\n     <g id=\"line2d_6\">\n      <g>\n       <use style=\"stroke:#000000;stroke-width:0.8;\" x=\"138.603125\" xlink:href=\"#m2db3c07ad0\" y=\"143.1\"/>\n      </g>\n     </g>\n     <g id=\"text_3\">\n      <!-- 6 -->\n      <defs>\n       <path d=\"M 33.015625 40.375 \nQ 26.375 40.375 22.484375 35.828125 \nQ 18.609375 31.296875 18.609375 23.390625 \nQ 18.609375 15.53125 22.484375 10.953125 \nQ 26.375 6.390625 33.015625 6.390625 \nQ 39.65625 6.390625 43.53125 10.953125 \nQ 47.40625 15.53125 47.40625 23.390625 \nQ 47.40625 31.296875 43.53125 35.828125 \nQ 39.65625 40.375 33.015625 40.375 \nz\nM 52.59375 71.296875 \nL 52.59375 62.3125 \nQ 48.875 64.0625 45.09375 64.984375 \nQ 41.3125 65.921875 37.59375 65.921875 \nQ 27.828125 65.921875 22.671875 59.328125 \nQ 17.53125 52.734375 16.796875 39.40625 \nQ 19.671875 43.65625 24.015625 45.921875 \nQ 28.375 48.1875 33.59375 48.1875 \nQ 44.578125 48.1875 50.953125 41.515625 \nQ 57.328125 34.859375 57.328125 23.390625 \nQ 57.328125 12.15625 50.6875 5.359375 \nQ 44.046875 -1.421875 33.015625 -1.421875 \nQ 20.359375 -1.421875 13.671875 8.265625 \nQ 6.984375 17.96875 6.984375 36.375 \nQ 6.984375 53.65625 15.1875 63.9375 \nQ 23.390625 74.21875 37.203125 74.21875 \nQ 40.921875 74.21875 44.703125 73.484375 \nQ 48.484375 72.75 52.59375 71.296875 \nz\n\" id=\"DejaVuSans-54\"/>\n      </defs>\n      <g transform=\"translate(135.421875 157.698438)scale(0.1 -0.1)\">\n       <use xlink:href=\"#DejaVuSans-54\"/>\n      </g>\n     </g>\n    </g>\n    <g id=\"xtick_4\">\n     <g id=\"line2d_7\">\n      <path clip-path=\"url(#p449ff77b7e)\" d=\"M 182.003125 143.1 \nL 182.003125 7.2 \n\" style=\"fill:none;stroke:#b0b0b0;stroke-linecap:square;stroke-width:0.8;\"/>\n     </g>\n     <g id=\"line2d_8\">\n      <g>\n       <use style=\"stroke:#000000;stroke-width:0.8;\" x=\"182.003125\" xlink:href=\"#m2db3c07ad0\" y=\"143.1\"/>\n      </g>\n     </g>\n     <g id=\"text_4\">\n      <!-- 8 -->\n      <defs>\n       <path d=\"M 31.78125 34.625 \nQ 24.75 34.625 20.71875 30.859375 \nQ 16.703125 27.09375 16.703125 20.515625 \nQ 16.703125 13.921875 20.71875 10.15625 \nQ 24.75 6.390625 31.78125 6.390625 \nQ 38.8125 6.390625 42.859375 10.171875 \nQ 46.921875 13.96875 46.921875 20.515625 \nQ 46.921875 27.09375 42.890625 30.859375 \nQ 38.875 34.625 31.78125 34.625 \nz\nM 21.921875 38.8125 \nQ 15.578125 40.375 12.03125 44.71875 \nQ 8.5 49.078125 8.5 55.328125 \nQ 8.5 64.0625 14.71875 69.140625 \nQ 20.953125 74.21875 31.78125 74.21875 \nQ 42.671875 74.21875 48.875 69.140625 \nQ 55.078125 64.0625 55.078125 55.328125 \nQ 55.078125 49.078125 51.53125 44.71875 \nQ 48 40.375 41.703125 38.8125 \nQ 48.828125 37.15625 52.796875 32.3125 \nQ 56.78125 27.484375 56.78125 20.515625 \nQ 56.78125 9.90625 50.3125 4.234375 \nQ 43.84375 -1.421875 31.78125 -1.421875 \nQ 19.734375 -1.421875 13.25 4.234375 \nQ 6.78125 9.90625 6.78125 20.515625 \nQ 6.78125 27.484375 10.78125 32.3125 \nQ 14.796875 37.15625 21.921875 38.8125 \nz\nM 18.3125 54.390625 \nQ 18.3125 48.734375 21.84375 45.5625 \nQ 25.390625 42.390625 31.78125 42.390625 \nQ 38.140625 42.390625 41.71875 45.5625 \nQ 45.3125 48.734375 45.3125 54.390625 \nQ 45.3125 60.0625 41.71875 63.234375 \nQ 38.140625 66.40625 31.78125 66.40625 \nQ 25.390625 66.40625 21.84375 63.234375 \nQ 18.3125 60.0625 18.3125 54.390625 \nz\n\" id=\"DejaVuSans-56\"/>\n      </defs>\n      <g transform=\"translate(178.821875 157.698438)scale(0.1 -0.1)\">\n       <use xlink:href=\"#DejaVuSans-56\"/>\n      </g>\n     </g>\n    </g>\n    <g id=\"xtick_5\">\n     <g id=\"line2d_9\">\n      <path clip-path=\"url(#p449ff77b7e)\" d=\"M 225.403125 143.1 \nL 225.403125 7.2 \n\" style=\"fill:none;stroke:#b0b0b0;stroke-linecap:square;stroke-width:0.8;\"/>\n     </g>\n     <g id=\"line2d_10\">\n      <g>\n       <use style=\"stroke:#000000;stroke-width:0.8;\" x=\"225.403125\" xlink:href=\"#m2db3c07ad0\" y=\"143.1\"/>\n      </g>\n     </g>\n     <g id=\"text_5\">\n      <!-- 10 -->\n      <defs>\n       <path d=\"M 12.40625 8.296875 \nL 28.515625 8.296875 \nL 28.515625 63.921875 \nL 10.984375 60.40625 \nL 10.984375 69.390625 \nL 28.421875 72.90625 \nL 38.28125 72.90625 \nL 38.28125 8.296875 \nL 54.390625 8.296875 \nL 54.390625 0 \nL 12.40625 0 \nz\n\" id=\"DejaVuSans-49\"/>\n       <path d=\"M 31.78125 66.40625 \nQ 24.171875 66.40625 20.328125 58.90625 \nQ 16.5 51.421875 16.5 36.375 \nQ 16.5 21.390625 20.328125 13.890625 \nQ 24.171875 6.390625 31.78125 6.390625 \nQ 39.453125 6.390625 43.28125 13.890625 \nQ 47.125 21.390625 47.125 36.375 \nQ 47.125 51.421875 43.28125 58.90625 \nQ 39.453125 66.40625 31.78125 66.40625 \nz\nM 31.78125 74.21875 \nQ 44.046875 74.21875 50.515625 64.515625 \nQ 56.984375 54.828125 56.984375 36.375 \nQ 56.984375 17.96875 50.515625 8.265625 \nQ 44.046875 -1.421875 31.78125 -1.421875 \nQ 19.53125 -1.421875 13.0625 8.265625 \nQ 6.59375 17.96875 6.59375 36.375 \nQ 6.59375 54.828125 13.0625 64.515625 \nQ 19.53125 74.21875 31.78125 74.21875 \nz\n\" id=\"DejaVuSans-48\"/>\n      </defs>\n      <g transform=\"translate(219.040625 157.698438)scale(0.1 -0.1)\">\n       <use xlink:href=\"#DejaVuSans-49\"/>\n       <use x=\"63.623047\" xlink:href=\"#DejaVuSans-48\"/>\n      </g>\n     </g>\n    </g>\n    <g id=\"text_6\">\n     <!-- epoch -->\n     <defs>\n      <path d=\"M 56.203125 29.59375 \nL 56.203125 25.203125 \nL 14.890625 25.203125 \nQ 15.484375 15.921875 20.484375 11.0625 \nQ 25.484375 6.203125 34.421875 6.203125 \nQ 39.59375 6.203125 44.453125 7.46875 \nQ 49.3125 8.734375 54.109375 11.28125 \nL 54.109375 2.78125 \nQ 49.265625 0.734375 44.1875 -0.34375 \nQ 39.109375 -1.421875 33.890625 -1.421875 \nQ 20.796875 -1.421875 13.15625 6.1875 \nQ 5.515625 13.8125 5.515625 26.8125 \nQ 5.515625 40.234375 12.765625 48.109375 \nQ 20.015625 56 32.328125 56 \nQ 43.359375 56 49.78125 48.890625 \nQ 56.203125 41.796875 56.203125 29.59375 \nz\nM 47.21875 32.234375 \nQ 47.125 39.59375 43.09375 43.984375 \nQ 39.0625 48.390625 32.421875 48.390625 \nQ 24.90625 48.390625 20.390625 44.140625 \nQ 15.875 39.890625 15.1875 32.171875 \nz\n\" id=\"DejaVuSans-101\"/>\n      <path d=\"M 18.109375 8.203125 \nL 18.109375 -20.796875 \nL 9.078125 -20.796875 \nL 9.078125 54.6875 \nL 18.109375 54.6875 \nL 18.109375 46.390625 \nQ 20.953125 51.265625 25.265625 53.625 \nQ 29.59375 56 35.59375 56 \nQ 45.5625 56 51.78125 48.09375 \nQ 58.015625 40.1875 58.015625 27.296875 \nQ 58.015625 14.40625 51.78125 6.484375 \nQ 45.5625 -1.421875 35.59375 -1.421875 \nQ 29.59375 -1.421875 25.265625 0.953125 \nQ 20.953125 3.328125 18.109375 8.203125 \nz\nM 48.6875 27.296875 \nQ 48.6875 37.203125 44.609375 42.84375 \nQ 40.53125 48.484375 33.40625 48.484375 \nQ 26.265625 48.484375 22.1875 42.84375 \nQ 18.109375 37.203125 18.109375 27.296875 \nQ 18.109375 17.390625 22.1875 11.75 \nQ 26.265625 6.109375 33.40625 6.109375 \nQ 40.53125 6.109375 44.609375 11.75 \nQ 48.6875 17.390625 48.6875 27.296875 \nz\n\" id=\"DejaVuSans-112\"/>\n      <path d=\"M 30.609375 48.390625 \nQ 23.390625 48.390625 19.1875 42.75 \nQ 14.984375 37.109375 14.984375 27.296875 \nQ 14.984375 17.484375 19.15625 11.84375 \nQ 23.34375 6.203125 30.609375 6.203125 \nQ 37.796875 6.203125 41.984375 11.859375 \nQ 46.1875 17.53125 46.1875 27.296875 \nQ 46.1875 37.015625 41.984375 42.703125 \nQ 37.796875 48.390625 30.609375 48.390625 \nz\nM 30.609375 56 \nQ 42.328125 56 49.015625 48.375 \nQ 55.71875 40.765625 55.71875 27.296875 \nQ 55.71875 13.875 49.015625 6.21875 \nQ 42.328125 -1.421875 30.609375 -1.421875 \nQ 18.84375 -1.421875 12.171875 6.21875 \nQ 5.515625 13.875 5.515625 27.296875 \nQ 5.515625 40.765625 12.171875 48.375 \nQ 18.84375 56 30.609375 56 \nz\n\" id=\"DejaVuSans-111\"/>\n      <path d=\"M 48.78125 52.59375 \nL 48.78125 44.1875 \nQ 44.96875 46.296875 41.140625 47.34375 \nQ 37.3125 48.390625 33.40625 48.390625 \nQ 24.65625 48.390625 19.8125 42.84375 \nQ 14.984375 37.3125 14.984375 27.296875 \nQ 14.984375 17.28125 19.8125 11.734375 \nQ 24.65625 6.203125 33.40625 6.203125 \nQ 37.3125 6.203125 41.140625 7.25 \nQ 44.96875 8.296875 48.78125 10.40625 \nL 48.78125 2.09375 \nQ 45.015625 0.34375 40.984375 -0.53125 \nQ 36.96875 -1.421875 32.421875 -1.421875 \nQ 20.0625 -1.421875 12.78125 6.34375 \nQ 5.515625 14.109375 5.515625 27.296875 \nQ 5.515625 40.671875 12.859375 48.328125 \nQ 20.21875 56 33.015625 56 \nQ 37.15625 56 41.109375 55.140625 \nQ 45.0625 54.296875 48.78125 52.59375 \nz\n\" id=\"DejaVuSans-99\"/>\n      <path d=\"M 54.890625 33.015625 \nL 54.890625 0 \nL 45.90625 0 \nL 45.90625 32.71875 \nQ 45.90625 40.484375 42.875 44.328125 \nQ 39.84375 48.1875 33.796875 48.1875 \nQ 26.515625 48.1875 22.3125 43.546875 \nQ 18.109375 38.921875 18.109375 30.90625 \nL 18.109375 0 \nL 9.078125 0 \nL 9.078125 75.984375 \nL 18.109375 75.984375 \nL 18.109375 46.1875 \nQ 21.34375 51.125 25.703125 53.5625 \nQ 30.078125 56 35.796875 56 \nQ 45.21875 56 50.046875 50.171875 \nQ 54.890625 44.34375 54.890625 33.015625 \nz\n\" id=\"DejaVuSans-104\"/>\n     </defs>\n     <g transform=\"translate(112.525 171.376563)scale(0.1 -0.1)\">\n      <use xlink:href=\"#DejaVuSans-101\"/>\n      <use x=\"61.523438\" xlink:href=\"#DejaVuSans-112\"/>\n      <use x=\"125\" xlink:href=\"#DejaVuSans-111\"/>\n      <use x=\"186.181641\" xlink:href=\"#DejaVuSans-99\"/>\n      <use x=\"241.162109\" xlink:href=\"#DejaVuSans-104\"/>\n     </g>\n    </g>\n   </g>\n   <g id=\"matplotlib.axis_2\">\n    <g id=\"ytick_1\">\n     <g id=\"line2d_11\">\n      <path clip-path=\"url(#p449ff77b7e)\" d=\"M 30.103125 120.45 \nL 225.403125 120.45 \n\" style=\"fill:none;stroke:#b0b0b0;stroke-linecap:square;stroke-width:0.8;\"/>\n     </g>\n     <g id=\"line2d_12\">\n      <defs>\n       <path d=\"M 0 0 \nL -3.5 0 \n\" id=\"m45c6f97d7a\" style=\"stroke:#000000;stroke-width:0.8;\"/>\n      </defs>\n      <g>\n       <use style=\"stroke:#000000;stroke-width:0.8;\" x=\"30.103125\" xlink:href=\"#m45c6f97d7a\" y=\"120.45\"/>\n      </g>\n     </g>\n     <g id=\"text_7\">\n      <!-- 0.4 -->\n      <defs>\n       <path d=\"M 10.6875 12.40625 \nL 21 12.40625 \nL 21 0 \nL 10.6875 0 \nz\n\" id=\"DejaVuSans-46\"/>\n      </defs>\n      <g transform=\"translate(7.2 124.249219)scale(0.1 -0.1)\">\n       <use xlink:href=\"#DejaVuSans-48\"/>\n       <use x=\"63.623047\" xlink:href=\"#DejaVuSans-46\"/>\n       <use x=\"95.410156\" xlink:href=\"#DejaVuSans-52\"/>\n      </g>\n     </g>\n    </g>\n    <g id=\"ytick_2\">\n     <g id=\"line2d_13\">\n      <path clip-path=\"url(#p449ff77b7e)\" d=\"M 30.103125 75.15 \nL 225.403125 75.15 \n\" style=\"fill:none;stroke:#b0b0b0;stroke-linecap:square;stroke-width:0.8;\"/>\n     </g>\n     <g id=\"line2d_14\">\n      <g>\n       <use style=\"stroke:#000000;stroke-width:0.8;\" x=\"30.103125\" xlink:href=\"#m45c6f97d7a\" y=\"75.15\"/>\n      </g>\n     </g>\n     <g id=\"text_8\">\n      <!-- 0.6 -->\n      <g transform=\"translate(7.2 78.949219)scale(0.1 -0.1)\">\n       <use xlink:href=\"#DejaVuSans-48\"/>\n       <use x=\"63.623047\" xlink:href=\"#DejaVuSans-46\"/>\n       <use x=\"95.410156\" xlink:href=\"#DejaVuSans-54\"/>\n      </g>\n     </g>\n    </g>\n    <g id=\"ytick_3\">\n     <g id=\"line2d_15\">\n      <path clip-path=\"url(#p449ff77b7e)\" d=\"M 30.103125 29.85 \nL 225.403125 29.85 \n\" style=\"fill:none;stroke:#b0b0b0;stroke-linecap:square;stroke-width:0.8;\"/>\n     </g>\n     <g id=\"line2d_16\">\n      <g>\n       <use style=\"stroke:#000000;stroke-width:0.8;\" x=\"30.103125\" xlink:href=\"#m45c6f97d7a\" y=\"29.85\"/>\n      </g>\n     </g>\n     <g id=\"text_9\">\n      <!-- 0.8 -->\n      <g transform=\"translate(7.2 33.649219)scale(0.1 -0.1)\">\n       <use xlink:href=\"#DejaVuSans-48\"/>\n       <use x=\"63.623047\" xlink:href=\"#DejaVuSans-46\"/>\n       <use x=\"95.410156\" xlink:href=\"#DejaVuSans-56\"/>\n      </g>\n     </g>\n    </g>\n   </g>\n   <g id=\"line2d_17\">\n    <path clip-path=\"url(#p449ff77b7e)\" d=\"M 30.103125 54.194944 \nL 51.803125 60.144835 \nL 73.503125 65.067356 \nL 95.203125 69.284738 \nL 116.903125 72.807467 \nL 138.603125 76.315905 \nL 160.303125 79.286515 \nL 182.003125 81.959444 \nL 203.703125 85.036335 \nL 225.403125 86.73793 \n\" style=\"fill:none;stroke:#1f77b4;stroke-linecap:square;stroke-width:1.5;\"/>\n   </g>\n   <g id=\"line2d_18\">\n    <path clip-path=\"url(#p449ff77b7e)\" d=\"M 30.103125 27.958725 \nL 51.803125 27.384925 \nL 73.503125 26.954575 \nL 95.203125 26.305275 \nL 116.903125 26.184475 \nL 138.603125 25.489875 \nL 160.303125 25.331325 \nL 182.003125 24.82925 \nL 203.703125 24.27055 \nL 225.403125 24.4291 \n\" style=\"fill:none;stroke:#bf00bf;stroke-dasharray:5.55,2.4;stroke-dashoffset:0;stroke-width:1.5;\"/>\n   </g>\n   <g id=\"line2d_19\">\n    <path clip-path=\"url(#p449ff77b7e)\" d=\"M 30.103125 32.6133 \nL 51.803125 34.08555 \nL 73.503125 32.63595 \nL 95.203125 33.63255 \nL 116.903125 31.0278 \nL 138.603125 30.86925 \nL 160.303125 30.86925 \nL 182.003125 30.32565 \nL 203.703125 29.7141 \nL 225.403125 29.32905 \n\" style=\"fill:none;stroke:#008000;stroke-dasharray:9.6,2.4,1.5,2.4;stroke-dashoffset:0;stroke-width:1.5;\"/>\n   </g>\n   <g id=\"patch_3\">\n    <path d=\"M 30.103125 143.1 \nL 30.103125 7.2 \n\" style=\"fill:none;stroke:#000000;stroke-linecap:square;stroke-linejoin:miter;stroke-width:0.8;\"/>\n   </g>\n   <g id=\"patch_4\">\n    <path d=\"M 225.403125 143.1 \nL 225.403125 7.2 \n\" style=\"fill:none;stroke:#000000;stroke-linecap:square;stroke-linejoin:miter;stroke-width:0.8;\"/>\n   </g>\n   <g id=\"patch_5\">\n    <path d=\"M 30.103125 143.1 \nL 225.403125 143.1 \n\" style=\"fill:none;stroke:#000000;stroke-linecap:square;stroke-linejoin:miter;stroke-width:0.8;\"/>\n   </g>\n   <g id=\"patch_6\">\n    <path d=\"M 30.103125 7.2 \nL 225.403125 7.2 \n\" style=\"fill:none;stroke:#000000;stroke-linecap:square;stroke-linejoin:miter;stroke-width:0.8;\"/>\n   </g>\n   <g id=\"legend_1\">\n    <g id=\"patch_7\">\n     <path d=\"M 37.103125 138.1 \nL 114.871875 138.1 \nQ 116.871875 138.1 116.871875 136.1 \nL 116.871875 93.065625 \nQ 116.871875 91.065625 114.871875 91.065625 \nL 37.103125 91.065625 \nQ 35.103125 91.065625 35.103125 93.065625 \nL 35.103125 136.1 \nQ 35.103125 138.1 37.103125 138.1 \nz\n\" style=\"fill:#ffffff;opacity:0.8;stroke:#cccccc;stroke-linejoin:miter;\"/>\n    </g>\n    <g id=\"line2d_20\">\n     <path d=\"M 39.103125 99.164062 \nL 59.103125 99.164062 \n\" style=\"fill:none;stroke:#1f77b4;stroke-linecap:square;stroke-width:1.5;\"/>\n    </g>\n    <g id=\"line2d_21\"/>\n    <g id=\"text_10\">\n     <!-- train loss -->\n     <defs>\n      <path d=\"M 18.3125 70.21875 \nL 18.3125 54.6875 \nL 36.8125 54.6875 \nL 36.8125 47.703125 \nL 18.3125 47.703125 \nL 18.3125 18.015625 \nQ 18.3125 11.328125 20.140625 9.421875 \nQ 21.96875 7.515625 27.59375 7.515625 \nL 36.8125 7.515625 \nL 36.8125 0 \nL 27.59375 0 \nQ 17.1875 0 13.234375 3.875 \nQ 9.28125 7.765625 9.28125 18.015625 \nL 9.28125 47.703125 \nL 2.6875 47.703125 \nL 2.6875 54.6875 \nL 9.28125 54.6875 \nL 9.28125 70.21875 \nz\n\" id=\"DejaVuSans-116\"/>\n      <path d=\"M 41.109375 46.296875 \nQ 39.59375 47.171875 37.8125 47.578125 \nQ 36.03125 48 33.890625 48 \nQ 26.265625 48 22.1875 43.046875 \nQ 18.109375 38.09375 18.109375 28.8125 \nL 18.109375 0 \nL 9.078125 0 \nL 9.078125 54.6875 \nL 18.109375 54.6875 \nL 18.109375 46.1875 \nQ 20.953125 51.171875 25.484375 53.578125 \nQ 30.03125 56 36.53125 56 \nQ 37.453125 56 38.578125 55.875 \nQ 39.703125 55.765625 41.0625 55.515625 \nz\n\" id=\"DejaVuSans-114\"/>\n      <path d=\"M 34.28125 27.484375 \nQ 23.390625 27.484375 19.1875 25 \nQ 14.984375 22.515625 14.984375 16.5 \nQ 14.984375 11.71875 18.140625 8.90625 \nQ 21.296875 6.109375 26.703125 6.109375 \nQ 34.1875 6.109375 38.703125 11.40625 \nQ 43.21875 16.703125 43.21875 25.484375 \nL 43.21875 27.484375 \nz\nM 52.203125 31.203125 \nL 52.203125 0 \nL 43.21875 0 \nL 43.21875 8.296875 \nQ 40.140625 3.328125 35.546875 0.953125 \nQ 30.953125 -1.421875 24.3125 -1.421875 \nQ 15.921875 -1.421875 10.953125 3.296875 \nQ 6 8.015625 6 15.921875 \nQ 6 25.140625 12.171875 29.828125 \nQ 18.359375 34.515625 30.609375 34.515625 \nL 43.21875 34.515625 \nL 43.21875 35.40625 \nQ 43.21875 41.609375 39.140625 45 \nQ 35.0625 48.390625 27.6875 48.390625 \nQ 23 48.390625 18.546875 47.265625 \nQ 14.109375 46.140625 10.015625 43.890625 \nL 10.015625 52.203125 \nQ 14.9375 54.109375 19.578125 55.046875 \nQ 24.21875 56 28.609375 56 \nQ 40.484375 56 46.34375 49.84375 \nQ 52.203125 43.703125 52.203125 31.203125 \nz\n\" id=\"DejaVuSans-97\"/>\n      <path d=\"M 9.421875 54.6875 \nL 18.40625 54.6875 \nL 18.40625 0 \nL 9.421875 0 \nz\nM 9.421875 75.984375 \nL 18.40625 75.984375 \nL 18.40625 64.59375 \nL 9.421875 64.59375 \nz\n\" id=\"DejaVuSans-105\"/>\n      <path d=\"M 54.890625 33.015625 \nL 54.890625 0 \nL 45.90625 0 \nL 45.90625 32.71875 \nQ 45.90625 40.484375 42.875 44.328125 \nQ 39.84375 48.1875 33.796875 48.1875 \nQ 26.515625 48.1875 22.3125 43.546875 \nQ 18.109375 38.921875 18.109375 30.90625 \nL 18.109375 0 \nL 9.078125 0 \nL 9.078125 54.6875 \nL 18.109375 54.6875 \nL 18.109375 46.1875 \nQ 21.34375 51.125 25.703125 53.5625 \nQ 30.078125 56 35.796875 56 \nQ 45.21875 56 50.046875 50.171875 \nQ 54.890625 44.34375 54.890625 33.015625 \nz\n\" id=\"DejaVuSans-110\"/>\n      <path id=\"DejaVuSans-32\"/>\n      <path d=\"M 9.421875 75.984375 \nL 18.40625 75.984375 \nL 18.40625 0 \nL 9.421875 0 \nz\n\" id=\"DejaVuSans-108\"/>\n      <path d=\"M 44.28125 53.078125 \nL 44.28125 44.578125 \nQ 40.484375 46.53125 36.375 47.5 \nQ 32.28125 48.484375 27.875 48.484375 \nQ 21.1875 48.484375 17.84375 46.4375 \nQ 14.5 44.390625 14.5 40.28125 \nQ 14.5 37.15625 16.890625 35.375 \nQ 19.28125 33.59375 26.515625 31.984375 \nL 29.59375 31.296875 \nQ 39.15625 29.25 43.1875 25.515625 \nQ 47.21875 21.78125 47.21875 15.09375 \nQ 47.21875 7.46875 41.1875 3.015625 \nQ 35.15625 -1.421875 24.609375 -1.421875 \nQ 20.21875 -1.421875 15.453125 -0.5625 \nQ 10.6875 0.296875 5.421875 2 \nL 5.421875 11.28125 \nQ 10.40625 8.6875 15.234375 7.390625 \nQ 20.0625 6.109375 24.8125 6.109375 \nQ 31.15625 6.109375 34.5625 8.28125 \nQ 37.984375 10.453125 37.984375 14.40625 \nQ 37.984375 18.0625 35.515625 20.015625 \nQ 33.0625 21.96875 24.703125 23.78125 \nL 21.578125 24.515625 \nQ 13.234375 26.265625 9.515625 29.90625 \nQ 5.8125 33.546875 5.8125 39.890625 \nQ 5.8125 47.609375 11.28125 51.796875 \nQ 16.75 56 26.8125 56 \nQ 31.78125 56 36.171875 55.265625 \nQ 40.578125 54.546875 44.28125 53.078125 \nz\n\" id=\"DejaVuSans-115\"/>\n     </defs>\n     <g transform=\"translate(67.103125 102.664062)scale(0.1 -0.1)\">\n      <use xlink:href=\"#DejaVuSans-116\"/>\n      <use x=\"39.208984\" xlink:href=\"#DejaVuSans-114\"/>\n      <use x=\"80.322266\" xlink:href=\"#DejaVuSans-97\"/>\n      <use x=\"141.601562\" xlink:href=\"#DejaVuSans-105\"/>\n      <use x=\"169.384766\" xlink:href=\"#DejaVuSans-110\"/>\n      <use x=\"232.763672\" xlink:href=\"#DejaVuSans-32\"/>\n      <use x=\"264.550781\" xlink:href=\"#DejaVuSans-108\"/>\n      <use x=\"292.333984\" xlink:href=\"#DejaVuSans-111\"/>\n      <use x=\"353.515625\" xlink:href=\"#DejaVuSans-115\"/>\n      <use x=\"405.615234\" xlink:href=\"#DejaVuSans-115\"/>\n     </g>\n    </g>\n    <g id=\"line2d_22\">\n     <path d=\"M 39.103125 113.842187 \nL 59.103125 113.842187 \n\" style=\"fill:none;stroke:#bf00bf;stroke-dasharray:5.55,2.4;stroke-dashoffset:0;stroke-width:1.5;\"/>\n    </g>\n    <g id=\"line2d_23\"/>\n    <g id=\"text_11\">\n     <!-- train acc -->\n     <g transform=\"translate(67.103125 117.342187)scale(0.1 -0.1)\">\n      <use xlink:href=\"#DejaVuSans-116\"/>\n      <use x=\"39.208984\" xlink:href=\"#DejaVuSans-114\"/>\n      <use x=\"80.322266\" xlink:href=\"#DejaVuSans-97\"/>\n      <use x=\"141.601562\" xlink:href=\"#DejaVuSans-105\"/>\n      <use x=\"169.384766\" xlink:href=\"#DejaVuSans-110\"/>\n      <use x=\"232.763672\" xlink:href=\"#DejaVuSans-32\"/>\n      <use x=\"264.550781\" xlink:href=\"#DejaVuSans-97\"/>\n      <use x=\"325.830078\" xlink:href=\"#DejaVuSans-99\"/>\n      <use x=\"380.810547\" xlink:href=\"#DejaVuSans-99\"/>\n     </g>\n    </g>\n    <g id=\"line2d_24\">\n     <path d=\"M 39.103125 128.520312 \nL 59.103125 128.520312 \n\" style=\"fill:none;stroke:#008000;stroke-dasharray:9.6,2.4,1.5,2.4;stroke-dashoffset:0;stroke-width:1.5;\"/>\n    </g>\n    <g id=\"line2d_25\"/>\n    <g id=\"text_12\">\n     <!-- test acc -->\n     <g transform=\"translate(67.103125 132.020312)scale(0.1 -0.1)\">\n      <use xlink:href=\"#DejaVuSans-116\"/>\n      <use x=\"39.208984\" xlink:href=\"#DejaVuSans-101\"/>\n      <use x=\"100.732422\" xlink:href=\"#DejaVuSans-115\"/>\n      <use x=\"152.832031\" xlink:href=\"#DejaVuSans-116\"/>\n      <use x=\"192.041016\" xlink:href=\"#DejaVuSans-32\"/>\n      <use x=\"223.828125\" xlink:href=\"#DejaVuSans-97\"/>\n      <use x=\"285.107422\" xlink:href=\"#DejaVuSans-99\"/>\n      <use x=\"340.087891\" xlink:href=\"#DejaVuSans-99\"/>\n     </g>\n    </g>\n   </g>\n  </g>\n </g>\n <defs>\n  <clipPath id=\"p449ff77b7e\">\n   <rect height=\"135.9\" width=\"195.3\" x=\"30.103125\" y=\"7.2\"/>\n  </clipPath>\n </defs>\n</svg>\n"
          },
          "metadata": {
            "needs_background": "light"
          }
        }
      ]
    },
    {
      "cell_type": "markdown",
      "source": [
        "# Kaggle：预测房价"
      ],
      "metadata": {
        "id": "UeGQh3XL6gjk"
      }
    },
    {
      "cell_type": "code",
      "source": [
        "import hashlib\n",
        "import os\n",
        "import tarfile\n",
        "import zipfile\n",
        "import requests\n",
        "\n",
        "\n",
        "DATA_HUB = dict()\n",
        "DATA_URL = 'http://d2l-data.s3-accelerate.amazonaws.com/'"
      ],
      "metadata": {
        "id": "ep14y-Mg9WH6"
      },
      "execution_count": 64,
      "outputs": []
    },
    {
      "cell_type": "code",
      "source": [
        "def download(name, cache_dir=os.path.join('..', 'data')):  #save\n",
        "    \"\"\"下载一个DATA_HUB中的文件，返回本地文件名\"\"\"\n",
        "    assert name in DATA_HUB, f\"{name} 不存在于 {DATA_HUB}\"\n",
        "    url, sha1_hash = DATA_HUB[name]\n",
        "    os.makedirs(cache_dir, exist_ok=True)\n",
        "    fname = os.path.join(cache_dir, url.split('/')[-1])\n",
        "    if os.path.exists(fname):\n",
        "        sha1 = hashlib.sha1()\n",
        "        with open(fname, 'rb') as f:\n",
        "            while True:\n",
        "                data = f.read(1048576)\n",
        "                if not data:\n",
        "                    break\n",
        "                sha1.update(data)\n",
        "        if sha1.hexdigest() == sha1_hash:\n",
        "            return fname  # 命中缓存\n",
        "    print(f'正在从{url}下载{fname}...')\n",
        "    r = requests.get(url, stream=True, verify=True)\n",
        "    with open(fname, 'wb') as f:\n",
        "        f.write(r.content)\n",
        "    return fname"
      ],
      "metadata": {
        "id": "mx17-6hh9ck9"
      },
      "execution_count": 65,
      "outputs": []
    },
    {
      "cell_type": "code",
      "source": [
        "def download_extract(name, folder=None):  #save\n",
        "    \"\"\"下载并解压zip/tar文件\"\"\"\n",
        "    fname = download(name)\n",
        "    base_dir = os.path.dirname(fname)\n",
        "    data_dir, ext = os.path.splitext(fname)\n",
        "    if ext == '.zip':\n",
        "        fp = zipfile.ZipFile(fname, 'r')\n",
        "    elif ext in ('.tar', '.gz'):\n",
        "        fp = tarfile.open(fname, 'r')\n",
        "    else:\n",
        "        assert False, '只有zip/tar文件可以被解压缩'\n",
        "    fp.extractall(base_dir)\n",
        "    return os.path.join(base_dir, folder) if folder else data_dir\n",
        "\n",
        "def download_all():  #save\n",
        "    \"\"\"下载DATA_HUB中的所有文件\"\"\"\n",
        "    for name in DATA_HUB:\n",
        "        download(name)"
      ],
      "metadata": {
        "id": "SHjwIYFS9mDp"
      },
      "execution_count": 67,
      "outputs": []
    },
    {
      "cell_type": "code",
      "source": [
        "!pip install mxnet\n",
        "%matplotlib inline\n",
        "import pandas as pd\n",
        "from mxnet import autograd, gluon, init, np, npx\n",
        "from mxnet.gluon import nn\n",
        "from d2l import mxnet as d2l\n",
        "\n",
        "npx.set_np()"
      ],
      "metadata": {
        "colab": {
          "base_uri": "https://localhost:8080/"
        },
        "id": "LNIiaobN9v-C",
        "outputId": "739831cc-b4ef-414d-8d83-fd2df1404679"
      },
      "execution_count": 69,
      "outputs": [
        {
          "output_type": "stream",
          "name": "stdout",
          "text": [
            "Collecting mxnet\n",
            "  Downloading mxnet-1.9.0-py3-none-manylinux2014_x86_64.whl (47.3 MB)\n",
            "\u001b[K     |████████████████████████████████| 47.3 MB 2.0 MB/s \n",
            "\u001b[?25hRequirement already satisfied: requests<3,>=2.20.0 in /usr/local/lib/python3.7/dist-packages (from mxnet) (2.25.1)\n",
            "Collecting graphviz<0.9.0,>=0.8.1\n",
            "  Downloading graphviz-0.8.4-py2.py3-none-any.whl (16 kB)\n",
            "Requirement already satisfied: numpy<2.0.0,>1.16.0 in /usr/local/lib/python3.7/dist-packages (from mxnet) (1.21.5)\n",
            "Requirement already satisfied: urllib3<1.27,>=1.21.1 in /usr/local/lib/python3.7/dist-packages (from requests<3,>=2.20.0->mxnet) (1.24.3)\n",
            "Requirement already satisfied: certifi>=2017.4.17 in /usr/local/lib/python3.7/dist-packages (from requests<3,>=2.20.0->mxnet) (2021.10.8)\n",
            "Requirement already satisfied: idna<3,>=2.5 in /usr/local/lib/python3.7/dist-packages (from requests<3,>=2.20.0->mxnet) (2.10)\n",
            "Requirement already satisfied: chardet<5,>=3.0.2 in /usr/local/lib/python3.7/dist-packages (from requests<3,>=2.20.0->mxnet) (3.0.4)\n",
            "Installing collected packages: graphviz, mxnet\n",
            "  Attempting uninstall: graphviz\n",
            "    Found existing installation: graphviz 0.10.1\n",
            "    Uninstalling graphviz-0.10.1:\n",
            "      Successfully uninstalled graphviz-0.10.1\n",
            "Successfully installed graphviz-0.8.4 mxnet-1.9.0\n"
          ]
        }
      ]
    },
    {
      "cell_type": "code",
      "source": [
        "%matplotlib inline\n",
        "import numpy as np\n",
        "import pandas as pd\n",
        "import torch\n",
        "from torch import nn\n",
        "from d2l import torch as d2l"
      ],
      "metadata": {
        "id": "EEJlvnEA8PQq"
      },
      "execution_count": 70,
      "outputs": []
    },
    {
      "cell_type": "code",
      "source": [
        "DATA_HUB['kaggle_house_train'] = (  #save\n",
        "    DATA_URL + 'kaggle_house_pred_train.csv',\n",
        "    '585e9cc93e70b39160e7921475f9bcd7d31219ce')\n",
        "\n",
        "DATA_HUB['kaggle_house_test'] = (  #save\n",
        "    DATA_URL + 'kaggle_house_pred_test.csv',\n",
        "    'fa19780a7b011d9b009e8bff8e99922a8ee2eb90')"
      ],
      "metadata": {
        "id": "BdSqtHol-SSV"
      },
      "execution_count": 72,
      "outputs": []
    },
    {
      "cell_type": "code",
      "source": [
        "train_data = pd.read_csv(download('kaggle_house_train'))\n",
        "test_data = pd.read_csv(download('kaggle_house_test'))\n"
      ],
      "metadata": {
        "colab": {
          "base_uri": "https://localhost:8080/"
        },
        "id": "5uDp0X6Z-ZS-",
        "outputId": "ad04ba8b-97e8-4718-e789-42d85295ed02"
      },
      "execution_count": 73,
      "outputs": [
        {
          "output_type": "stream",
          "name": "stdout",
          "text": [
            "正在从http://d2l-data.s3-accelerate.amazonaws.com/kaggle_house_pred_train.csv下载../data/kaggle_house_pred_train.csv...\n",
            "正在从http://d2l-data.s3-accelerate.amazonaws.com/kaggle_house_pred_test.csv下载../data/kaggle_house_pred_test.csv...\n"
          ]
        }
      ]
    },
    {
      "cell_type": "code",
      "source": [
        "print(train_data.shape)\n",
        "print(test_data.shape)"
      ],
      "metadata": {
        "colab": {
          "base_uri": "https://localhost:8080/"
        },
        "id": "BR5RcQ2S-dz0",
        "outputId": "86cbb224-f842-452e-f247-38b1ba21efa9"
      },
      "execution_count": 74,
      "outputs": [
        {
          "output_type": "stream",
          "name": "stdout",
          "text": [
            "(1460, 81)\n",
            "(1459, 80)\n"
          ]
        }
      ]
    },
    {
      "cell_type": "code",
      "source": [
        "print(train_data.iloc[0:4, [0, 1, 2, 3, -3, -2, -1]])\n"
      ],
      "metadata": {
        "colab": {
          "base_uri": "https://localhost:8080/"
        },
        "id": "362jMhhA-k0y",
        "outputId": "f812ea59-41df-41a1-e30c-572f2fb9d4a1"
      },
      "execution_count": 75,
      "outputs": [
        {
          "output_type": "stream",
          "name": "stdout",
          "text": [
            "   Id  MSSubClass MSZoning  LotFrontage SaleType SaleCondition  SalePrice\n",
            "0   1          60       RL         65.0       WD        Normal     208500\n",
            "1   2          20       RL         80.0       WD        Normal     181500\n",
            "2   3          60       RL         68.0       WD        Normal     223500\n",
            "3   4          70       RL         60.0       WD       Abnorml     140000\n"
          ]
        }
      ]
    },
    {
      "cell_type": "code",
      "source": [
        "all_features = pd.concat((train_data.iloc[:, 1:-1], test_data.iloc[:, 1:]))\n"
      ],
      "metadata": {
        "id": "j12vFual-nzm"
      },
      "execution_count": 76,
      "outputs": []
    }
  ]
}